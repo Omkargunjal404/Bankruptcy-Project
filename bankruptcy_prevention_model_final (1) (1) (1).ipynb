{
 "cells": [
  {
   "cell_type": "markdown",
   "metadata": {
    "id": "HYTtWrs177dS"
   },
   "source": [
    "#**Bankruptcy Prevention System**"
   ]
  },
  {
   "cell_type": "markdown",
   "metadata": {
    "id": "67-SXESN2gxo"
   },
   "source": [
    "Problem Statement\n",
    "  \n",
    "Business Objective:\n",
    "This is a classification project, since the variable to predict is binary (bankruptcy or non-bankruptcy). The goal here is to model the probability that a business goes bankrupt from different features.\n",
    "\n",
    "\n",
    "  \n"
   ]
  },
  {
   "cell_type": "markdown",
   "metadata": {
    "id": "dEu03uwy8MxD"
   },
   "source": [
    "Importing libraries"
   ]
  },
  {
   "cell_type": "code",
   "execution_count": 314,
   "metadata": {
    "ExecuteTime": {
     "end_time": "2023-02-16T12:37:36.798536Z",
     "start_time": "2023-02-16T12:37:35.227831Z"
    },
    "id": "Q81qlvcIdwby"
   },
   "outputs": [],
   "source": [
    "import pandas as pd \n",
    "import numpy as np\n",
    "import matplotlib.pyplot as plt\n",
    "import seaborn as sns\n",
    "from sklearn import preprocessing"
   ]
  },
  {
   "cell_type": "code",
   "execution_count": 315,
   "metadata": {
    "ExecuteTime": {
     "end_time": "2023-02-16T12:37:36.814019Z",
     "start_time": "2023-02-16T12:37:36.800714Z"
    },
    "id": "XkjxigqkgEyC"
   },
   "outputs": [],
   "source": [
    "df = pd.read_csv(\"bankruptcy-prevention.csv\", sep =';')\n",
    "#loading data and use seperator for seperate the columns"
   ]
  },
  {
   "cell_type": "code",
   "execution_count": 316,
   "metadata": {
    "ExecuteTime": {
     "end_time": "2023-02-16T12:37:36.845107Z",
     "start_time": "2023-02-16T12:37:36.816020Z"
    },
    "colab": {
     "base_uri": "https://localhost:8080/",
     "height": 423
    },
    "id": "Qps31-hfpAnE",
    "outputId": "1cfb21ff-a012-4d4c-cfab-6e71e40e09d4"
   },
   "outputs": [
    {
     "data": {
      "text/html": [
       "\n",
       "  <div id=\"df-311977a6-88ce-4cbb-8fd0-030cf0986b80\">\n",
       "    <div class=\"colab-df-container\">\n",
       "      <div>\n",
       "<style scoped>\n",
       "    .dataframe tbody tr th:only-of-type {\n",
       "        vertical-align: middle;\n",
       "    }\n",
       "\n",
       "    .dataframe tbody tr th {\n",
       "        vertical-align: top;\n",
       "    }\n",
       "\n",
       "    .dataframe thead th {\n",
       "        text-align: right;\n",
       "    }\n",
       "</style>\n",
       "<table border=\"1\" class=\"dataframe\">\n",
       "  <thead>\n",
       "    <tr style=\"text-align: right;\">\n",
       "      <th></th>\n",
       "      <th>industrial_risk</th>\n",
       "      <th>management_risk</th>\n",
       "      <th>financial_flexibility</th>\n",
       "      <th>credibility</th>\n",
       "      <th>competitiveness</th>\n",
       "      <th>operating_risk</th>\n",
       "      <th>class</th>\n",
       "    </tr>\n",
       "  </thead>\n",
       "  <tbody>\n",
       "    <tr>\n",
       "      <th>0</th>\n",
       "      <td>0.5</td>\n",
       "      <td>1.0</td>\n",
       "      <td>0.0</td>\n",
       "      <td>0.0</td>\n",
       "      <td>0.0</td>\n",
       "      <td>0.5</td>\n",
       "      <td>bankruptcy</td>\n",
       "    </tr>\n",
       "    <tr>\n",
       "      <th>1</th>\n",
       "      <td>0.0</td>\n",
       "      <td>1.0</td>\n",
       "      <td>0.0</td>\n",
       "      <td>0.0</td>\n",
       "      <td>0.0</td>\n",
       "      <td>1.0</td>\n",
       "      <td>bankruptcy</td>\n",
       "    </tr>\n",
       "    <tr>\n",
       "      <th>2</th>\n",
       "      <td>1.0</td>\n",
       "      <td>0.0</td>\n",
       "      <td>0.0</td>\n",
       "      <td>0.0</td>\n",
       "      <td>0.0</td>\n",
       "      <td>1.0</td>\n",
       "      <td>bankruptcy</td>\n",
       "    </tr>\n",
       "    <tr>\n",
       "      <th>3</th>\n",
       "      <td>0.5</td>\n",
       "      <td>0.0</td>\n",
       "      <td>0.0</td>\n",
       "      <td>0.5</td>\n",
       "      <td>0.0</td>\n",
       "      <td>1.0</td>\n",
       "      <td>bankruptcy</td>\n",
       "    </tr>\n",
       "    <tr>\n",
       "      <th>4</th>\n",
       "      <td>1.0</td>\n",
       "      <td>1.0</td>\n",
       "      <td>0.0</td>\n",
       "      <td>0.0</td>\n",
       "      <td>0.0</td>\n",
       "      <td>1.0</td>\n",
       "      <td>bankruptcy</td>\n",
       "    </tr>\n",
       "    <tr>\n",
       "      <th>...</th>\n",
       "      <td>...</td>\n",
       "      <td>...</td>\n",
       "      <td>...</td>\n",
       "      <td>...</td>\n",
       "      <td>...</td>\n",
       "      <td>...</td>\n",
       "      <td>...</td>\n",
       "    </tr>\n",
       "    <tr>\n",
       "      <th>245</th>\n",
       "      <td>0.0</td>\n",
       "      <td>1.0</td>\n",
       "      <td>1.0</td>\n",
       "      <td>1.0</td>\n",
       "      <td>1.0</td>\n",
       "      <td>1.0</td>\n",
       "      <td>non-bankruptcy</td>\n",
       "    </tr>\n",
       "    <tr>\n",
       "      <th>246</th>\n",
       "      <td>1.0</td>\n",
       "      <td>1.0</td>\n",
       "      <td>0.5</td>\n",
       "      <td>1.0</td>\n",
       "      <td>1.0</td>\n",
       "      <td>0.0</td>\n",
       "      <td>non-bankruptcy</td>\n",
       "    </tr>\n",
       "    <tr>\n",
       "      <th>247</th>\n",
       "      <td>0.0</td>\n",
       "      <td>1.0</td>\n",
       "      <td>1.0</td>\n",
       "      <td>0.5</td>\n",
       "      <td>0.5</td>\n",
       "      <td>0.0</td>\n",
       "      <td>non-bankruptcy</td>\n",
       "    </tr>\n",
       "    <tr>\n",
       "      <th>248</th>\n",
       "      <td>1.0</td>\n",
       "      <td>0.0</td>\n",
       "      <td>0.5</td>\n",
       "      <td>1.0</td>\n",
       "      <td>0.5</td>\n",
       "      <td>0.0</td>\n",
       "      <td>non-bankruptcy</td>\n",
       "    </tr>\n",
       "    <tr>\n",
       "      <th>249</th>\n",
       "      <td>1.0</td>\n",
       "      <td>0.0</td>\n",
       "      <td>0.5</td>\n",
       "      <td>0.5</td>\n",
       "      <td>1.0</td>\n",
       "      <td>1.0</td>\n",
       "      <td>non-bankruptcy</td>\n",
       "    </tr>\n",
       "  </tbody>\n",
       "</table>\n",
       "<p>250 rows × 7 columns</p>\n",
       "</div>\n",
       "      <button class=\"colab-df-convert\" onclick=\"convertToInteractive('df-311977a6-88ce-4cbb-8fd0-030cf0986b80')\"\n",
       "              title=\"Convert this dataframe to an interactive table.\"\n",
       "              style=\"display:none;\">\n",
       "        \n",
       "  <svg xmlns=\"http://www.w3.org/2000/svg\" height=\"24px\"viewBox=\"0 0 24 24\"\n",
       "       width=\"24px\">\n",
       "    <path d=\"M0 0h24v24H0V0z\" fill=\"none\"/>\n",
       "    <path d=\"M18.56 5.44l.94 2.06.94-2.06 2.06-.94-2.06-.94-.94-2.06-.94 2.06-2.06.94zm-11 1L8.5 8.5l.94-2.06 2.06-.94-2.06-.94L8.5 2.5l-.94 2.06-2.06.94zm10 10l.94 2.06.94-2.06 2.06-.94-2.06-.94-.94-2.06-.94 2.06-2.06.94z\"/><path d=\"M17.41 7.96l-1.37-1.37c-.4-.4-.92-.59-1.43-.59-.52 0-1.04.2-1.43.59L10.3 9.45l-7.72 7.72c-.78.78-.78 2.05 0 2.83L4 21.41c.39.39.9.59 1.41.59.51 0 1.02-.2 1.41-.59l7.78-7.78 2.81-2.81c.8-.78.8-2.07 0-2.86zM5.41 20L4 18.59l7.72-7.72 1.47 1.35L5.41 20z\"/>\n",
       "  </svg>\n",
       "      </button>\n",
       "      \n",
       "  <style>\n",
       "    .colab-df-container {\n",
       "      display:flex;\n",
       "      flex-wrap:wrap;\n",
       "      gap: 12px;\n",
       "    }\n",
       "\n",
       "    .colab-df-convert {\n",
       "      background-color: #E8F0FE;\n",
       "      border: none;\n",
       "      border-radius: 50%;\n",
       "      cursor: pointer;\n",
       "      display: none;\n",
       "      fill: #1967D2;\n",
       "      height: 32px;\n",
       "      padding: 0 0 0 0;\n",
       "      width: 32px;\n",
       "    }\n",
       "\n",
       "    .colab-df-convert:hover {\n",
       "      background-color: #E2EBFA;\n",
       "      box-shadow: 0px 1px 2px rgba(60, 64, 67, 0.3), 0px 1px 3px 1px rgba(60, 64, 67, 0.15);\n",
       "      fill: #174EA6;\n",
       "    }\n",
       "\n",
       "    [theme=dark] .colab-df-convert {\n",
       "      background-color: #3B4455;\n",
       "      fill: #D2E3FC;\n",
       "    }\n",
       "\n",
       "    [theme=dark] .colab-df-convert:hover {\n",
       "      background-color: #434B5C;\n",
       "      box-shadow: 0px 1px 3px 1px rgba(0, 0, 0, 0.15);\n",
       "      filter: drop-shadow(0px 1px 2px rgba(0, 0, 0, 0.3));\n",
       "      fill: #FFFFFF;\n",
       "    }\n",
       "  </style>\n",
       "\n",
       "      <script>\n",
       "        const buttonEl =\n",
       "          document.querySelector('#df-311977a6-88ce-4cbb-8fd0-030cf0986b80 button.colab-df-convert');\n",
       "        buttonEl.style.display =\n",
       "          google.colab.kernel.accessAllowed ? 'block' : 'none';\n",
       "\n",
       "        async function convertToInteractive(key) {\n",
       "          const element = document.querySelector('#df-311977a6-88ce-4cbb-8fd0-030cf0986b80');\n",
       "          const dataTable =\n",
       "            await google.colab.kernel.invokeFunction('convertToInteractive',\n",
       "                                                     [key], {});\n",
       "          if (!dataTable) return;\n",
       "\n",
       "          const docLinkHtml = 'Like what you see? Visit the ' +\n",
       "            '<a target=\"_blank\" href=https://colab.research.google.com/notebooks/data_table.ipynb>data table notebook</a>'\n",
       "            + ' to learn more about interactive tables.';\n",
       "          element.innerHTML = '';\n",
       "          dataTable['output_type'] = 'display_data';\n",
       "          await google.colab.output.renderOutput(dataTable, element);\n",
       "          const docLink = document.createElement('div');\n",
       "          docLink.innerHTML = docLinkHtml;\n",
       "          element.appendChild(docLink);\n",
       "        }\n",
       "      </script>\n",
       "    </div>\n",
       "  </div>\n",
       "  "
      ],
      "text/plain": [
       "     industrial_risk   management_risk   financial_flexibility   credibility  \\\n",
       "0                0.5               1.0                     0.0           0.0   \n",
       "1                0.0               1.0                     0.0           0.0   \n",
       "2                1.0               0.0                     0.0           0.0   \n",
       "3                0.5               0.0                     0.0           0.5   \n",
       "4                1.0               1.0                     0.0           0.0   \n",
       "..               ...               ...                     ...           ...   \n",
       "245              0.0               1.0                     1.0           1.0   \n",
       "246              1.0               1.0                     0.5           1.0   \n",
       "247              0.0               1.0                     1.0           0.5   \n",
       "248              1.0               0.0                     0.5           1.0   \n",
       "249              1.0               0.0                     0.5           0.5   \n",
       "\n",
       "      competitiveness   operating_risk           class  \n",
       "0                 0.0              0.5      bankruptcy  \n",
       "1                 0.0              1.0      bankruptcy  \n",
       "2                 0.0              1.0      bankruptcy  \n",
       "3                 0.0              1.0      bankruptcy  \n",
       "4                 0.0              1.0      bankruptcy  \n",
       "..                ...              ...             ...  \n",
       "245               1.0              1.0  non-bankruptcy  \n",
       "246               1.0              0.0  non-bankruptcy  \n",
       "247               0.5              0.0  non-bankruptcy  \n",
       "248               0.5              0.0  non-bankruptcy  \n",
       "249               1.0              1.0  non-bankruptcy  \n",
       "\n",
       "[250 rows x 7 columns]"
      ]
     },
     "execution_count": 316,
     "metadata": {},
     "output_type": "execute_result"
    }
   ],
   "source": [
    "df"
   ]
  },
  {
   "cell_type": "markdown",
   "metadata": {
    "id": "k36oNAvYZYL2"
   },
   "source": [
    "The data file contains 7 features about 250 companies\n",
    "\n",
    "The data set includes the following variables:\n",
    "industrial_risk: 0=low risk, 0.5=medium risk, 1=high risk.\n",
    "management_risk: 0=low risk, 0.5=medium risk, 1=high risk.\n",
    "financial flexibility: 0=low flexibility, 0.5=medium flexibility, 1=high flexibility.\n",
    "credibility: 0=low credibility, 0.5=medium credibility, 1=high credibility.\n",
    "competitiveness: 0=low competitiveness, 0.5=medium competitiveness, 1=high competitiveness.\n",
    "operating_risk: 0=low risk, 0.5=medium risk, 1=high risk.\n",
    "class: bankruptcy, non-bankruptcy (target variable).\n"
   ]
  },
  {
   "cell_type": "code",
   "execution_count": 317,
   "metadata": {
    "ExecuteTime": {
     "end_time": "2023-02-16T12:37:36.861397Z",
     "start_time": "2023-02-16T12:37:36.847974Z"
    },
    "colab": {
     "base_uri": "https://localhost:8080/"
    },
    "id": "Gbm8A2BLoC_O",
    "outputId": "78f4cdda-ea03-49a7-b586-9d292cea6546"
   },
   "outputs": [
    {
     "data": {
      "text/plain": [
       "Index(['industrial_risk', ' management_risk', ' financial_flexibility',\n",
       "       ' credibility', ' competitiveness', ' operating_risk', ' class'],\n",
       "      dtype='object')"
      ]
     },
     "execution_count": 317,
     "metadata": {},
     "output_type": "execute_result"
    }
   ],
   "source": [
    "df.columns"
   ]
  },
  {
   "cell_type": "code",
   "execution_count": 318,
   "metadata": {
    "ExecuteTime": {
     "end_time": "2023-02-16T12:37:36.876572Z",
     "start_time": "2023-02-16T12:37:36.863493Z"
    },
    "colab": {
     "base_uri": "https://localhost:8080/"
    },
    "id": "U5EpGkUnvj29",
    "outputId": "bf69b3d0-28d7-4673-96cc-368753083a0e"
   },
   "outputs": [
    {
     "data": {
      "text/plain": [
       "Index(['industrial_risk', 'management risk', 'financial flexibility',\n",
       "       'credibility', 'competitiveness', 'operating risk', 'class'],\n",
       "      dtype='object')"
      ]
     },
     "execution_count": 318,
     "metadata": {},
     "output_type": "execute_result"
    }
   ],
   "source": [
    "df= df.rename({' management_risk': 'management risk',' financial_flexibility':'financial flexibility',' credibility':'credibility',' competitiveness':'competitiveness',' operating_risk':'operating risk',' class':'class'}, axis=1)\n",
    "df.columns"
   ]
  },
  {
   "cell_type": "markdown",
   "metadata": {
    "id": "QY8BfYer2uLP"
   },
   "source": [
    "# Exploratory Data Analysis"
   ]
  },
  {
   "cell_type": "code",
   "execution_count": 319,
   "metadata": {
    "ExecuteTime": {
     "end_time": "2023-02-16T12:37:36.892277Z",
     "start_time": "2023-02-16T12:37:36.878570Z"
    },
    "colab": {
     "base_uri": "https://localhost:8080/",
     "height": 206
    },
    "id": "O38U9H2ypCoH",
    "outputId": "d6c87428-ef05-46a5-b37b-ac803eaf47e0"
   },
   "outputs": [
    {
     "data": {
      "text/html": [
       "\n",
       "  <div id=\"df-9b27260e-0d8b-420f-b715-8b2811aeae20\">\n",
       "    <div class=\"colab-df-container\">\n",
       "      <div>\n",
       "<style scoped>\n",
       "    .dataframe tbody tr th:only-of-type {\n",
       "        vertical-align: middle;\n",
       "    }\n",
       "\n",
       "    .dataframe tbody tr th {\n",
       "        vertical-align: top;\n",
       "    }\n",
       "\n",
       "    .dataframe thead th {\n",
       "        text-align: right;\n",
       "    }\n",
       "</style>\n",
       "<table border=\"1\" class=\"dataframe\">\n",
       "  <thead>\n",
       "    <tr style=\"text-align: right;\">\n",
       "      <th></th>\n",
       "      <th>industrial_risk</th>\n",
       "      <th>management risk</th>\n",
       "      <th>financial flexibility</th>\n",
       "      <th>credibility</th>\n",
       "      <th>competitiveness</th>\n",
       "      <th>operating risk</th>\n",
       "      <th>class</th>\n",
       "    </tr>\n",
       "  </thead>\n",
       "  <tbody>\n",
       "    <tr>\n",
       "      <th>0</th>\n",
       "      <td>0.5</td>\n",
       "      <td>1.0</td>\n",
       "      <td>0.0</td>\n",
       "      <td>0.0</td>\n",
       "      <td>0.0</td>\n",
       "      <td>0.5</td>\n",
       "      <td>bankruptcy</td>\n",
       "    </tr>\n",
       "    <tr>\n",
       "      <th>1</th>\n",
       "      <td>0.0</td>\n",
       "      <td>1.0</td>\n",
       "      <td>0.0</td>\n",
       "      <td>0.0</td>\n",
       "      <td>0.0</td>\n",
       "      <td>1.0</td>\n",
       "      <td>bankruptcy</td>\n",
       "    </tr>\n",
       "    <tr>\n",
       "      <th>2</th>\n",
       "      <td>1.0</td>\n",
       "      <td>0.0</td>\n",
       "      <td>0.0</td>\n",
       "      <td>0.0</td>\n",
       "      <td>0.0</td>\n",
       "      <td>1.0</td>\n",
       "      <td>bankruptcy</td>\n",
       "    </tr>\n",
       "    <tr>\n",
       "      <th>3</th>\n",
       "      <td>0.5</td>\n",
       "      <td>0.0</td>\n",
       "      <td>0.0</td>\n",
       "      <td>0.5</td>\n",
       "      <td>0.0</td>\n",
       "      <td>1.0</td>\n",
       "      <td>bankruptcy</td>\n",
       "    </tr>\n",
       "    <tr>\n",
       "      <th>4</th>\n",
       "      <td>1.0</td>\n",
       "      <td>1.0</td>\n",
       "      <td>0.0</td>\n",
       "      <td>0.0</td>\n",
       "      <td>0.0</td>\n",
       "      <td>1.0</td>\n",
       "      <td>bankruptcy</td>\n",
       "    </tr>\n",
       "  </tbody>\n",
       "</table>\n",
       "</div>\n",
       "      <button class=\"colab-df-convert\" onclick=\"convertToInteractive('df-9b27260e-0d8b-420f-b715-8b2811aeae20')\"\n",
       "              title=\"Convert this dataframe to an interactive table.\"\n",
       "              style=\"display:none;\">\n",
       "        \n",
       "  <svg xmlns=\"http://www.w3.org/2000/svg\" height=\"24px\"viewBox=\"0 0 24 24\"\n",
       "       width=\"24px\">\n",
       "    <path d=\"M0 0h24v24H0V0z\" fill=\"none\"/>\n",
       "    <path d=\"M18.56 5.44l.94 2.06.94-2.06 2.06-.94-2.06-.94-.94-2.06-.94 2.06-2.06.94zm-11 1L8.5 8.5l.94-2.06 2.06-.94-2.06-.94L8.5 2.5l-.94 2.06-2.06.94zm10 10l.94 2.06.94-2.06 2.06-.94-2.06-.94-.94-2.06-.94 2.06-2.06.94z\"/><path d=\"M17.41 7.96l-1.37-1.37c-.4-.4-.92-.59-1.43-.59-.52 0-1.04.2-1.43.59L10.3 9.45l-7.72 7.72c-.78.78-.78 2.05 0 2.83L4 21.41c.39.39.9.59 1.41.59.51 0 1.02-.2 1.41-.59l7.78-7.78 2.81-2.81c.8-.78.8-2.07 0-2.86zM5.41 20L4 18.59l7.72-7.72 1.47 1.35L5.41 20z\"/>\n",
       "  </svg>\n",
       "      </button>\n",
       "      \n",
       "  <style>\n",
       "    .colab-df-container {\n",
       "      display:flex;\n",
       "      flex-wrap:wrap;\n",
       "      gap: 12px;\n",
       "    }\n",
       "\n",
       "    .colab-df-convert {\n",
       "      background-color: #E8F0FE;\n",
       "      border: none;\n",
       "      border-radius: 50%;\n",
       "      cursor: pointer;\n",
       "      display: none;\n",
       "      fill: #1967D2;\n",
       "      height: 32px;\n",
       "      padding: 0 0 0 0;\n",
       "      width: 32px;\n",
       "    }\n",
       "\n",
       "    .colab-df-convert:hover {\n",
       "      background-color: #E2EBFA;\n",
       "      box-shadow: 0px 1px 2px rgba(60, 64, 67, 0.3), 0px 1px 3px 1px rgba(60, 64, 67, 0.15);\n",
       "      fill: #174EA6;\n",
       "    }\n",
       "\n",
       "    [theme=dark] .colab-df-convert {\n",
       "      background-color: #3B4455;\n",
       "      fill: #D2E3FC;\n",
       "    }\n",
       "\n",
       "    [theme=dark] .colab-df-convert:hover {\n",
       "      background-color: #434B5C;\n",
       "      box-shadow: 0px 1px 3px 1px rgba(0, 0, 0, 0.15);\n",
       "      filter: drop-shadow(0px 1px 2px rgba(0, 0, 0, 0.3));\n",
       "      fill: #FFFFFF;\n",
       "    }\n",
       "  </style>\n",
       "\n",
       "      <script>\n",
       "        const buttonEl =\n",
       "          document.querySelector('#df-9b27260e-0d8b-420f-b715-8b2811aeae20 button.colab-df-convert');\n",
       "        buttonEl.style.display =\n",
       "          google.colab.kernel.accessAllowed ? 'block' : 'none';\n",
       "\n",
       "        async function convertToInteractive(key) {\n",
       "          const element = document.querySelector('#df-9b27260e-0d8b-420f-b715-8b2811aeae20');\n",
       "          const dataTable =\n",
       "            await google.colab.kernel.invokeFunction('convertToInteractive',\n",
       "                                                     [key], {});\n",
       "          if (!dataTable) return;\n",
       "\n",
       "          const docLinkHtml = 'Like what you see? Visit the ' +\n",
       "            '<a target=\"_blank\" href=https://colab.research.google.com/notebooks/data_table.ipynb>data table notebook</a>'\n",
       "            + ' to learn more about interactive tables.';\n",
       "          element.innerHTML = '';\n",
       "          dataTable['output_type'] = 'display_data';\n",
       "          await google.colab.output.renderOutput(dataTable, element);\n",
       "          const docLink = document.createElement('div');\n",
       "          docLink.innerHTML = docLinkHtml;\n",
       "          element.appendChild(docLink);\n",
       "        }\n",
       "      </script>\n",
       "    </div>\n",
       "  </div>\n",
       "  "
      ],
      "text/plain": [
       "   industrial_risk  management risk  financial flexibility  credibility  \\\n",
       "0              0.5              1.0                    0.0          0.0   \n",
       "1              0.0              1.0                    0.0          0.0   \n",
       "2              1.0              0.0                    0.0          0.0   \n",
       "3              0.5              0.0                    0.0          0.5   \n",
       "4              1.0              1.0                    0.0          0.0   \n",
       "\n",
       "   competitiveness  operating risk       class  \n",
       "0              0.0             0.5  bankruptcy  \n",
       "1              0.0             1.0  bankruptcy  \n",
       "2              0.0             1.0  bankruptcy  \n",
       "3              0.0             1.0  bankruptcy  \n",
       "4              0.0             1.0  bankruptcy  "
      ]
     },
     "execution_count": 319,
     "metadata": {},
     "output_type": "execute_result"
    }
   ],
   "source": [
    "df.head(5)"
   ]
  },
  {
   "cell_type": "code",
   "execution_count": 320,
   "metadata": {
    "ExecuteTime": {
     "end_time": "2023-02-16T12:37:36.907546Z",
     "start_time": "2023-02-16T12:37:36.894273Z"
    },
    "colab": {
     "base_uri": "https://localhost:8080/",
     "height": 206
    },
    "id": "RZI2s_fSpJ_H",
    "outputId": "eeb507ae-035f-4ef8-c516-cc72dfd7e6f3"
   },
   "outputs": [
    {
     "data": {
      "text/html": [
       "\n",
       "  <div id=\"df-70ae7586-045d-40b6-9bb3-45ba75064fe2\">\n",
       "    <div class=\"colab-df-container\">\n",
       "      <div>\n",
       "<style scoped>\n",
       "    .dataframe tbody tr th:only-of-type {\n",
       "        vertical-align: middle;\n",
       "    }\n",
       "\n",
       "    .dataframe tbody tr th {\n",
       "        vertical-align: top;\n",
       "    }\n",
       "\n",
       "    .dataframe thead th {\n",
       "        text-align: right;\n",
       "    }\n",
       "</style>\n",
       "<table border=\"1\" class=\"dataframe\">\n",
       "  <thead>\n",
       "    <tr style=\"text-align: right;\">\n",
       "      <th></th>\n",
       "      <th>industrial_risk</th>\n",
       "      <th>management risk</th>\n",
       "      <th>financial flexibility</th>\n",
       "      <th>credibility</th>\n",
       "      <th>competitiveness</th>\n",
       "      <th>operating risk</th>\n",
       "      <th>class</th>\n",
       "    </tr>\n",
       "  </thead>\n",
       "  <tbody>\n",
       "    <tr>\n",
       "      <th>245</th>\n",
       "      <td>0.0</td>\n",
       "      <td>1.0</td>\n",
       "      <td>1.0</td>\n",
       "      <td>1.0</td>\n",
       "      <td>1.0</td>\n",
       "      <td>1.0</td>\n",
       "      <td>non-bankruptcy</td>\n",
       "    </tr>\n",
       "    <tr>\n",
       "      <th>246</th>\n",
       "      <td>1.0</td>\n",
       "      <td>1.0</td>\n",
       "      <td>0.5</td>\n",
       "      <td>1.0</td>\n",
       "      <td>1.0</td>\n",
       "      <td>0.0</td>\n",
       "      <td>non-bankruptcy</td>\n",
       "    </tr>\n",
       "    <tr>\n",
       "      <th>247</th>\n",
       "      <td>0.0</td>\n",
       "      <td>1.0</td>\n",
       "      <td>1.0</td>\n",
       "      <td>0.5</td>\n",
       "      <td>0.5</td>\n",
       "      <td>0.0</td>\n",
       "      <td>non-bankruptcy</td>\n",
       "    </tr>\n",
       "    <tr>\n",
       "      <th>248</th>\n",
       "      <td>1.0</td>\n",
       "      <td>0.0</td>\n",
       "      <td>0.5</td>\n",
       "      <td>1.0</td>\n",
       "      <td>0.5</td>\n",
       "      <td>0.0</td>\n",
       "      <td>non-bankruptcy</td>\n",
       "    </tr>\n",
       "    <tr>\n",
       "      <th>249</th>\n",
       "      <td>1.0</td>\n",
       "      <td>0.0</td>\n",
       "      <td>0.5</td>\n",
       "      <td>0.5</td>\n",
       "      <td>1.0</td>\n",
       "      <td>1.0</td>\n",
       "      <td>non-bankruptcy</td>\n",
       "    </tr>\n",
       "  </tbody>\n",
       "</table>\n",
       "</div>\n",
       "      <button class=\"colab-df-convert\" onclick=\"convertToInteractive('df-70ae7586-045d-40b6-9bb3-45ba75064fe2')\"\n",
       "              title=\"Convert this dataframe to an interactive table.\"\n",
       "              style=\"display:none;\">\n",
       "        \n",
       "  <svg xmlns=\"http://www.w3.org/2000/svg\" height=\"24px\"viewBox=\"0 0 24 24\"\n",
       "       width=\"24px\">\n",
       "    <path d=\"M0 0h24v24H0V0z\" fill=\"none\"/>\n",
       "    <path d=\"M18.56 5.44l.94 2.06.94-2.06 2.06-.94-2.06-.94-.94-2.06-.94 2.06-2.06.94zm-11 1L8.5 8.5l.94-2.06 2.06-.94-2.06-.94L8.5 2.5l-.94 2.06-2.06.94zm10 10l.94 2.06.94-2.06 2.06-.94-2.06-.94-.94-2.06-.94 2.06-2.06.94z\"/><path d=\"M17.41 7.96l-1.37-1.37c-.4-.4-.92-.59-1.43-.59-.52 0-1.04.2-1.43.59L10.3 9.45l-7.72 7.72c-.78.78-.78 2.05 0 2.83L4 21.41c.39.39.9.59 1.41.59.51 0 1.02-.2 1.41-.59l7.78-7.78 2.81-2.81c.8-.78.8-2.07 0-2.86zM5.41 20L4 18.59l7.72-7.72 1.47 1.35L5.41 20z\"/>\n",
       "  </svg>\n",
       "      </button>\n",
       "      \n",
       "  <style>\n",
       "    .colab-df-container {\n",
       "      display:flex;\n",
       "      flex-wrap:wrap;\n",
       "      gap: 12px;\n",
       "    }\n",
       "\n",
       "    .colab-df-convert {\n",
       "      background-color: #E8F0FE;\n",
       "      border: none;\n",
       "      border-radius: 50%;\n",
       "      cursor: pointer;\n",
       "      display: none;\n",
       "      fill: #1967D2;\n",
       "      height: 32px;\n",
       "      padding: 0 0 0 0;\n",
       "      width: 32px;\n",
       "    }\n",
       "\n",
       "    .colab-df-convert:hover {\n",
       "      background-color: #E2EBFA;\n",
       "      box-shadow: 0px 1px 2px rgba(60, 64, 67, 0.3), 0px 1px 3px 1px rgba(60, 64, 67, 0.15);\n",
       "      fill: #174EA6;\n",
       "    }\n",
       "\n",
       "    [theme=dark] .colab-df-convert {\n",
       "      background-color: #3B4455;\n",
       "      fill: #D2E3FC;\n",
       "    }\n",
       "\n",
       "    [theme=dark] .colab-df-convert:hover {\n",
       "      background-color: #434B5C;\n",
       "      box-shadow: 0px 1px 3px 1px rgba(0, 0, 0, 0.15);\n",
       "      filter: drop-shadow(0px 1px 2px rgba(0, 0, 0, 0.3));\n",
       "      fill: #FFFFFF;\n",
       "    }\n",
       "  </style>\n",
       "\n",
       "      <script>\n",
       "        const buttonEl =\n",
       "          document.querySelector('#df-70ae7586-045d-40b6-9bb3-45ba75064fe2 button.colab-df-convert');\n",
       "        buttonEl.style.display =\n",
       "          google.colab.kernel.accessAllowed ? 'block' : 'none';\n",
       "\n",
       "        async function convertToInteractive(key) {\n",
       "          const element = document.querySelector('#df-70ae7586-045d-40b6-9bb3-45ba75064fe2');\n",
       "          const dataTable =\n",
       "            await google.colab.kernel.invokeFunction('convertToInteractive',\n",
       "                                                     [key], {});\n",
       "          if (!dataTable) return;\n",
       "\n",
       "          const docLinkHtml = 'Like what you see? Visit the ' +\n",
       "            '<a target=\"_blank\" href=https://colab.research.google.com/notebooks/data_table.ipynb>data table notebook</a>'\n",
       "            + ' to learn more about interactive tables.';\n",
       "          element.innerHTML = '';\n",
       "          dataTable['output_type'] = 'display_data';\n",
       "          await google.colab.output.renderOutput(dataTable, element);\n",
       "          const docLink = document.createElement('div');\n",
       "          docLink.innerHTML = docLinkHtml;\n",
       "          element.appendChild(docLink);\n",
       "        }\n",
       "      </script>\n",
       "    </div>\n",
       "  </div>\n",
       "  "
      ],
      "text/plain": [
       "     industrial_risk  management risk  financial flexibility  credibility  \\\n",
       "245              0.0              1.0                    1.0          1.0   \n",
       "246              1.0              1.0                    0.5          1.0   \n",
       "247              0.0              1.0                    1.0          0.5   \n",
       "248              1.0              0.0                    0.5          1.0   \n",
       "249              1.0              0.0                    0.5          0.5   \n",
       "\n",
       "     competitiveness  operating risk           class  \n",
       "245              1.0             1.0  non-bankruptcy  \n",
       "246              1.0             0.0  non-bankruptcy  \n",
       "247              0.5             0.0  non-bankruptcy  \n",
       "248              0.5             0.0  non-bankruptcy  \n",
       "249              1.0             1.0  non-bankruptcy  "
      ]
     },
     "execution_count": 320,
     "metadata": {},
     "output_type": "execute_result"
    }
   ],
   "source": [
    "df.tail(5)"
   ]
  },
  {
   "cell_type": "code",
   "execution_count": 321,
   "metadata": {
    "ExecuteTime": {
     "end_time": "2023-02-16T12:37:36.923213Z",
     "start_time": "2023-02-16T12:37:36.909541Z"
    },
    "colab": {
     "base_uri": "https://localhost:8080/"
    },
    "id": "ByJE6Tbp5cw5",
    "outputId": "aadd81ae-986c-4ec9-fe1d-4f693f262571"
   },
   "outputs": [
    {
     "data": {
      "text/plain": [
       "industrial_risk          3\n",
       "management risk          3\n",
       "financial flexibility    3\n",
       "credibility              3\n",
       "competitiveness          3\n",
       "operating risk           3\n",
       "class                    2\n",
       "dtype: int64"
      ]
     },
     "execution_count": 321,
     "metadata": {},
     "output_type": "execute_result"
    }
   ],
   "source": [
    "df.nunique()"
   ]
  },
  {
   "cell_type": "code",
   "execution_count": 322,
   "metadata": {
    "ExecuteTime": {
     "end_time": "2023-02-16T12:37:36.938937Z",
     "start_time": "2023-02-16T12:37:36.924212Z"
    },
    "colab": {
     "base_uri": "https://localhost:8080/"
    },
    "id": "6g9xbFWPvPVV",
    "outputId": "0a6e3940-7e88-4a59-9d43-c32185dcc837"
   },
   "outputs": [
    {
     "name": "stdout",
     "output_type": "stream",
     "text": [
      "<class 'pandas.core.frame.DataFrame'>\n",
      "RangeIndex: 250 entries, 0 to 249\n",
      "Data columns (total 7 columns):\n",
      " #   Column                 Non-Null Count  Dtype  \n",
      "---  ------                 --------------  -----  \n",
      " 0   industrial_risk        250 non-null    float64\n",
      " 1   management risk        250 non-null    float64\n",
      " 2   financial flexibility  250 non-null    float64\n",
      " 3   credibility            250 non-null    float64\n",
      " 4   competitiveness        250 non-null    float64\n",
      " 5   operating risk         250 non-null    float64\n",
      " 6   class                  250 non-null    object \n",
      "dtypes: float64(6), object(1)\n",
      "memory usage: 13.8+ KB\n"
     ]
    }
   ],
   "source": [
    "df.info()"
   ]
  },
  {
   "cell_type": "code",
   "execution_count": 323,
   "metadata": {
    "ExecuteTime": {
     "end_time": "2023-02-16T12:37:36.958663Z",
     "start_time": "2023-02-16T12:37:36.942018Z"
    },
    "colab": {
     "base_uri": "https://localhost:8080/"
    },
    "id": "xN_qFxzvvUDO",
    "outputId": "b498c78b-709d-417b-e3f8-82213e40b78d"
   },
   "outputs": [
    {
     "data": {
      "text/plain": [
       "(250, 7)"
      ]
     },
     "execution_count": 323,
     "metadata": {},
     "output_type": "execute_result"
    }
   ],
   "source": [
    "df.shape"
   ]
  },
  {
   "cell_type": "markdown",
   "metadata": {
    "id": "acmY8emE2xlx"
   },
   "source": [
    "**Checking data types**"
   ]
  },
  {
   "cell_type": "code",
   "execution_count": 324,
   "metadata": {
    "ExecuteTime": {
     "end_time": "2023-02-16T12:37:36.975188Z",
     "start_time": "2023-02-16T12:37:36.961019Z"
    },
    "colab": {
     "base_uri": "https://localhost:8080/"
    },
    "id": "OrPMwrl7vf7t",
    "outputId": "4cf32e94-aaef-4111-b9b6-8828fba1373a"
   },
   "outputs": [
    {
     "data": {
      "text/plain": [
       "industrial_risk          float64\n",
       "management risk          float64\n",
       "financial flexibility    float64\n",
       "credibility              float64\n",
       "competitiveness          float64\n",
       "operating risk           float64\n",
       "class                     object\n",
       "dtype: object"
      ]
     },
     "execution_count": 324,
     "metadata": {},
     "output_type": "execute_result"
    }
   ],
   "source": [
    "df.dtypes"
   ]
  },
  {
   "cell_type": "markdown",
   "metadata": {
    "id": "-zBskWC4w2Kg"
   },
   "source": [
    "Data Type Conversion"
   ]
  },
  {
   "cell_type": "code",
   "execution_count": 325,
   "metadata": {
    "ExecuteTime": {
     "end_time": "2023-02-16T12:37:37.006792Z",
     "start_time": "2023-02-16T12:37:36.977312Z"
    },
    "colab": {
     "base_uri": "https://localhost:8080/",
     "height": 423
    },
    "id": "aK6kpOv6pCut",
    "outputId": "58e798a1-32a4-4ed0-ee77-1cea27bfcc74"
   },
   "outputs": [
    {
     "data": {
      "text/html": [
       "\n",
       "  <div id=\"df-4c15ecb2-dc56-469f-afa7-7826cd760bb7\">\n",
       "    <div class=\"colab-df-container\">\n",
       "      <div>\n",
       "<style scoped>\n",
       "    .dataframe tbody tr th:only-of-type {\n",
       "        vertical-align: middle;\n",
       "    }\n",
       "\n",
       "    .dataframe tbody tr th {\n",
       "        vertical-align: top;\n",
       "    }\n",
       "\n",
       "    .dataframe thead th {\n",
       "        text-align: right;\n",
       "    }\n",
       "</style>\n",
       "<table border=\"1\" class=\"dataframe\">\n",
       "  <thead>\n",
       "    <tr style=\"text-align: right;\">\n",
       "      <th></th>\n",
       "      <th>industrial_risk</th>\n",
       "      <th>management risk</th>\n",
       "      <th>financial flexibility</th>\n",
       "      <th>credibility</th>\n",
       "      <th>competitiveness</th>\n",
       "      <th>operating risk</th>\n",
       "      <th>class</th>\n",
       "    </tr>\n",
       "  </thead>\n",
       "  <tbody>\n",
       "    <tr>\n",
       "      <th>0</th>\n",
       "      <td>0.5</td>\n",
       "      <td>1.0</td>\n",
       "      <td>0.0</td>\n",
       "      <td>0.0</td>\n",
       "      <td>0.0</td>\n",
       "      <td>0.5</td>\n",
       "      <td>bankruptcy</td>\n",
       "    </tr>\n",
       "    <tr>\n",
       "      <th>1</th>\n",
       "      <td>0.0</td>\n",
       "      <td>1.0</td>\n",
       "      <td>0.0</td>\n",
       "      <td>0.0</td>\n",
       "      <td>0.0</td>\n",
       "      <td>1.0</td>\n",
       "      <td>bankruptcy</td>\n",
       "    </tr>\n",
       "    <tr>\n",
       "      <th>2</th>\n",
       "      <td>1.0</td>\n",
       "      <td>0.0</td>\n",
       "      <td>0.0</td>\n",
       "      <td>0.0</td>\n",
       "      <td>0.0</td>\n",
       "      <td>1.0</td>\n",
       "      <td>bankruptcy</td>\n",
       "    </tr>\n",
       "    <tr>\n",
       "      <th>3</th>\n",
       "      <td>0.5</td>\n",
       "      <td>0.0</td>\n",
       "      <td>0.0</td>\n",
       "      <td>0.5</td>\n",
       "      <td>0.0</td>\n",
       "      <td>1.0</td>\n",
       "      <td>bankruptcy</td>\n",
       "    </tr>\n",
       "    <tr>\n",
       "      <th>4</th>\n",
       "      <td>1.0</td>\n",
       "      <td>1.0</td>\n",
       "      <td>0.0</td>\n",
       "      <td>0.0</td>\n",
       "      <td>0.0</td>\n",
       "      <td>1.0</td>\n",
       "      <td>bankruptcy</td>\n",
       "    </tr>\n",
       "    <tr>\n",
       "      <th>...</th>\n",
       "      <td>...</td>\n",
       "      <td>...</td>\n",
       "      <td>...</td>\n",
       "      <td>...</td>\n",
       "      <td>...</td>\n",
       "      <td>...</td>\n",
       "      <td>...</td>\n",
       "    </tr>\n",
       "    <tr>\n",
       "      <th>102</th>\n",
       "      <td>1.0</td>\n",
       "      <td>1.0</td>\n",
       "      <td>0.5</td>\n",
       "      <td>0.0</td>\n",
       "      <td>0.0</td>\n",
       "      <td>1.0</td>\n",
       "      <td>bankruptcy</td>\n",
       "    </tr>\n",
       "    <tr>\n",
       "      <th>103</th>\n",
       "      <td>0.0</td>\n",
       "      <td>1.0</td>\n",
       "      <td>0.0</td>\n",
       "      <td>0.0</td>\n",
       "      <td>0.0</td>\n",
       "      <td>1.0</td>\n",
       "      <td>bankruptcy</td>\n",
       "    </tr>\n",
       "    <tr>\n",
       "      <th>104</th>\n",
       "      <td>0.5</td>\n",
       "      <td>1.0</td>\n",
       "      <td>0.0</td>\n",
       "      <td>0.0</td>\n",
       "      <td>0.0</td>\n",
       "      <td>1.0</td>\n",
       "      <td>bankruptcy</td>\n",
       "    </tr>\n",
       "    <tr>\n",
       "      <th>105</th>\n",
       "      <td>1.0</td>\n",
       "      <td>1.0</td>\n",
       "      <td>0.0</td>\n",
       "      <td>0.0</td>\n",
       "      <td>0.0</td>\n",
       "      <td>1.0</td>\n",
       "      <td>bankruptcy</td>\n",
       "    </tr>\n",
       "    <tr>\n",
       "      <th>106</th>\n",
       "      <td>0.0</td>\n",
       "      <td>1.0</td>\n",
       "      <td>0.0</td>\n",
       "      <td>0.0</td>\n",
       "      <td>0.5</td>\n",
       "      <td>0.5</td>\n",
       "      <td>bankruptcy</td>\n",
       "    </tr>\n",
       "  </tbody>\n",
       "</table>\n",
       "<p>107 rows × 7 columns</p>\n",
       "</div>\n",
       "      <button class=\"colab-df-convert\" onclick=\"convertToInteractive('df-4c15ecb2-dc56-469f-afa7-7826cd760bb7')\"\n",
       "              title=\"Convert this dataframe to an interactive table.\"\n",
       "              style=\"display:none;\">\n",
       "        \n",
       "  <svg xmlns=\"http://www.w3.org/2000/svg\" height=\"24px\"viewBox=\"0 0 24 24\"\n",
       "       width=\"24px\">\n",
       "    <path d=\"M0 0h24v24H0V0z\" fill=\"none\"/>\n",
       "    <path d=\"M18.56 5.44l.94 2.06.94-2.06 2.06-.94-2.06-.94-.94-2.06-.94 2.06-2.06.94zm-11 1L8.5 8.5l.94-2.06 2.06-.94-2.06-.94L8.5 2.5l-.94 2.06-2.06.94zm10 10l.94 2.06.94-2.06 2.06-.94-2.06-.94-.94-2.06-.94 2.06-2.06.94z\"/><path d=\"M17.41 7.96l-1.37-1.37c-.4-.4-.92-.59-1.43-.59-.52 0-1.04.2-1.43.59L10.3 9.45l-7.72 7.72c-.78.78-.78 2.05 0 2.83L4 21.41c.39.39.9.59 1.41.59.51 0 1.02-.2 1.41-.59l7.78-7.78 2.81-2.81c.8-.78.8-2.07 0-2.86zM5.41 20L4 18.59l7.72-7.72 1.47 1.35L5.41 20z\"/>\n",
       "  </svg>\n",
       "      </button>\n",
       "      \n",
       "  <style>\n",
       "    .colab-df-container {\n",
       "      display:flex;\n",
       "      flex-wrap:wrap;\n",
       "      gap: 12px;\n",
       "    }\n",
       "\n",
       "    .colab-df-convert {\n",
       "      background-color: #E8F0FE;\n",
       "      border: none;\n",
       "      border-radius: 50%;\n",
       "      cursor: pointer;\n",
       "      display: none;\n",
       "      fill: #1967D2;\n",
       "      height: 32px;\n",
       "      padding: 0 0 0 0;\n",
       "      width: 32px;\n",
       "    }\n",
       "\n",
       "    .colab-df-convert:hover {\n",
       "      background-color: #E2EBFA;\n",
       "      box-shadow: 0px 1px 2px rgba(60, 64, 67, 0.3), 0px 1px 3px 1px rgba(60, 64, 67, 0.15);\n",
       "      fill: #174EA6;\n",
       "    }\n",
       "\n",
       "    [theme=dark] .colab-df-convert {\n",
       "      background-color: #3B4455;\n",
       "      fill: #D2E3FC;\n",
       "    }\n",
       "\n",
       "    [theme=dark] .colab-df-convert:hover {\n",
       "      background-color: #434B5C;\n",
       "      box-shadow: 0px 1px 3px 1px rgba(0, 0, 0, 0.15);\n",
       "      filter: drop-shadow(0px 1px 2px rgba(0, 0, 0, 0.3));\n",
       "      fill: #FFFFFF;\n",
       "    }\n",
       "  </style>\n",
       "\n",
       "      <script>\n",
       "        const buttonEl =\n",
       "          document.querySelector('#df-4c15ecb2-dc56-469f-afa7-7826cd760bb7 button.colab-df-convert');\n",
       "        buttonEl.style.display =\n",
       "          google.colab.kernel.accessAllowed ? 'block' : 'none';\n",
       "\n",
       "        async function convertToInteractive(key) {\n",
       "          const element = document.querySelector('#df-4c15ecb2-dc56-469f-afa7-7826cd760bb7');\n",
       "          const dataTable =\n",
       "            await google.colab.kernel.invokeFunction('convertToInteractive',\n",
       "                                                     [key], {});\n",
       "          if (!dataTable) return;\n",
       "\n",
       "          const docLinkHtml = 'Like what you see? Visit the ' +\n",
       "            '<a target=\"_blank\" href=https://colab.research.google.com/notebooks/data_table.ipynb>data table notebook</a>'\n",
       "            + ' to learn more about interactive tables.';\n",
       "          element.innerHTML = '';\n",
       "          dataTable['output_type'] = 'display_data';\n",
       "          await google.colab.output.renderOutput(dataTable, element);\n",
       "          const docLink = document.createElement('div');\n",
       "          docLink.innerHTML = docLinkHtml;\n",
       "          element.appendChild(docLink);\n",
       "        }\n",
       "      </script>\n",
       "    </div>\n",
       "  </div>\n",
       "  "
      ],
      "text/plain": [
       "     industrial_risk  management risk  financial flexibility  credibility  \\\n",
       "0                0.5              1.0                    0.0          0.0   \n",
       "1                0.0              1.0                    0.0          0.0   \n",
       "2                1.0              0.0                    0.0          0.0   \n",
       "3                0.5              0.0                    0.0          0.5   \n",
       "4                1.0              1.0                    0.0          0.0   \n",
       "..               ...              ...                    ...          ...   \n",
       "102              1.0              1.0                    0.5          0.0   \n",
       "103              0.0              1.0                    0.0          0.0   \n",
       "104              0.5              1.0                    0.0          0.0   \n",
       "105              1.0              1.0                    0.0          0.0   \n",
       "106              0.0              1.0                    0.0          0.0   \n",
       "\n",
       "     competitiveness  operating risk       class  \n",
       "0                0.0             0.5  bankruptcy  \n",
       "1                0.0             1.0  bankruptcy  \n",
       "2                0.0             1.0  bankruptcy  \n",
       "3                0.0             1.0  bankruptcy  \n",
       "4                0.0             1.0  bankruptcy  \n",
       "..               ...             ...         ...  \n",
       "102              0.0             1.0  bankruptcy  \n",
       "103              0.0             1.0  bankruptcy  \n",
       "104              0.0             1.0  bankruptcy  \n",
       "105              0.0             1.0  bankruptcy  \n",
       "106              0.5             0.5  bankruptcy  \n",
       "\n",
       "[107 rows x 7 columns]"
      ]
     },
     "execution_count": 325,
     "metadata": {},
     "output_type": "execute_result"
    }
   ],
   "source": [
    "df[df['class']==\"bankruptcy\"]"
   ]
  },
  {
   "cell_type": "code",
   "execution_count": 326,
   "metadata": {
    "ExecuteTime": {
     "end_time": "2023-02-16T12:37:37.038439Z",
     "start_time": "2023-02-16T12:37:37.008793Z"
    },
    "colab": {
     "base_uri": "https://localhost:8080/",
     "height": 423
    },
    "id": "HJG34JsxpCrU",
    "outputId": "00c350aa-2583-433b-fc97-b34c9b2e8bb0"
   },
   "outputs": [
    {
     "data": {
      "text/html": [
       "\n",
       "  <div id=\"df-8867032b-57a1-4771-ba1c-144c940b982d\">\n",
       "    <div class=\"colab-df-container\">\n",
       "      <div>\n",
       "<style scoped>\n",
       "    .dataframe tbody tr th:only-of-type {\n",
       "        vertical-align: middle;\n",
       "    }\n",
       "\n",
       "    .dataframe tbody tr th {\n",
       "        vertical-align: top;\n",
       "    }\n",
       "\n",
       "    .dataframe thead th {\n",
       "        text-align: right;\n",
       "    }\n",
       "</style>\n",
       "<table border=\"1\" class=\"dataframe\">\n",
       "  <thead>\n",
       "    <tr style=\"text-align: right;\">\n",
       "      <th></th>\n",
       "      <th>industrial_risk</th>\n",
       "      <th>management risk</th>\n",
       "      <th>financial flexibility</th>\n",
       "      <th>credibility</th>\n",
       "      <th>competitiveness</th>\n",
       "      <th>operating risk</th>\n",
       "      <th>class</th>\n",
       "    </tr>\n",
       "  </thead>\n",
       "  <tbody>\n",
       "    <tr>\n",
       "      <th>107</th>\n",
       "      <td>0.0</td>\n",
       "      <td>0.0</td>\n",
       "      <td>0.5</td>\n",
       "      <td>0.5</td>\n",
       "      <td>0.5</td>\n",
       "      <td>0.0</td>\n",
       "      <td>non-bankruptcy</td>\n",
       "    </tr>\n",
       "    <tr>\n",
       "      <th>108</th>\n",
       "      <td>1.0</td>\n",
       "      <td>1.0</td>\n",
       "      <td>0.5</td>\n",
       "      <td>0.5</td>\n",
       "      <td>0.5</td>\n",
       "      <td>1.0</td>\n",
       "      <td>non-bankruptcy</td>\n",
       "    </tr>\n",
       "    <tr>\n",
       "      <th>109</th>\n",
       "      <td>0.5</td>\n",
       "      <td>0.5</td>\n",
       "      <td>0.5</td>\n",
       "      <td>0.5</td>\n",
       "      <td>0.5</td>\n",
       "      <td>0.5</td>\n",
       "      <td>non-bankruptcy</td>\n",
       "    </tr>\n",
       "    <tr>\n",
       "      <th>110</th>\n",
       "      <td>0.0</td>\n",
       "      <td>0.0</td>\n",
       "      <td>1.0</td>\n",
       "      <td>1.0</td>\n",
       "      <td>1.0</td>\n",
       "      <td>0.0</td>\n",
       "      <td>non-bankruptcy</td>\n",
       "    </tr>\n",
       "    <tr>\n",
       "      <th>111</th>\n",
       "      <td>1.0</td>\n",
       "      <td>1.0</td>\n",
       "      <td>1.0</td>\n",
       "      <td>1.0</td>\n",
       "      <td>1.0</td>\n",
       "      <td>1.0</td>\n",
       "      <td>non-bankruptcy</td>\n",
       "    </tr>\n",
       "    <tr>\n",
       "      <th>...</th>\n",
       "      <td>...</td>\n",
       "      <td>...</td>\n",
       "      <td>...</td>\n",
       "      <td>...</td>\n",
       "      <td>...</td>\n",
       "      <td>...</td>\n",
       "      <td>...</td>\n",
       "    </tr>\n",
       "    <tr>\n",
       "      <th>245</th>\n",
       "      <td>0.0</td>\n",
       "      <td>1.0</td>\n",
       "      <td>1.0</td>\n",
       "      <td>1.0</td>\n",
       "      <td>1.0</td>\n",
       "      <td>1.0</td>\n",
       "      <td>non-bankruptcy</td>\n",
       "    </tr>\n",
       "    <tr>\n",
       "      <th>246</th>\n",
       "      <td>1.0</td>\n",
       "      <td>1.0</td>\n",
       "      <td>0.5</td>\n",
       "      <td>1.0</td>\n",
       "      <td>1.0</td>\n",
       "      <td>0.0</td>\n",
       "      <td>non-bankruptcy</td>\n",
       "    </tr>\n",
       "    <tr>\n",
       "      <th>247</th>\n",
       "      <td>0.0</td>\n",
       "      <td>1.0</td>\n",
       "      <td>1.0</td>\n",
       "      <td>0.5</td>\n",
       "      <td>0.5</td>\n",
       "      <td>0.0</td>\n",
       "      <td>non-bankruptcy</td>\n",
       "    </tr>\n",
       "    <tr>\n",
       "      <th>248</th>\n",
       "      <td>1.0</td>\n",
       "      <td>0.0</td>\n",
       "      <td>0.5</td>\n",
       "      <td>1.0</td>\n",
       "      <td>0.5</td>\n",
       "      <td>0.0</td>\n",
       "      <td>non-bankruptcy</td>\n",
       "    </tr>\n",
       "    <tr>\n",
       "      <th>249</th>\n",
       "      <td>1.0</td>\n",
       "      <td>0.0</td>\n",
       "      <td>0.5</td>\n",
       "      <td>0.5</td>\n",
       "      <td>1.0</td>\n",
       "      <td>1.0</td>\n",
       "      <td>non-bankruptcy</td>\n",
       "    </tr>\n",
       "  </tbody>\n",
       "</table>\n",
       "<p>143 rows × 7 columns</p>\n",
       "</div>\n",
       "      <button class=\"colab-df-convert\" onclick=\"convertToInteractive('df-8867032b-57a1-4771-ba1c-144c940b982d')\"\n",
       "              title=\"Convert this dataframe to an interactive table.\"\n",
       "              style=\"display:none;\">\n",
       "        \n",
       "  <svg xmlns=\"http://www.w3.org/2000/svg\" height=\"24px\"viewBox=\"0 0 24 24\"\n",
       "       width=\"24px\">\n",
       "    <path d=\"M0 0h24v24H0V0z\" fill=\"none\"/>\n",
       "    <path d=\"M18.56 5.44l.94 2.06.94-2.06 2.06-.94-2.06-.94-.94-2.06-.94 2.06-2.06.94zm-11 1L8.5 8.5l.94-2.06 2.06-.94-2.06-.94L8.5 2.5l-.94 2.06-2.06.94zm10 10l.94 2.06.94-2.06 2.06-.94-2.06-.94-.94-2.06-.94 2.06-2.06.94z\"/><path d=\"M17.41 7.96l-1.37-1.37c-.4-.4-.92-.59-1.43-.59-.52 0-1.04.2-1.43.59L10.3 9.45l-7.72 7.72c-.78.78-.78 2.05 0 2.83L4 21.41c.39.39.9.59 1.41.59.51 0 1.02-.2 1.41-.59l7.78-7.78 2.81-2.81c.8-.78.8-2.07 0-2.86zM5.41 20L4 18.59l7.72-7.72 1.47 1.35L5.41 20z\"/>\n",
       "  </svg>\n",
       "      </button>\n",
       "      \n",
       "  <style>\n",
       "    .colab-df-container {\n",
       "      display:flex;\n",
       "      flex-wrap:wrap;\n",
       "      gap: 12px;\n",
       "    }\n",
       "\n",
       "    .colab-df-convert {\n",
       "      background-color: #E8F0FE;\n",
       "      border: none;\n",
       "      border-radius: 50%;\n",
       "      cursor: pointer;\n",
       "      display: none;\n",
       "      fill: #1967D2;\n",
       "      height: 32px;\n",
       "      padding: 0 0 0 0;\n",
       "      width: 32px;\n",
       "    }\n",
       "\n",
       "    .colab-df-convert:hover {\n",
       "      background-color: #E2EBFA;\n",
       "      box-shadow: 0px 1px 2px rgba(60, 64, 67, 0.3), 0px 1px 3px 1px rgba(60, 64, 67, 0.15);\n",
       "      fill: #174EA6;\n",
       "    }\n",
       "\n",
       "    [theme=dark] .colab-df-convert {\n",
       "      background-color: #3B4455;\n",
       "      fill: #D2E3FC;\n",
       "    }\n",
       "\n",
       "    [theme=dark] .colab-df-convert:hover {\n",
       "      background-color: #434B5C;\n",
       "      box-shadow: 0px 1px 3px 1px rgba(0, 0, 0, 0.15);\n",
       "      filter: drop-shadow(0px 1px 2px rgba(0, 0, 0, 0.3));\n",
       "      fill: #FFFFFF;\n",
       "    }\n",
       "  </style>\n",
       "\n",
       "      <script>\n",
       "        const buttonEl =\n",
       "          document.querySelector('#df-8867032b-57a1-4771-ba1c-144c940b982d button.colab-df-convert');\n",
       "        buttonEl.style.display =\n",
       "          google.colab.kernel.accessAllowed ? 'block' : 'none';\n",
       "\n",
       "        async function convertToInteractive(key) {\n",
       "          const element = document.querySelector('#df-8867032b-57a1-4771-ba1c-144c940b982d');\n",
       "          const dataTable =\n",
       "            await google.colab.kernel.invokeFunction('convertToInteractive',\n",
       "                                                     [key], {});\n",
       "          if (!dataTable) return;\n",
       "\n",
       "          const docLinkHtml = 'Like what you see? Visit the ' +\n",
       "            '<a target=\"_blank\" href=https://colab.research.google.com/notebooks/data_table.ipynb>data table notebook</a>'\n",
       "            + ' to learn more about interactive tables.';\n",
       "          element.innerHTML = '';\n",
       "          dataTable['output_type'] = 'display_data';\n",
       "          await google.colab.output.renderOutput(dataTable, element);\n",
       "          const docLink = document.createElement('div');\n",
       "          docLink.innerHTML = docLinkHtml;\n",
       "          element.appendChild(docLink);\n",
       "        }\n",
       "      </script>\n",
       "    </div>\n",
       "  </div>\n",
       "  "
      ],
      "text/plain": [
       "     industrial_risk  management risk  financial flexibility  credibility  \\\n",
       "107              0.0              0.0                    0.5          0.5   \n",
       "108              1.0              1.0                    0.5          0.5   \n",
       "109              0.5              0.5                    0.5          0.5   \n",
       "110              0.0              0.0                    1.0          1.0   \n",
       "111              1.0              1.0                    1.0          1.0   \n",
       "..               ...              ...                    ...          ...   \n",
       "245              0.0              1.0                    1.0          1.0   \n",
       "246              1.0              1.0                    0.5          1.0   \n",
       "247              0.0              1.0                    1.0          0.5   \n",
       "248              1.0              0.0                    0.5          1.0   \n",
       "249              1.0              0.0                    0.5          0.5   \n",
       "\n",
       "     competitiveness  operating risk           class  \n",
       "107              0.5             0.0  non-bankruptcy  \n",
       "108              0.5             1.0  non-bankruptcy  \n",
       "109              0.5             0.5  non-bankruptcy  \n",
       "110              1.0             0.0  non-bankruptcy  \n",
       "111              1.0             1.0  non-bankruptcy  \n",
       "..               ...             ...             ...  \n",
       "245              1.0             1.0  non-bankruptcy  \n",
       "246              1.0             0.0  non-bankruptcy  \n",
       "247              0.5             0.0  non-bankruptcy  \n",
       "248              0.5             0.0  non-bankruptcy  \n",
       "249              1.0             1.0  non-bankruptcy  \n",
       "\n",
       "[143 rows x 7 columns]"
      ]
     },
     "execution_count": 326,
     "metadata": {},
     "output_type": "execute_result"
    }
   ],
   "source": [
    "df[df['class']==\"non-bankruptcy\"]"
   ]
  },
  {
   "cell_type": "code",
   "execution_count": 327,
   "metadata": {
    "ExecuteTime": {
     "end_time": "2023-02-16T12:37:37.053581Z",
     "start_time": "2023-02-16T12:37:37.041436Z"
    },
    "id": "BvqLoiv5pCpA"
   },
   "outputs": [],
   "source": [
    "df[\"class\"] = df[\"class\"].replace(\"bankruptcy\",0)\n",
    "df[\"class\"] = df[\"class\"].replace(\"non-bankruptcy\",1)"
   ]
  },
  {
   "cell_type": "code",
   "execution_count": 328,
   "metadata": {
    "ExecuteTime": {
     "end_time": "2023-02-16T12:37:37.069216Z",
     "start_time": "2023-02-16T12:37:37.055581Z"
    },
    "colab": {
     "base_uri": "https://localhost:8080/",
     "height": 423
    },
    "id": "9gG-Pg2QuHYt",
    "outputId": "1e68ed94-1248-4b40-fd85-133106ef35d3"
   },
   "outputs": [
    {
     "data": {
      "text/html": [
       "\n",
       "  <div id=\"df-daf26eff-cf94-46a1-9cf1-4392a2d6b1b8\">\n",
       "    <div class=\"colab-df-container\">\n",
       "      <div>\n",
       "<style scoped>\n",
       "    .dataframe tbody tr th:only-of-type {\n",
       "        vertical-align: middle;\n",
       "    }\n",
       "\n",
       "    .dataframe tbody tr th {\n",
       "        vertical-align: top;\n",
       "    }\n",
       "\n",
       "    .dataframe thead th {\n",
       "        text-align: right;\n",
       "    }\n",
       "</style>\n",
       "<table border=\"1\" class=\"dataframe\">\n",
       "  <thead>\n",
       "    <tr style=\"text-align: right;\">\n",
       "      <th></th>\n",
       "      <th>industrial_risk</th>\n",
       "      <th>management risk</th>\n",
       "      <th>financial flexibility</th>\n",
       "      <th>credibility</th>\n",
       "      <th>competitiveness</th>\n",
       "      <th>operating risk</th>\n",
       "      <th>class</th>\n",
       "    </tr>\n",
       "  </thead>\n",
       "  <tbody>\n",
       "    <tr>\n",
       "      <th>0</th>\n",
       "      <td>0.5</td>\n",
       "      <td>1.0</td>\n",
       "      <td>0.0</td>\n",
       "      <td>0.0</td>\n",
       "      <td>0.0</td>\n",
       "      <td>0.5</td>\n",
       "      <td>0</td>\n",
       "    </tr>\n",
       "    <tr>\n",
       "      <th>1</th>\n",
       "      <td>0.0</td>\n",
       "      <td>1.0</td>\n",
       "      <td>0.0</td>\n",
       "      <td>0.0</td>\n",
       "      <td>0.0</td>\n",
       "      <td>1.0</td>\n",
       "      <td>0</td>\n",
       "    </tr>\n",
       "    <tr>\n",
       "      <th>2</th>\n",
       "      <td>1.0</td>\n",
       "      <td>0.0</td>\n",
       "      <td>0.0</td>\n",
       "      <td>0.0</td>\n",
       "      <td>0.0</td>\n",
       "      <td>1.0</td>\n",
       "      <td>0</td>\n",
       "    </tr>\n",
       "    <tr>\n",
       "      <th>3</th>\n",
       "      <td>0.5</td>\n",
       "      <td>0.0</td>\n",
       "      <td>0.0</td>\n",
       "      <td>0.5</td>\n",
       "      <td>0.0</td>\n",
       "      <td>1.0</td>\n",
       "      <td>0</td>\n",
       "    </tr>\n",
       "    <tr>\n",
       "      <th>4</th>\n",
       "      <td>1.0</td>\n",
       "      <td>1.0</td>\n",
       "      <td>0.0</td>\n",
       "      <td>0.0</td>\n",
       "      <td>0.0</td>\n",
       "      <td>1.0</td>\n",
       "      <td>0</td>\n",
       "    </tr>\n",
       "    <tr>\n",
       "      <th>...</th>\n",
       "      <td>...</td>\n",
       "      <td>...</td>\n",
       "      <td>...</td>\n",
       "      <td>...</td>\n",
       "      <td>...</td>\n",
       "      <td>...</td>\n",
       "      <td>...</td>\n",
       "    </tr>\n",
       "    <tr>\n",
       "      <th>245</th>\n",
       "      <td>0.0</td>\n",
       "      <td>1.0</td>\n",
       "      <td>1.0</td>\n",
       "      <td>1.0</td>\n",
       "      <td>1.0</td>\n",
       "      <td>1.0</td>\n",
       "      <td>1</td>\n",
       "    </tr>\n",
       "    <tr>\n",
       "      <th>246</th>\n",
       "      <td>1.0</td>\n",
       "      <td>1.0</td>\n",
       "      <td>0.5</td>\n",
       "      <td>1.0</td>\n",
       "      <td>1.0</td>\n",
       "      <td>0.0</td>\n",
       "      <td>1</td>\n",
       "    </tr>\n",
       "    <tr>\n",
       "      <th>247</th>\n",
       "      <td>0.0</td>\n",
       "      <td>1.0</td>\n",
       "      <td>1.0</td>\n",
       "      <td>0.5</td>\n",
       "      <td>0.5</td>\n",
       "      <td>0.0</td>\n",
       "      <td>1</td>\n",
       "    </tr>\n",
       "    <tr>\n",
       "      <th>248</th>\n",
       "      <td>1.0</td>\n",
       "      <td>0.0</td>\n",
       "      <td>0.5</td>\n",
       "      <td>1.0</td>\n",
       "      <td>0.5</td>\n",
       "      <td>0.0</td>\n",
       "      <td>1</td>\n",
       "    </tr>\n",
       "    <tr>\n",
       "      <th>249</th>\n",
       "      <td>1.0</td>\n",
       "      <td>0.0</td>\n",
       "      <td>0.5</td>\n",
       "      <td>0.5</td>\n",
       "      <td>1.0</td>\n",
       "      <td>1.0</td>\n",
       "      <td>1</td>\n",
       "    </tr>\n",
       "  </tbody>\n",
       "</table>\n",
       "<p>250 rows × 7 columns</p>\n",
       "</div>\n",
       "      <button class=\"colab-df-convert\" onclick=\"convertToInteractive('df-daf26eff-cf94-46a1-9cf1-4392a2d6b1b8')\"\n",
       "              title=\"Convert this dataframe to an interactive table.\"\n",
       "              style=\"display:none;\">\n",
       "        \n",
       "  <svg xmlns=\"http://www.w3.org/2000/svg\" height=\"24px\"viewBox=\"0 0 24 24\"\n",
       "       width=\"24px\">\n",
       "    <path d=\"M0 0h24v24H0V0z\" fill=\"none\"/>\n",
       "    <path d=\"M18.56 5.44l.94 2.06.94-2.06 2.06-.94-2.06-.94-.94-2.06-.94 2.06-2.06.94zm-11 1L8.5 8.5l.94-2.06 2.06-.94-2.06-.94L8.5 2.5l-.94 2.06-2.06.94zm10 10l.94 2.06.94-2.06 2.06-.94-2.06-.94-.94-2.06-.94 2.06-2.06.94z\"/><path d=\"M17.41 7.96l-1.37-1.37c-.4-.4-.92-.59-1.43-.59-.52 0-1.04.2-1.43.59L10.3 9.45l-7.72 7.72c-.78.78-.78 2.05 0 2.83L4 21.41c.39.39.9.59 1.41.59.51 0 1.02-.2 1.41-.59l7.78-7.78 2.81-2.81c.8-.78.8-2.07 0-2.86zM5.41 20L4 18.59l7.72-7.72 1.47 1.35L5.41 20z\"/>\n",
       "  </svg>\n",
       "      </button>\n",
       "      \n",
       "  <style>\n",
       "    .colab-df-container {\n",
       "      display:flex;\n",
       "      flex-wrap:wrap;\n",
       "      gap: 12px;\n",
       "    }\n",
       "\n",
       "    .colab-df-convert {\n",
       "      background-color: #E8F0FE;\n",
       "      border: none;\n",
       "      border-radius: 50%;\n",
       "      cursor: pointer;\n",
       "      display: none;\n",
       "      fill: #1967D2;\n",
       "      height: 32px;\n",
       "      padding: 0 0 0 0;\n",
       "      width: 32px;\n",
       "    }\n",
       "\n",
       "    .colab-df-convert:hover {\n",
       "      background-color: #E2EBFA;\n",
       "      box-shadow: 0px 1px 2px rgba(60, 64, 67, 0.3), 0px 1px 3px 1px rgba(60, 64, 67, 0.15);\n",
       "      fill: #174EA6;\n",
       "    }\n",
       "\n",
       "    [theme=dark] .colab-df-convert {\n",
       "      background-color: #3B4455;\n",
       "      fill: #D2E3FC;\n",
       "    }\n",
       "\n",
       "    [theme=dark] .colab-df-convert:hover {\n",
       "      background-color: #434B5C;\n",
       "      box-shadow: 0px 1px 3px 1px rgba(0, 0, 0, 0.15);\n",
       "      filter: drop-shadow(0px 1px 2px rgba(0, 0, 0, 0.3));\n",
       "      fill: #FFFFFF;\n",
       "    }\n",
       "  </style>\n",
       "\n",
       "      <script>\n",
       "        const buttonEl =\n",
       "          document.querySelector('#df-daf26eff-cf94-46a1-9cf1-4392a2d6b1b8 button.colab-df-convert');\n",
       "        buttonEl.style.display =\n",
       "          google.colab.kernel.accessAllowed ? 'block' : 'none';\n",
       "\n",
       "        async function convertToInteractive(key) {\n",
       "          const element = document.querySelector('#df-daf26eff-cf94-46a1-9cf1-4392a2d6b1b8');\n",
       "          const dataTable =\n",
       "            await google.colab.kernel.invokeFunction('convertToInteractive',\n",
       "                                                     [key], {});\n",
       "          if (!dataTable) return;\n",
       "\n",
       "          const docLinkHtml = 'Like what you see? Visit the ' +\n",
       "            '<a target=\"_blank\" href=https://colab.research.google.com/notebooks/data_table.ipynb>data table notebook</a>'\n",
       "            + ' to learn more about interactive tables.';\n",
       "          element.innerHTML = '';\n",
       "          dataTable['output_type'] = 'display_data';\n",
       "          await google.colab.output.renderOutput(dataTable, element);\n",
       "          const docLink = document.createElement('div');\n",
       "          docLink.innerHTML = docLinkHtml;\n",
       "          element.appendChild(docLink);\n",
       "        }\n",
       "      </script>\n",
       "    </div>\n",
       "  </div>\n",
       "  "
      ],
      "text/plain": [
       "     industrial_risk  management risk  financial flexibility  credibility  \\\n",
       "0                0.5              1.0                    0.0          0.0   \n",
       "1                0.0              1.0                    0.0          0.0   \n",
       "2                1.0              0.0                    0.0          0.0   \n",
       "3                0.5              0.0                    0.0          0.5   \n",
       "4                1.0              1.0                    0.0          0.0   \n",
       "..               ...              ...                    ...          ...   \n",
       "245              0.0              1.0                    1.0          1.0   \n",
       "246              1.0              1.0                    0.5          1.0   \n",
       "247              0.0              1.0                    1.0          0.5   \n",
       "248              1.0              0.0                    0.5          1.0   \n",
       "249              1.0              0.0                    0.5          0.5   \n",
       "\n",
       "     competitiveness  operating risk  class  \n",
       "0                0.0             0.5      0  \n",
       "1                0.0             1.0      0  \n",
       "2                0.0             1.0      0  \n",
       "3                0.0             1.0      0  \n",
       "4                0.0             1.0      0  \n",
       "..               ...             ...    ...  \n",
       "245              1.0             1.0      1  \n",
       "246              1.0             0.0      1  \n",
       "247              0.5             0.0      1  \n",
       "248              0.5             0.0      1  \n",
       "249              1.0             1.0      1  \n",
       "\n",
       "[250 rows x 7 columns]"
      ]
     },
     "execution_count": 328,
     "metadata": {},
     "output_type": "execute_result"
    }
   ],
   "source": [
    "df"
   ]
  },
  {
   "cell_type": "code",
   "execution_count": 329,
   "metadata": {
    "ExecuteTime": {
     "end_time": "2023-02-16T12:37:37.084873Z",
     "start_time": "2023-02-16T12:37:37.070708Z"
    },
    "colab": {
     "base_uri": "https://localhost:8080/"
    },
    "id": "mRlToCuJpCeO",
    "outputId": "a60ccae5-1924-4918-b644-946ebe291249"
   },
   "outputs": [
    {
     "data": {
      "text/plain": [
       "class\n",
       "1    143\n",
       "0    107\n",
       "dtype: int64"
      ]
     },
     "execution_count": 329,
     "metadata": {},
     "output_type": "execute_result"
    }
   ],
   "source": [
    "df.value_counts('class') "
   ]
  },
  {
   "cell_type": "code",
   "execution_count": 330,
   "metadata": {
    "ExecuteTime": {
     "end_time": "2023-02-16T12:37:37.209757Z",
     "start_time": "2023-02-16T12:37:37.086996Z"
    },
    "colab": {
     "base_uri": "https://localhost:8080/",
     "height": 279
    },
    "id": "KNOwDBlEpCg8",
    "outputId": "544c9643-1c39-4d37-c7f5-eff43da76849"
   },
   "outputs": [
    {
     "data": {
      "text/plain": [
       "<matplotlib.axes._subplots.AxesSubplot at 0x7f94cbdfdca0>"
      ]
     },
     "execution_count": 330,
     "metadata": {},
     "output_type": "execute_result"
    },
    {
     "data": {
      "image/png": "[encoded data removed]",
      "text/plain": [
       "<Figure size 432x288 with 1 Axes>"
      ]
     },
     "metadata": {
      "needs_background": "light"
     },
     "output_type": "display_data"
    }
   ],
   "source": [
    "df['class'].value_counts().plot.bar()"
   ]
  },
  {
   "cell_type": "code",
   "execution_count": 331,
   "metadata": {
    "ExecuteTime": {
     "end_time": "2023-02-16T12:37:37.275318Z",
     "start_time": "2023-02-16T12:37:37.211743Z"
    },
    "colab": {
     "base_uri": "https://localhost:8080/",
     "height": 248
    },
    "id": "VepJxNwtvPmP",
    "outputId": "c1a717e7-60ee-445e-b63a-13a6134dba64"
   },
   "outputs": [
    {
     "data": {
      "image/png": "[encoded data removed]",
      "text/plain": [
       "<Figure size 432x288 with 1 Axes>"
      ]
     },
     "metadata": {},
     "output_type": "display_data"
    }
   ],
   "source": [
    "df['class'].value_counts().plot(kind='pie',autopct='%.2f')\n",
    "plt.show()"
   ]
  },
  {
   "cell_type": "code",
   "execution_count": 332,
   "metadata": {
    "ExecuteTime": {
     "end_time": "2023-02-16T12:37:37.293570Z",
     "start_time": "2023-02-16T12:37:37.277619Z"
    },
    "colab": {
     "base_uri": "https://localhost:8080/"
    },
    "id": "GJd-C00avPa8",
    "outputId": "f60f6435-10ed-4a01-b67c-46c3cc5d743b"
   },
   "outputs": [
    {
     "data": {
      "text/plain": [
       "industrial_risk          float64\n",
       "management risk          float64\n",
       "financial flexibility    float64\n",
       "credibility              float64\n",
       "competitiveness          float64\n",
       "operating risk           float64\n",
       "class                      int64\n",
       "dtype: object"
      ]
     },
     "execution_count": 332,
     "metadata": {},
     "output_type": "execute_result"
    }
   ],
   "source": [
    "df.dtypes"
   ]
  },
  {
   "cell_type": "markdown",
   "metadata": {
    "id": "beAUzL9YxCZE"
   },
   "source": [
    "Converted Class data type object to int"
   ]
  },
  {
   "cell_type": "markdown",
   "metadata": {
    "id": "1rfdGDER247_"
   },
   "source": [
    "**Null values**"
   ]
  },
  {
   "cell_type": "code",
   "execution_count": 333,
   "metadata": {
    "ExecuteTime": {
     "end_time": "2023-02-16T12:37:37.309184Z",
     "start_time": "2023-02-16T12:37:37.296670Z"
    },
    "colab": {
     "base_uri": "https://localhost:8080/",
     "height": 423
    },
    "id": "iaosgb19vkAT",
    "outputId": "31fc7208-9997-4547-95b0-54b1c7a59d2a"
   },
   "outputs": [
    {
     "data": {
      "text/html": [
       "\n",
       "  <div id=\"df-d894adc6-2473-4779-95fa-266841d8e70a\">\n",
       "    <div class=\"colab-df-container\">\n",
       "      <div>\n",
       "<style scoped>\n",
       "    .dataframe tbody tr th:only-of-type {\n",
       "        vertical-align: middle;\n",
       "    }\n",
       "\n",
       "    .dataframe tbody tr th {\n",
       "        vertical-align: top;\n",
       "    }\n",
       "\n",
       "    .dataframe thead th {\n",
       "        text-align: right;\n",
       "    }\n",
       "</style>\n",
       "<table border=\"1\" class=\"dataframe\">\n",
       "  <thead>\n",
       "    <tr style=\"text-align: right;\">\n",
       "      <th></th>\n",
       "      <th>industrial_risk</th>\n",
       "      <th>management risk</th>\n",
       "      <th>financial flexibility</th>\n",
       "      <th>credibility</th>\n",
       "      <th>competitiveness</th>\n",
       "      <th>operating risk</th>\n",
       "      <th>class</th>\n",
       "    </tr>\n",
       "  </thead>\n",
       "  <tbody>\n",
       "    <tr>\n",
       "      <th>0</th>\n",
       "      <td>False</td>\n",
       "      <td>False</td>\n",
       "      <td>False</td>\n",
       "      <td>False</td>\n",
       "      <td>False</td>\n",
       "      <td>False</td>\n",
       "      <td>False</td>\n",
       "    </tr>\n",
       "    <tr>\n",
       "      <th>1</th>\n",
       "      <td>False</td>\n",
       "      <td>False</td>\n",
       "      <td>False</td>\n",
       "      <td>False</td>\n",
       "      <td>False</td>\n",
       "      <td>False</td>\n",
       "      <td>False</td>\n",
       "    </tr>\n",
       "    <tr>\n",
       "      <th>2</th>\n",
       "      <td>False</td>\n",
       "      <td>False</td>\n",
       "      <td>False</td>\n",
       "      <td>False</td>\n",
       "      <td>False</td>\n",
       "      <td>False</td>\n",
       "      <td>False</td>\n",
       "    </tr>\n",
       "    <tr>\n",
       "      <th>3</th>\n",
       "      <td>False</td>\n",
       "      <td>False</td>\n",
       "      <td>False</td>\n",
       "      <td>False</td>\n",
       "      <td>False</td>\n",
       "      <td>False</td>\n",
       "      <td>False</td>\n",
       "    </tr>\n",
       "    <tr>\n",
       "      <th>4</th>\n",
       "      <td>False</td>\n",
       "      <td>False</td>\n",
       "      <td>False</td>\n",
       "      <td>False</td>\n",
       "      <td>False</td>\n",
       "      <td>False</td>\n",
       "      <td>False</td>\n",
       "    </tr>\n",
       "    <tr>\n",
       "      <th>...</th>\n",
       "      <td>...</td>\n",
       "      <td>...</td>\n",
       "      <td>...</td>\n",
       "      <td>...</td>\n",
       "      <td>...</td>\n",
       "      <td>...</td>\n",
       "      <td>...</td>\n",
       "    </tr>\n",
       "    <tr>\n",
       "      <th>245</th>\n",
       "      <td>False</td>\n",
       "      <td>False</td>\n",
       "      <td>False</td>\n",
       "      <td>False</td>\n",
       "      <td>False</td>\n",
       "      <td>False</td>\n",
       "      <td>False</td>\n",
       "    </tr>\n",
       "    <tr>\n",
       "      <th>246</th>\n",
       "      <td>False</td>\n",
       "      <td>False</td>\n",
       "      <td>False</td>\n",
       "      <td>False</td>\n",
       "      <td>False</td>\n",
       "      <td>False</td>\n",
       "      <td>False</td>\n",
       "    </tr>\n",
       "    <tr>\n",
       "      <th>247</th>\n",
       "      <td>False</td>\n",
       "      <td>False</td>\n",
       "      <td>False</td>\n",
       "      <td>False</td>\n",
       "      <td>False</td>\n",
       "      <td>False</td>\n",
       "      <td>False</td>\n",
       "    </tr>\n",
       "    <tr>\n",
       "      <th>248</th>\n",
       "      <td>False</td>\n",
       "      <td>False</td>\n",
       "      <td>False</td>\n",
       "      <td>False</td>\n",
       "      <td>False</td>\n",
       "      <td>False</td>\n",
       "      <td>False</td>\n",
       "    </tr>\n",
       "    <tr>\n",
       "      <th>249</th>\n",
       "      <td>False</td>\n",
       "      <td>False</td>\n",
       "      <td>False</td>\n",
       "      <td>False</td>\n",
       "      <td>False</td>\n",
       "      <td>False</td>\n",
       "      <td>False</td>\n",
       "    </tr>\n",
       "  </tbody>\n",
       "</table>\n",
       "<p>250 rows × 7 columns</p>\n",
       "</div>\n",
       "      <button class=\"colab-df-convert\" onclick=\"convertToInteractive('df-d894adc6-2473-4779-95fa-266841d8e70a')\"\n",
       "              title=\"Convert this dataframe to an interactive table.\"\n",
       "              style=\"display:none;\">\n",
       "        \n",
       "  <svg xmlns=\"http://www.w3.org/2000/svg\" height=\"24px\"viewBox=\"0 0 24 24\"\n",
       "       width=\"24px\">\n",
       "    <path d=\"M0 0h24v24H0V0z\" fill=\"none\"/>\n",
       "    <path d=\"M18.56 5.44l.94 2.06.94-2.06 2.06-.94-2.06-.94-.94-2.06-.94 2.06-2.06.94zm-11 1L8.5 8.5l.94-2.06 2.06-.94-2.06-.94L8.5 2.5l-.94 2.06-2.06.94zm10 10l.94 2.06.94-2.06 2.06-.94-2.06-.94-.94-2.06-.94 2.06-2.06.94z\"/><path d=\"M17.41 7.96l-1.37-1.37c-.4-.4-.92-.59-1.43-.59-.52 0-1.04.2-1.43.59L10.3 9.45l-7.72 7.72c-.78.78-.78 2.05 0 2.83L4 21.41c.39.39.9.59 1.41.59.51 0 1.02-.2 1.41-.59l7.78-7.78 2.81-2.81c.8-.78.8-2.07 0-2.86zM5.41 20L4 18.59l7.72-7.72 1.47 1.35L5.41 20z\"/>\n",
       "  </svg>\n",
       "      </button>\n",
       "      \n",
       "  <style>\n",
       "    .colab-df-container {\n",
       "      display:flex;\n",
       "      flex-wrap:wrap;\n",
       "      gap: 12px;\n",
       "    }\n",
       "\n",
       "    .colab-df-convert {\n",
       "      background-color: #E8F0FE;\n",
       "      border: none;\n",
       "      border-radius: 50%;\n",
       "      cursor: pointer;\n",
       "      display: none;\n",
       "      fill: #1967D2;\n",
       "      height: 32px;\n",
       "      padding: 0 0 0 0;\n",
       "      width: 32px;\n",
       "    }\n",
       "\n",
       "    .colab-df-convert:hover {\n",
       "      background-color: #E2EBFA;\n",
       "      box-shadow: 0px 1px 2px rgba(60, 64, 67, 0.3), 0px 1px 3px 1px rgba(60, 64, 67, 0.15);\n",
       "      fill: #174EA6;\n",
       "    }\n",
       "\n",
       "    [theme=dark] .colab-df-convert {\n",
       "      background-color: #3B4455;\n",
       "      fill: #D2E3FC;\n",
       "    }\n",
       "\n",
       "    [theme=dark] .colab-df-convert:hover {\n",
       "      background-color: #434B5C;\n",
       "      box-shadow: 0px 1px 3px 1px rgba(0, 0, 0, 0.15);\n",
       "      filter: drop-shadow(0px 1px 2px rgba(0, 0, 0, 0.3));\n",
       "      fill: #FFFFFF;\n",
       "    }\n",
       "  </style>\n",
       "\n",
       "      <script>\n",
       "        const buttonEl =\n",
       "          document.querySelector('#df-d894adc6-2473-4779-95fa-266841d8e70a button.colab-df-convert');\n",
       "        buttonEl.style.display =\n",
       "          google.colab.kernel.accessAllowed ? 'block' : 'none';\n",
       "\n",
       "        async function convertToInteractive(key) {\n",
       "          const element = document.querySelector('#df-d894adc6-2473-4779-95fa-266841d8e70a');\n",
       "          const dataTable =\n",
       "            await google.colab.kernel.invokeFunction('convertToInteractive',\n",
       "                                                     [key], {});\n",
       "          if (!dataTable) return;\n",
       "\n",
       "          const docLinkHtml = 'Like what you see? Visit the ' +\n",
       "            '<a target=\"_blank\" href=https://colab.research.google.com/notebooks/data_table.ipynb>data table notebook</a>'\n",
       "            + ' to learn more about interactive tables.';\n",
       "          element.innerHTML = '';\n",
       "          dataTable['output_type'] = 'display_data';\n",
       "          await google.colab.output.renderOutput(dataTable, element);\n",
       "          const docLink = document.createElement('div');\n",
       "          docLink.innerHTML = docLinkHtml;\n",
       "          element.appendChild(docLink);\n",
       "        }\n",
       "      </script>\n",
       "    </div>\n",
       "  </div>\n",
       "  "
      ],
      "text/plain": [
       "     industrial_risk  management risk  financial flexibility  credibility  \\\n",
       "0              False            False                  False        False   \n",
       "1              False            False                  False        False   \n",
       "2              False            False                  False        False   \n",
       "3              False            False                  False        False   \n",
       "4              False            False                  False        False   \n",
       "..               ...              ...                    ...          ...   \n",
       "245            False            False                  False        False   \n",
       "246            False            False                  False        False   \n",
       "247            False            False                  False        False   \n",
       "248            False            False                  False        False   \n",
       "249            False            False                  False        False   \n",
       "\n",
       "     competitiveness  operating risk  class  \n",
       "0              False           False  False  \n",
       "1              False           False  False  \n",
       "2              False           False  False  \n",
       "3              False           False  False  \n",
       "4              False           False  False  \n",
       "..               ...             ...    ...  \n",
       "245            False           False  False  \n",
       "246            False           False  False  \n",
       "247            False           False  False  \n",
       "248            False           False  False  \n",
       "249            False           False  False  \n",
       "\n",
       "[250 rows x 7 columns]"
      ]
     },
     "execution_count": 333,
     "metadata": {},
     "output_type": "execute_result"
    }
   ],
   "source": [
    "df.isnull()"
   ]
  },
  {
   "cell_type": "code",
   "execution_count": 334,
   "metadata": {
    "ExecuteTime": {
     "end_time": "2023-02-16T12:37:37.324959Z",
     "start_time": "2023-02-16T12:37:37.311175Z"
    },
    "colab": {
     "base_uri": "https://localhost:8080/"
    },
    "id": "-qjXWDyNRd2s",
    "outputId": "9e9b5c7a-caf3-4332-ab4a-8d3b36b24491"
   },
   "outputs": [
    {
     "data": {
      "text/plain": [
       "industrial_risk          0\n",
       "management risk          0\n",
       "financial flexibility    0\n",
       "credibility              0\n",
       "competitiveness          0\n",
       "operating risk           0\n",
       "class                    0\n",
       "dtype: int64"
      ]
     },
     "execution_count": 334,
     "metadata": {},
     "output_type": "execute_result"
    }
   ],
   "source": [
    "df.isnull().sum()"
   ]
  },
  {
   "cell_type": "code",
   "execution_count": 335,
   "metadata": {
    "ExecuteTime": {
     "end_time": "2023-02-16T12:37:40.020853Z",
     "start_time": "2023-02-16T12:37:37.327054Z"
    },
    "colab": {
     "base_uri": "https://localhost:8080/",
     "height": 369
    },
    "id": "VBtYOLMrQ4h2",
    "outputId": "a9971222-a294-45de-9fe5-d989885c27c0"
   },
   "outputs": [
    {
     "data": {
      "text/plain": [
       "<matplotlib.axes._subplots.AxesSubplot at 0x7f94c2b39ca0>"
      ]
     },
     "execution_count": 335,
     "metadata": {},
     "output_type": "execute_result"
    },
    {
     "data": {
      "image/png": "[encoded data removed]",
      "text/plain": [
       "<Figure size 432x288 with 2 Axes>"
      ]
     },
     "metadata": {
      "needs_background": "light"
     },
     "output_type": "display_data"
    }
   ],
   "source": [
    "sns.heatmap(df.isnull(), annot = True , cmap = 'rainbow_r')"
   ]
  },
  {
   "cell_type": "markdown",
   "metadata": {
    "id": "Ecy4i5Hg8xOe"
   },
   "source": [
    "In given dataset, their is no any null values"
   ]
  },
  {
   "cell_type": "markdown",
   "metadata": {
    "id": "nIu0c6K7279p"
   },
   "source": [
    "**Duplicate Values**"
   ]
  },
  {
   "cell_type": "code",
   "execution_count": 336,
   "metadata": {
    "ExecuteTime": {
     "end_time": "2023-02-16T12:37:40.041160Z",
     "start_time": "2023-02-16T12:37:40.022919Z"
    },
    "colab": {
     "base_uri": "https://localhost:8080/"
    },
    "id": "6TsrlrDCxmvF",
    "outputId": "f62d0b6e-15f5-48e3-fd55-cd25d11ead30"
   },
   "outputs": [
    {
     "data": {
      "text/plain": [
       "0      False\n",
       "1      False\n",
       "2      False\n",
       "3      False\n",
       "4      False\n",
       "       ...  \n",
       "245     True\n",
       "246     True\n",
       "247     True\n",
       "248     True\n",
       "249     True\n",
       "Length: 250, dtype: bool"
      ]
     },
     "execution_count": 336,
     "metadata": {},
     "output_type": "execute_result"
    }
   ],
   "source": [
    "df.duplicated()"
   ]
  },
  {
   "cell_type": "code",
   "execution_count": 337,
   "metadata": {
    "ExecuteTime": {
     "end_time": "2023-02-16T12:37:40.074173Z",
     "start_time": "2023-02-16T12:37:40.044377Z"
    },
    "colab": {
     "base_uri": "https://localhost:8080/",
     "height": 423
    },
    "id": "LaD7TULBziif",
    "outputId": "ed9ec5af-4235-485a-b0df-85b82a514599"
   },
   "outputs": [
    {
     "data": {
      "text/html": [
       "\n",
       "  <div id=\"df-39761575-eca9-44fd-b3ed-ffa5ef1fb8d9\">\n",
       "    <div class=\"colab-df-container\">\n",
       "      <div>\n",
       "<style scoped>\n",
       "    .dataframe tbody tr th:only-of-type {\n",
       "        vertical-align: middle;\n",
       "    }\n",
       "\n",
       "    .dataframe tbody tr th {\n",
       "        vertical-align: top;\n",
       "    }\n",
       "\n",
       "    .dataframe thead th {\n",
       "        text-align: right;\n",
       "    }\n",
       "</style>\n",
       "<table border=\"1\" class=\"dataframe\">\n",
       "  <thead>\n",
       "    <tr style=\"text-align: right;\">\n",
       "      <th></th>\n",
       "      <th>industrial_risk</th>\n",
       "      <th>management risk</th>\n",
       "      <th>financial flexibility</th>\n",
       "      <th>credibility</th>\n",
       "      <th>competitiveness</th>\n",
       "      <th>operating risk</th>\n",
       "      <th>class</th>\n",
       "    </tr>\n",
       "  </thead>\n",
       "  <tbody>\n",
       "    <tr>\n",
       "      <th>11</th>\n",
       "      <td>0.0</td>\n",
       "      <td>1.0</td>\n",
       "      <td>0.0</td>\n",
       "      <td>0.0</td>\n",
       "      <td>0.0</td>\n",
       "      <td>1.0</td>\n",
       "      <td>0</td>\n",
       "    </tr>\n",
       "    <tr>\n",
       "      <th>13</th>\n",
       "      <td>1.0</td>\n",
       "      <td>1.0</td>\n",
       "      <td>0.0</td>\n",
       "      <td>0.0</td>\n",
       "      <td>0.0</td>\n",
       "      <td>1.0</td>\n",
       "      <td>0</td>\n",
       "    </tr>\n",
       "    <tr>\n",
       "      <th>15</th>\n",
       "      <td>0.5</td>\n",
       "      <td>1.0</td>\n",
       "      <td>0.0</td>\n",
       "      <td>0.0</td>\n",
       "      <td>0.0</td>\n",
       "      <td>0.5</td>\n",
       "      <td>0</td>\n",
       "    </tr>\n",
       "    <tr>\n",
       "      <th>16</th>\n",
       "      <td>0.5</td>\n",
       "      <td>1.0</td>\n",
       "      <td>0.0</td>\n",
       "      <td>0.0</td>\n",
       "      <td>0.0</td>\n",
       "      <td>0.5</td>\n",
       "      <td>0</td>\n",
       "    </tr>\n",
       "    <tr>\n",
       "      <th>18</th>\n",
       "      <td>0.5</td>\n",
       "      <td>1.0</td>\n",
       "      <td>0.0</td>\n",
       "      <td>0.0</td>\n",
       "      <td>0.0</td>\n",
       "      <td>1.0</td>\n",
       "      <td>0</td>\n",
       "    </tr>\n",
       "    <tr>\n",
       "      <th>...</th>\n",
       "      <td>...</td>\n",
       "      <td>...</td>\n",
       "      <td>...</td>\n",
       "      <td>...</td>\n",
       "      <td>...</td>\n",
       "      <td>...</td>\n",
       "      <td>...</td>\n",
       "    </tr>\n",
       "    <tr>\n",
       "      <th>245</th>\n",
       "      <td>0.0</td>\n",
       "      <td>1.0</td>\n",
       "      <td>1.0</td>\n",
       "      <td>1.0</td>\n",
       "      <td>1.0</td>\n",
       "      <td>1.0</td>\n",
       "      <td>1</td>\n",
       "    </tr>\n",
       "    <tr>\n",
       "      <th>246</th>\n",
       "      <td>1.0</td>\n",
       "      <td>1.0</td>\n",
       "      <td>0.5</td>\n",
       "      <td>1.0</td>\n",
       "      <td>1.0</td>\n",
       "      <td>0.0</td>\n",
       "      <td>1</td>\n",
       "    </tr>\n",
       "    <tr>\n",
       "      <th>247</th>\n",
       "      <td>0.0</td>\n",
       "      <td>1.0</td>\n",
       "      <td>1.0</td>\n",
       "      <td>0.5</td>\n",
       "      <td>0.5</td>\n",
       "      <td>0.0</td>\n",
       "      <td>1</td>\n",
       "    </tr>\n",
       "    <tr>\n",
       "      <th>248</th>\n",
       "      <td>1.0</td>\n",
       "      <td>0.0</td>\n",
       "      <td>0.5</td>\n",
       "      <td>1.0</td>\n",
       "      <td>0.5</td>\n",
       "      <td>0.0</td>\n",
       "      <td>1</td>\n",
       "    </tr>\n",
       "    <tr>\n",
       "      <th>249</th>\n",
       "      <td>1.0</td>\n",
       "      <td>0.0</td>\n",
       "      <td>0.5</td>\n",
       "      <td>0.5</td>\n",
       "      <td>1.0</td>\n",
       "      <td>1.0</td>\n",
       "      <td>1</td>\n",
       "    </tr>\n",
       "  </tbody>\n",
       "</table>\n",
       "<p>147 rows × 7 columns</p>\n",
       "</div>\n",
       "      <button class=\"colab-df-convert\" onclick=\"convertToInteractive('df-39761575-eca9-44fd-b3ed-ffa5ef1fb8d9')\"\n",
       "              title=\"Convert this dataframe to an interactive table.\"\n",
       "              style=\"display:none;\">\n",
       "        \n",
       "  <svg xmlns=\"http://www.w3.org/2000/svg\" height=\"24px\"viewBox=\"0 0 24 24\"\n",
       "       width=\"24px\">\n",
       "    <path d=\"M0 0h24v24H0V0z\" fill=\"none\"/>\n",
       "    <path d=\"M18.56 5.44l.94 2.06.94-2.06 2.06-.94-2.06-.94-.94-2.06-.94 2.06-2.06.94zm-11 1L8.5 8.5l.94-2.06 2.06-.94-2.06-.94L8.5 2.5l-.94 2.06-2.06.94zm10 10l.94 2.06.94-2.06 2.06-.94-2.06-.94-.94-2.06-.94 2.06-2.06.94z\"/><path d=\"M17.41 7.96l-1.37-1.37c-.4-.4-.92-.59-1.43-.59-.52 0-1.04.2-1.43.59L10.3 9.45l-7.72 7.72c-.78.78-.78 2.05 0 2.83L4 21.41c.39.39.9.59 1.41.59.51 0 1.02-.2 1.41-.59l7.78-7.78 2.81-2.81c.8-.78.8-2.07 0-2.86zM5.41 20L4 18.59l7.72-7.72 1.47 1.35L5.41 20z\"/>\n",
       "  </svg>\n",
       "      </button>\n",
       "      \n",
       "  <style>\n",
       "    .colab-df-container {\n",
       "      display:flex;\n",
       "      flex-wrap:wrap;\n",
       "      gap: 12px;\n",
       "    }\n",
       "\n",
       "    .colab-df-convert {\n",
       "      background-color: #E8F0FE;\n",
       "      border: none;\n",
       "      border-radius: 50%;\n",
       "      cursor: pointer;\n",
       "      display: none;\n",
       "      fill: #1967D2;\n",
       "      height: 32px;\n",
       "      padding: 0 0 0 0;\n",
       "      width: 32px;\n",
       "    }\n",
       "\n",
       "    .colab-df-convert:hover {\n",
       "      background-color: #E2EBFA;\n",
       "      box-shadow: 0px 1px 2px rgba(60, 64, 67, 0.3), 0px 1px 3px 1px rgba(60, 64, 67, 0.15);\n",
       "      fill: #174EA6;\n",
       "    }\n",
       "\n",
       "    [theme=dark] .colab-df-convert {\n",
       "      background-color: #3B4455;\n",
       "      fill: #D2E3FC;\n",
       "    }\n",
       "\n",
       "    [theme=dark] .colab-df-convert:hover {\n",
       "      background-color: #434B5C;\n",
       "      box-shadow: 0px 1px 3px 1px rgba(0, 0, 0, 0.15);\n",
       "      filter: drop-shadow(0px 1px 2px rgba(0, 0, 0, 0.3));\n",
       "      fill: #FFFFFF;\n",
       "    }\n",
       "  </style>\n",
       "\n",
       "      <script>\n",
       "        const buttonEl =\n",
       "          document.querySelector('#df-39761575-eca9-44fd-b3ed-ffa5ef1fb8d9 button.colab-df-convert');\n",
       "        buttonEl.style.display =\n",
       "          google.colab.kernel.accessAllowed ? 'block' : 'none';\n",
       "\n",
       "        async function convertToInteractive(key) {\n",
       "          const element = document.querySelector('#df-39761575-eca9-44fd-b3ed-ffa5ef1fb8d9');\n",
       "          const dataTable =\n",
       "            await google.colab.kernel.invokeFunction('convertToInteractive',\n",
       "                                                     [key], {});\n",
       "          if (!dataTable) return;\n",
       "\n",
       "          const docLinkHtml = 'Like what you see? Visit the ' +\n",
       "            '<a target=\"_blank\" href=https://colab.research.google.com/notebooks/data_table.ipynb>data table notebook</a>'\n",
       "            + ' to learn more about interactive tables.';\n",
       "          element.innerHTML = '';\n",
       "          dataTable['output_type'] = 'display_data';\n",
       "          await google.colab.output.renderOutput(dataTable, element);\n",
       "          const docLink = document.createElement('div');\n",
       "          docLink.innerHTML = docLinkHtml;\n",
       "          element.appendChild(docLink);\n",
       "        }\n",
       "      </script>\n",
       "    </div>\n",
       "  </div>\n",
       "  "
      ],
      "text/plain": [
       "     industrial_risk  management risk  financial flexibility  credibility  \\\n",
       "11               0.0              1.0                    0.0          0.0   \n",
       "13               1.0              1.0                    0.0          0.0   \n",
       "15               0.5              1.0                    0.0          0.0   \n",
       "16               0.5              1.0                    0.0          0.0   \n",
       "18               0.5              1.0                    0.0          0.0   \n",
       "..               ...              ...                    ...          ...   \n",
       "245              0.0              1.0                    1.0          1.0   \n",
       "246              1.0              1.0                    0.5          1.0   \n",
       "247              0.0              1.0                    1.0          0.5   \n",
       "248              1.0              0.0                    0.5          1.0   \n",
       "249              1.0              0.0                    0.5          0.5   \n",
       "\n",
       "     competitiveness  operating risk  class  \n",
       "11               0.0             1.0      0  \n",
       "13               0.0             1.0      0  \n",
       "15               0.0             0.5      0  \n",
       "16               0.0             0.5      0  \n",
       "18               0.0             1.0      0  \n",
       "..               ...             ...    ...  \n",
       "245              1.0             1.0      1  \n",
       "246              1.0             0.0      1  \n",
       "247              0.5             0.0      1  \n",
       "248              0.5             0.0      1  \n",
       "249              1.0             1.0      1  \n",
       "\n",
       "[147 rows x 7 columns]"
      ]
     },
     "execution_count": 337,
     "metadata": {},
     "output_type": "execute_result"
    }
   ],
   "source": [
    "df[df.duplicated()]"
   ]
  },
  {
   "cell_type": "code",
   "execution_count": 338,
   "metadata": {
    "ExecuteTime": {
     "end_time": "2023-02-16T12:37:40.090009Z",
     "start_time": "2023-02-16T12:37:40.077186Z"
    },
    "colab": {
     "base_uri": "https://localhost:8080/"
    },
    "id": "IsViVTCwzcuR",
    "outputId": "00a4f4d8-fc96-44a2-e0a5-4665bbc3eaa3"
   },
   "outputs": [
    {
     "data": {
      "text/plain": [
       "(147, 7)"
      ]
     },
     "execution_count": 338,
     "metadata": {},
     "output_type": "execute_result"
    }
   ],
   "source": [
    "df[df.duplicated()].shape"
   ]
  },
  {
   "cell_type": "markdown",
   "metadata": {
    "id": "6xWKJbUb9Lbo"
   },
   "source": [
    "There are 147 duplicate values are present in dataset.\n",
    "\n",
    "comapnies may have same values so we can't drop them"
   ]
  },
  {
   "cell_type": "markdown",
   "metadata": {
    "id": "hCmArEfE3AhY"
   },
   "source": [
    "#outlier Detection"
   ]
  },
  {
   "cell_type": "code",
   "execution_count": 339,
   "metadata": {
    "ExecuteTime": {
     "end_time": "2023-02-16T12:37:40.107496Z",
     "start_time": "2023-02-16T12:37:40.092002Z"
    },
    "colab": {
     "base_uri": "https://localhost:8080/",
     "height": 206
    },
    "id": "LBxHF64b2ibi",
    "outputId": "df5f8d52-950b-4d6c-c3b3-3101e7213972"
   },
   "outputs": [
    {
     "data": {
      "text/html": [
       "\n",
       "  <div id=\"df-d6a33b2c-9cbb-4282-ac27-83c8b8d13d01\">\n",
       "    <div class=\"colab-df-container\">\n",
       "      <div>\n",
       "<style scoped>\n",
       "    .dataframe tbody tr th:only-of-type {\n",
       "        vertical-align: middle;\n",
       "    }\n",
       "\n",
       "    .dataframe tbody tr th {\n",
       "        vertical-align: top;\n",
       "    }\n",
       "\n",
       "    .dataframe thead th {\n",
       "        text-align: right;\n",
       "    }\n",
       "</style>\n",
       "<table border=\"1\" class=\"dataframe\">\n",
       "  <thead>\n",
       "    <tr style=\"text-align: right;\">\n",
       "      <th></th>\n",
       "      <th>industrial_risk</th>\n",
       "      <th>management risk</th>\n",
       "      <th>financial flexibility</th>\n",
       "      <th>credibility</th>\n",
       "      <th>competitiveness</th>\n",
       "      <th>operating risk</th>\n",
       "      <th>class</th>\n",
       "    </tr>\n",
       "  </thead>\n",
       "  <tbody>\n",
       "    <tr>\n",
       "      <th>0</th>\n",
       "      <td>0.5</td>\n",
       "      <td>1.0</td>\n",
       "      <td>0.0</td>\n",
       "      <td>0.0</td>\n",
       "      <td>0.0</td>\n",
       "      <td>0.5</td>\n",
       "      <td>0</td>\n",
       "    </tr>\n",
       "    <tr>\n",
       "      <th>1</th>\n",
       "      <td>0.0</td>\n",
       "      <td>1.0</td>\n",
       "      <td>0.0</td>\n",
       "      <td>0.0</td>\n",
       "      <td>0.0</td>\n",
       "      <td>1.0</td>\n",
       "      <td>0</td>\n",
       "    </tr>\n",
       "    <tr>\n",
       "      <th>2</th>\n",
       "      <td>1.0</td>\n",
       "      <td>0.0</td>\n",
       "      <td>0.0</td>\n",
       "      <td>0.0</td>\n",
       "      <td>0.0</td>\n",
       "      <td>1.0</td>\n",
       "      <td>0</td>\n",
       "    </tr>\n",
       "    <tr>\n",
       "      <th>3</th>\n",
       "      <td>0.5</td>\n",
       "      <td>0.0</td>\n",
       "      <td>0.0</td>\n",
       "      <td>0.5</td>\n",
       "      <td>0.0</td>\n",
       "      <td>1.0</td>\n",
       "      <td>0</td>\n",
       "    </tr>\n",
       "    <tr>\n",
       "      <th>4</th>\n",
       "      <td>1.0</td>\n",
       "      <td>1.0</td>\n",
       "      <td>0.0</td>\n",
       "      <td>0.0</td>\n",
       "      <td>0.0</td>\n",
       "      <td>1.0</td>\n",
       "      <td>0</td>\n",
       "    </tr>\n",
       "  </tbody>\n",
       "</table>\n",
       "</div>\n",
       "      <button class=\"colab-df-convert\" onclick=\"convertToInteractive('df-d6a33b2c-9cbb-4282-ac27-83c8b8d13d01')\"\n",
       "              title=\"Convert this dataframe to an interactive table.\"\n",
       "              style=\"display:none;\">\n",
       "        \n",
       "  <svg xmlns=\"http://www.w3.org/2000/svg\" height=\"24px\"viewBox=\"0 0 24 24\"\n",
       "       width=\"24px\">\n",
       "    <path d=\"M0 0h24v24H0V0z\" fill=\"none\"/>\n",
       "    <path d=\"M18.56 5.44l.94 2.06.94-2.06 2.06-.94-2.06-.94-.94-2.06-.94 2.06-2.06.94zm-11 1L8.5 8.5l.94-2.06 2.06-.94-2.06-.94L8.5 2.5l-.94 2.06-2.06.94zm10 10l.94 2.06.94-2.06 2.06-.94-2.06-.94-.94-2.06-.94 2.06-2.06.94z\"/><path d=\"M17.41 7.96l-1.37-1.37c-.4-.4-.92-.59-1.43-.59-.52 0-1.04.2-1.43.59L10.3 9.45l-7.72 7.72c-.78.78-.78 2.05 0 2.83L4 21.41c.39.39.9.59 1.41.59.51 0 1.02-.2 1.41-.59l7.78-7.78 2.81-2.81c.8-.78.8-2.07 0-2.86zM5.41 20L4 18.59l7.72-7.72 1.47 1.35L5.41 20z\"/>\n",
       "  </svg>\n",
       "      </button>\n",
       "      \n",
       "  <style>\n",
       "    .colab-df-container {\n",
       "      display:flex;\n",
       "      flex-wrap:wrap;\n",
       "      gap: 12px;\n",
       "    }\n",
       "\n",
       "    .colab-df-convert {\n",
       "      background-color: #E8F0FE;\n",
       "      border: none;\n",
       "      border-radius: 50%;\n",
       "      cursor: pointer;\n",
       "      display: none;\n",
       "      fill: #1967D2;\n",
       "      height: 32px;\n",
       "      padding: 0 0 0 0;\n",
       "      width: 32px;\n",
       "    }\n",
       "\n",
       "    .colab-df-convert:hover {\n",
       "      background-color: #E2EBFA;\n",
       "      box-shadow: 0px 1px 2px rgba(60, 64, 67, 0.3), 0px 1px 3px 1px rgba(60, 64, 67, 0.15);\n",
       "      fill: #174EA6;\n",
       "    }\n",
       "\n",
       "    [theme=dark] .colab-df-convert {\n",
       "      background-color: #3B4455;\n",
       "      fill: #D2E3FC;\n",
       "    }\n",
       "\n",
       "    [theme=dark] .colab-df-convert:hover {\n",
       "      background-color: #434B5C;\n",
       "      box-shadow: 0px 1px 3px 1px rgba(0, 0, 0, 0.15);\n",
       "      filter: drop-shadow(0px 1px 2px rgba(0, 0, 0, 0.3));\n",
       "      fill: #FFFFFF;\n",
       "    }\n",
       "  </style>\n",
       "\n",
       "      <script>\n",
       "        const buttonEl =\n",
       "          document.querySelector('#df-d6a33b2c-9cbb-4282-ac27-83c8b8d13d01 button.colab-df-convert');\n",
       "        buttonEl.style.display =\n",
       "          google.colab.kernel.accessAllowed ? 'block' : 'none';\n",
       "\n",
       "        async function convertToInteractive(key) {\n",
       "          const element = document.querySelector('#df-d6a33b2c-9cbb-4282-ac27-83c8b8d13d01');\n",
       "          const dataTable =\n",
       "            await google.colab.kernel.invokeFunction('convertToInteractive',\n",
       "                                                     [key], {});\n",
       "          if (!dataTable) return;\n",
       "\n",
       "          const docLinkHtml = 'Like what you see? Visit the ' +\n",
       "            '<a target=\"_blank\" href=https://colab.research.google.com/notebooks/data_table.ipynb>data table notebook</a>'\n",
       "            + ' to learn more about interactive tables.';\n",
       "          element.innerHTML = '';\n",
       "          dataTable['output_type'] = 'display_data';\n",
       "          await google.colab.output.renderOutput(dataTable, element);\n",
       "          const docLink = document.createElement('div');\n",
       "          docLink.innerHTML = docLinkHtml;\n",
       "          element.appendChild(docLink);\n",
       "        }\n",
       "      </script>\n",
       "    </div>\n",
       "  </div>\n",
       "  "
      ],
      "text/plain": [
       "   industrial_risk  management risk  financial flexibility  credibility  \\\n",
       "0              0.5              1.0                    0.0          0.0   \n",
       "1              0.0              1.0                    0.0          0.0   \n",
       "2              1.0              0.0                    0.0          0.0   \n",
       "3              0.5              0.0                    0.0          0.5   \n",
       "4              1.0              1.0                    0.0          0.0   \n",
       "\n",
       "   competitiveness  operating risk  class  \n",
       "0              0.0             0.5      0  \n",
       "1              0.0             1.0      0  \n",
       "2              0.0             1.0      0  \n",
       "3              0.0             1.0      0  \n",
       "4              0.0             1.0      0  "
      ]
     },
     "execution_count": 339,
     "metadata": {},
     "output_type": "execute_result"
    }
   ],
   "source": [
    "df.head(5)"
   ]
  },
  {
   "cell_type": "code",
   "execution_count": 340,
   "metadata": {
    "ExecuteTime": {
     "end_time": "2023-02-16T12:37:40.140703Z",
     "start_time": "2023-02-16T12:37:40.109874Z"
    },
    "colab": {
     "base_uri": "https://localhost:8080/",
     "height": 394
    },
    "id": "tQuvOM4ZwDGj",
    "outputId": "450d42db-b7f5-4149-b9e1-57af737dfd95"
   },
   "outputs": [
    {
     "data": {
      "text/html": [
       "\n",
       "  <div id=\"df-2fb5ada3-fad4-40fe-a0cd-c4fdad06fef7\">\n",
       "    <div class=\"colab-df-container\">\n",
       "      <div>\n",
       "<style scoped>\n",
       "    .dataframe tbody tr th:only-of-type {\n",
       "        vertical-align: middle;\n",
       "    }\n",
       "\n",
       "    .dataframe tbody tr th {\n",
       "        vertical-align: top;\n",
       "    }\n",
       "\n",
       "    .dataframe thead th {\n",
       "        text-align: right;\n",
       "    }\n",
       "</style>\n",
       "<table border=\"1\" class=\"dataframe\">\n",
       "  <thead>\n",
       "    <tr style=\"text-align: right;\">\n",
       "      <th></th>\n",
       "      <th>industrial_risk</th>\n",
       "      <th>management risk</th>\n",
       "      <th>financial flexibility</th>\n",
       "      <th>credibility</th>\n",
       "      <th>competitiveness</th>\n",
       "      <th>operating risk</th>\n",
       "      <th>class</th>\n",
       "    </tr>\n",
       "  </thead>\n",
       "  <tbody>\n",
       "    <tr>\n",
       "      <th>count</th>\n",
       "      <td>250.000000</td>\n",
       "      <td>250.000000</td>\n",
       "      <td>250.000000</td>\n",
       "      <td>250.000000</td>\n",
       "      <td>250.000000</td>\n",
       "      <td>250.000000</td>\n",
       "      <td>250.000000</td>\n",
       "    </tr>\n",
       "    <tr>\n",
       "      <th>mean</th>\n",
       "      <td>0.518000</td>\n",
       "      <td>0.614000</td>\n",
       "      <td>0.376000</td>\n",
       "      <td>0.470000</td>\n",
       "      <td>0.476000</td>\n",
       "      <td>0.570000</td>\n",
       "      <td>0.572000</td>\n",
       "    </tr>\n",
       "    <tr>\n",
       "      <th>std</th>\n",
       "      <td>0.411526</td>\n",
       "      <td>0.410705</td>\n",
       "      <td>0.401583</td>\n",
       "      <td>0.415682</td>\n",
       "      <td>0.440682</td>\n",
       "      <td>0.434575</td>\n",
       "      <td>0.495781</td>\n",
       "    </tr>\n",
       "    <tr>\n",
       "      <th>min</th>\n",
       "      <td>0.000000</td>\n",
       "      <td>0.000000</td>\n",
       "      <td>0.000000</td>\n",
       "      <td>0.000000</td>\n",
       "      <td>0.000000</td>\n",
       "      <td>0.000000</td>\n",
       "      <td>0.000000</td>\n",
       "    </tr>\n",
       "    <tr>\n",
       "      <th>10%</th>\n",
       "      <td>0.000000</td>\n",
       "      <td>0.000000</td>\n",
       "      <td>0.000000</td>\n",
       "      <td>0.000000</td>\n",
       "      <td>0.000000</td>\n",
       "      <td>0.000000</td>\n",
       "      <td>0.000000</td>\n",
       "    </tr>\n",
       "    <tr>\n",
       "      <th>20%</th>\n",
       "      <td>0.000000</td>\n",
       "      <td>0.000000</td>\n",
       "      <td>0.000000</td>\n",
       "      <td>0.000000</td>\n",
       "      <td>0.000000</td>\n",
       "      <td>0.000000</td>\n",
       "      <td>0.000000</td>\n",
       "    </tr>\n",
       "    <tr>\n",
       "      <th>50%</th>\n",
       "      <td>0.500000</td>\n",
       "      <td>0.500000</td>\n",
       "      <td>0.500000</td>\n",
       "      <td>0.500000</td>\n",
       "      <td>0.500000</td>\n",
       "      <td>0.500000</td>\n",
       "      <td>1.000000</td>\n",
       "    </tr>\n",
       "    <tr>\n",
       "      <th>90%</th>\n",
       "      <td>1.000000</td>\n",
       "      <td>1.000000</td>\n",
       "      <td>1.000000</td>\n",
       "      <td>1.000000</td>\n",
       "      <td>1.000000</td>\n",
       "      <td>1.000000</td>\n",
       "      <td>1.000000</td>\n",
       "    </tr>\n",
       "    <tr>\n",
       "      <th>99%</th>\n",
       "      <td>1.000000</td>\n",
       "      <td>1.000000</td>\n",
       "      <td>1.000000</td>\n",
       "      <td>1.000000</td>\n",
       "      <td>1.000000</td>\n",
       "      <td>1.000000</td>\n",
       "      <td>1.000000</td>\n",
       "    </tr>\n",
       "    <tr>\n",
       "      <th>99.5%</th>\n",
       "      <td>1.000000</td>\n",
       "      <td>1.000000</td>\n",
       "      <td>1.000000</td>\n",
       "      <td>1.000000</td>\n",
       "      <td>1.000000</td>\n",
       "      <td>1.000000</td>\n",
       "      <td>1.000000</td>\n",
       "    </tr>\n",
       "    <tr>\n",
       "      <th>max</th>\n",
       "      <td>1.000000</td>\n",
       "      <td>1.000000</td>\n",
       "      <td>1.000000</td>\n",
       "      <td>1.000000</td>\n",
       "      <td>1.000000</td>\n",
       "      <td>1.000000</td>\n",
       "      <td>1.000000</td>\n",
       "    </tr>\n",
       "  </tbody>\n",
       "</table>\n",
       "</div>\n",
       "      <button class=\"colab-df-convert\" onclick=\"convertToInteractive('df-2fb5ada3-fad4-40fe-a0cd-c4fdad06fef7')\"\n",
       "              title=\"Convert this dataframe to an interactive table.\"\n",
       "              style=\"display:none;\">\n",
       "        \n",
       "  <svg xmlns=\"http://www.w3.org/2000/svg\" height=\"24px\"viewBox=\"0 0 24 24\"\n",
       "       width=\"24px\">\n",
       "    <path d=\"M0 0h24v24H0V0z\" fill=\"none\"/>\n",
       "    <path d=\"M18.56 5.44l.94 2.06.94-2.06 2.06-.94-2.06-.94-.94-2.06-.94 2.06-2.06.94zm-11 1L8.5 8.5l.94-2.06 2.06-.94-2.06-.94L8.5 2.5l-.94 2.06-2.06.94zm10 10l.94 2.06.94-2.06 2.06-.94-2.06-.94-.94-2.06-.94 2.06-2.06.94z\"/><path d=\"M17.41 7.96l-1.37-1.37c-.4-.4-.92-.59-1.43-.59-.52 0-1.04.2-1.43.59L10.3 9.45l-7.72 7.72c-.78.78-.78 2.05 0 2.83L4 21.41c.39.39.9.59 1.41.59.51 0 1.02-.2 1.41-.59l7.78-7.78 2.81-2.81c.8-.78.8-2.07 0-2.86zM5.41 20L4 18.59l7.72-7.72 1.47 1.35L5.41 20z\"/>\n",
       "  </svg>\n",
       "      </button>\n",
       "      \n",
       "  <style>\n",
       "    .colab-df-container {\n",
       "      display:flex;\n",
       "      flex-wrap:wrap;\n",
       "      gap: 12px;\n",
       "    }\n",
       "\n",
       "    .colab-df-convert {\n",
       "      background-color: #E8F0FE;\n",
       "      border: none;\n",
       "      border-radius: 50%;\n",
       "      cursor: pointer;\n",
       "      display: none;\n",
       "      fill: #1967D2;\n",
       "      height: 32px;\n",
       "      padding: 0 0 0 0;\n",
       "      width: 32px;\n",
       "    }\n",
       "\n",
       "    .colab-df-convert:hover {\n",
       "      background-color: #E2EBFA;\n",
       "      box-shadow: 0px 1px 2px rgba(60, 64, 67, 0.3), 0px 1px 3px 1px rgba(60, 64, 67, 0.15);\n",
       "      fill: #174EA6;\n",
       "    }\n",
       "\n",
       "    [theme=dark] .colab-df-convert {\n",
       "      background-color: #3B4455;\n",
       "      fill: #D2E3FC;\n",
       "    }\n",
       "\n",
       "    [theme=dark] .colab-df-convert:hover {\n",
       "      background-color: #434B5C;\n",
       "      box-shadow: 0px 1px 3px 1px rgba(0, 0, 0, 0.15);\n",
       "      filter: drop-shadow(0px 1px 2px rgba(0, 0, 0, 0.3));\n",
       "      fill: #FFFFFF;\n",
       "    }\n",
       "  </style>\n",
       "\n",
       "      <script>\n",
       "        const buttonEl =\n",
       "          document.querySelector('#df-2fb5ada3-fad4-40fe-a0cd-c4fdad06fef7 button.colab-df-convert');\n",
       "        buttonEl.style.display =\n",
       "          google.colab.kernel.accessAllowed ? 'block' : 'none';\n",
       "\n",
       "        async function convertToInteractive(key) {\n",
       "          const element = document.querySelector('#df-2fb5ada3-fad4-40fe-a0cd-c4fdad06fef7');\n",
       "          const dataTable =\n",
       "            await google.colab.kernel.invokeFunction('convertToInteractive',\n",
       "                                                     [key], {});\n",
       "          if (!dataTable) return;\n",
       "\n",
       "          const docLinkHtml = 'Like what you see? Visit the ' +\n",
       "            '<a target=\"_blank\" href=https://colab.research.google.com/notebooks/data_table.ipynb>data table notebook</a>'\n",
       "            + ' to learn more about interactive tables.';\n",
       "          element.innerHTML = '';\n",
       "          dataTable['output_type'] = 'display_data';\n",
       "          await google.colab.output.renderOutput(dataTable, element);\n",
       "          const docLink = document.createElement('div');\n",
       "          docLink.innerHTML = docLinkHtml;\n",
       "          element.appendChild(docLink);\n",
       "        }\n",
       "      </script>\n",
       "    </div>\n",
       "  </div>\n",
       "  "
      ],
      "text/plain": [
       "       industrial_risk  management risk  financial flexibility  credibility  \\\n",
       "count       250.000000       250.000000             250.000000   250.000000   \n",
       "mean          0.518000         0.614000               0.376000     0.470000   \n",
       "std           0.411526         0.410705               0.401583     0.415682   \n",
       "min           0.000000         0.000000               0.000000     0.000000   \n",
       "10%           0.000000         0.000000               0.000000     0.000000   \n",
       "20%           0.000000         0.000000               0.000000     0.000000   \n",
       "50%           0.500000         0.500000               0.500000     0.500000   \n",
       "90%           1.000000         1.000000               1.000000     1.000000   \n",
       "99%           1.000000         1.000000               1.000000     1.000000   \n",
       "99.5%         1.000000         1.000000               1.000000     1.000000   \n",
       "max           1.000000         1.000000               1.000000     1.000000   \n",
       "\n",
       "       competitiveness  operating risk       class  \n",
       "count       250.000000      250.000000  250.000000  \n",
       "mean          0.476000        0.570000    0.572000  \n",
       "std           0.440682        0.434575    0.495781  \n",
       "min           0.000000        0.000000    0.000000  \n",
       "10%           0.000000        0.000000    0.000000  \n",
       "20%           0.000000        0.000000    0.000000  \n",
       "50%           0.500000        0.500000    1.000000  \n",
       "90%           1.000000        1.000000    1.000000  \n",
       "99%           1.000000        1.000000    1.000000  \n",
       "99.5%         1.000000        1.000000    1.000000  \n",
       "max           1.000000        1.000000    1.000000  "
      ]
     },
     "execution_count": 340,
     "metadata": {},
     "output_type": "execute_result"
    }
   ],
   "source": [
    "df.describe(percentiles=[0.10,0.20,0.90,0.99,0.995])"
   ]
  },
  {
   "cell_type": "code",
   "execution_count": 341,
   "metadata": {
    "ExecuteTime": {
     "end_time": "2023-02-16T12:37:40.155810Z",
     "start_time": "2023-02-16T12:37:40.144839Z"
    },
    "colab": {
     "base_uri": "https://localhost:8080/"
    },
    "id": "Z4hl4L8s3kZn",
    "outputId": "19919764-db3c-4a6e-ed39-622f5d80c837"
   },
   "outputs": [
    {
     "data": {
      "text/plain": [
       "count    250.000000\n",
       "mean       0.518000\n",
       "std        0.411526\n",
       "min        0.000000\n",
       "10%        0.000000\n",
       "20%        0.000000\n",
       "50%        0.500000\n",
       "90%        1.000000\n",
       "99%        1.000000\n",
       "99.5%      1.000000\n",
       "max        1.000000\n",
       "Name: industrial_risk, dtype: float64"
      ]
     },
     "execution_count": 341,
     "metadata": {},
     "output_type": "execute_result"
    }
   ],
   "source": [
    "df[\t\"industrial_risk\"].describe(percentiles=[0.10,0.20,0.90,0.99,0.995])"
   ]
  },
  {
   "cell_type": "code",
   "execution_count": 342,
   "metadata": {
    "ExecuteTime": {
     "end_time": "2023-02-16T12:37:40.241828Z",
     "start_time": "2023-02-16T12:37:40.156811Z"
    },
    "colab": {
     "base_uri": "https://localhost:8080/",
     "height": 404
    },
    "id": "EwGrlzrY4Y8E",
    "outputId": "e01bd48a-64c1-4f09-f74f-b77961f48ad2"
   },
   "outputs": [
    {
     "data": {
      "text/plain": [
       "{'whiskers': [<matplotlib.lines.Line2D at 0x7f94bc823dc0>,\n",
       "  <matplotlib.lines.Line2D at 0x7f94bc823550>],\n",
       " 'caps': [<matplotlib.lines.Line2D at 0x7f94bc823a60>,\n",
       "  <matplotlib.lines.Line2D at 0x7f94d13bf400>],\n",
       " 'boxes': [<matplotlib.lines.Line2D at 0x7f94bc823fd0>],\n",
       " 'medians': [<matplotlib.lines.Line2D at 0x7f94d13bf430>],\n",
       " 'fliers': [<matplotlib.lines.Line2D at 0x7f94d13bf850>],\n",
       " 'means': []}"
      ]
     },
     "execution_count": 342,
     "metadata": {},
     "output_type": "execute_result"
    },
    {
     "data": {
      "image/png": "[encoded data removed]",
      "text/plain": [
       "<Figure size 432x288 with 1 Axes>"
      ]
     },
     "metadata": {
      "needs_background": "light"
     },
     "output_type": "display_data"
    }
   ],
   "source": [
    "data_box=df\n",
    "plt.boxplot(data_box.industrial_risk)"
   ]
  },
  {
   "cell_type": "markdown",
   "metadata": {
    "id": "l_O0CafY2Vvk"
   },
   "source": [
    "#Visualization"
   ]
  },
  {
   "cell_type": "code",
   "execution_count": 343,
   "metadata": {
    "ExecuteTime": {
     "end_time": "2023-02-16T12:37:40.257660Z",
     "start_time": "2023-02-16T12:37:40.243835Z"
    },
    "colab": {
     "base_uri": "https://localhost:8080/"
    },
    "id": "4yq8deNj0BRX",
    "outputId": "92752a95-31b3-4853-9ff7-6c3f4d71ac57"
   },
   "outputs": [
    {
     "data": {
      "text/plain": [
       "management risk\n",
       "1.0    119\n",
       "0.5     69\n",
       "0.0     62\n",
       "dtype: int64"
      ]
     },
     "execution_count": 343,
     "metadata": {},
     "output_type": "execute_result"
    }
   ],
   "source": [
    "df.value_counts('management risk') "
   ]
  },
  {
   "cell_type": "code",
   "execution_count": 344,
   "metadata": {
    "ExecuteTime": {
     "end_time": "2023-02-16T12:37:40.340030Z",
     "start_time": "2023-02-16T12:37:40.259659Z"
    },
    "colab": {
     "base_uri": "https://localhost:8080/",
     "height": 288
    },
    "id": "xJLJBipO0Tc_",
    "outputId": "e8afe475-1fc6-4679-d152-24df36fee694"
   },
   "outputs": [
    {
     "data": {
      "text/plain": [
       "<matplotlib.axes._subplots.AxesSubplot at 0x7f94bc7eeb50>"
      ]
     },
     "execution_count": 344,
     "metadata": {},
     "output_type": "execute_result"
    },
    {
     "data": {
      "image/png": "[encoded data removed]",
      "text/plain": [
       "<Figure size 432x288 with 1 Axes>"
      ]
     },
     "metadata": {
      "needs_background": "light"
     },
     "output_type": "display_data"
    }
   ],
   "source": [
    "df['management risk'].value_counts().plot.bar()"
   ]
  },
  {
   "cell_type": "code",
   "execution_count": 345,
   "metadata": {
    "ExecuteTime": {
     "end_time": "2023-02-16T12:37:40.407492Z",
     "start_time": "2023-02-16T12:37:40.341025Z"
    },
    "colab": {
     "base_uri": "https://localhost:8080/",
     "height": 248
    },
    "id": "ObrdhyaZ0TZY",
    "outputId": "7795c1ed-e4a3-4049-9aa8-d76a996c2a1e"
   },
   "outputs": [
    {
     "data": {
      "image/png": "[encoded data removed]",
      "text/plain": [
       "<Figure size 432x288 with 1 Axes>"
      ]
     },
     "metadata": {},
     "output_type": "display_data"
    }
   ],
   "source": [
    "df['management risk'].value_counts().plot(kind='pie',autopct='%.2f')\n",
    "plt.show()"
   ]
  },
  {
   "cell_type": "code",
   "execution_count": 346,
   "metadata": {
    "ExecuteTime": {
     "end_time": "2023-02-16T12:37:40.424148Z",
     "start_time": "2023-02-16T12:37:40.409648Z"
    },
    "colab": {
     "base_uri": "https://localhost:8080/"
    },
    "id": "4E2MYAZF0TW3",
    "outputId": "377719c8-9d7e-4f4d-814d-b1ef7e4a90df"
   },
   "outputs": [
    {
     "data": {
      "text/plain": [
       "financial flexibility\n",
       "0.0    119\n",
       "0.5     74\n",
       "1.0     57\n",
       "dtype: int64"
      ]
     },
     "execution_count": 346,
     "metadata": {},
     "output_type": "execute_result"
    }
   ],
   "source": [
    "df.value_counts('financial flexibility') "
   ]
  },
  {
   "cell_type": "code",
   "execution_count": 347,
   "metadata": {
    "ExecuteTime": {
     "end_time": "2023-02-16T12:37:40.521812Z",
     "start_time": "2023-02-16T12:37:40.426404Z"
    },
    "colab": {
     "base_uri": "https://localhost:8080/",
     "height": 288
    },
    "id": "2SzKAeHG0TGD",
    "outputId": "7f40b4d4-ba37-4e92-e000-7550a625f0e3"
   },
   "outputs": [
    {
     "data": {
      "text/plain": [
       "<matplotlib.axes._subplots.AxesSubplot at 0x7f94c3554520>"
      ]
     },
     "execution_count": 347,
     "metadata": {},
     "output_type": "execute_result"
    },
    {
     "data": {
      "image/png": "[encoded data removed]",
      "text/plain": [
       "<Figure size 432x288 with 1 Axes>"
      ]
     },
     "metadata": {
      "needs_background": "light"
     },
     "output_type": "display_data"
    }
   ],
   "source": [
    "df['financial flexibility'].value_counts().plot.bar()"
   ]
  },
  {
   "cell_type": "code",
   "execution_count": 348,
   "metadata": {
    "ExecuteTime": {
     "end_time": "2023-02-16T12:37:40.585129Z",
     "start_time": "2023-02-16T12:37:40.523808Z"
    },
    "colab": {
     "base_uri": "https://localhost:8080/",
     "height": 248
    },
    "id": "ZhXUmceA0TCq",
    "outputId": "cb5c5a7a-805e-4b83-e854-6dd8d6d3333a"
   },
   "outputs": [
    {
     "data": {
      "image/png": "[encoded data removed]",
      "text/plain": [
       "<Figure size 432x288 with 1 Axes>"
      ]
     },
     "metadata": {},
     "output_type": "display_data"
    }
   ],
   "source": [
    "df['financial flexibility'].value_counts().plot(kind='pie',autopct='%.2f')\n",
    "plt.show()"
   ]
  },
  {
   "cell_type": "code",
   "execution_count": 349,
   "metadata": {
    "ExecuteTime": {
     "end_time": "2023-02-16T12:37:40.607341Z",
     "start_time": "2023-02-16T12:37:40.586652Z"
    },
    "colab": {
     "base_uri": "https://localhost:8080/"
    },
    "id": "4dnJmtbG0S_7",
    "outputId": "3e7dcf52-ea25-4580-f9c0-47e648b437e1"
   },
   "outputs": [
    {
     "data": {
      "text/plain": [
       "credibility\n",
       "0.0    94\n",
       "1.0    79\n",
       "0.5    77\n",
       "dtype: int64"
      ]
     },
     "execution_count": 349,
     "metadata": {},
     "output_type": "execute_result"
    }
   ],
   "source": [
    "df.value_counts('credibility') "
   ]
  },
  {
   "cell_type": "code",
   "execution_count": 350,
   "metadata": {
    "ExecuteTime": {
     "end_time": "2023-02-16T12:37:40.685766Z",
     "start_time": "2023-02-16T12:37:40.609771Z"
    },
    "colab": {
     "base_uri": "https://localhost:8080/",
     "height": 288
    },
    "id": "zwF994Wz0S9e",
    "outputId": "2ac55408-937f-4a99-ed81-4cb860036782"
   },
   "outputs": [
    {
     "data": {
      "text/plain": [
       "<matplotlib.axes._subplots.AxesSubplot at 0x7f94c26291f0>"
      ]
     },
     "execution_count": 350,
     "metadata": {},
     "output_type": "execute_result"
    },
    {
     "data": {
      "image/png": "[encoded data removed]",
      "text/plain": [
       "<Figure size 432x288 with 1 Axes>"
      ]
     },
     "metadata": {
      "needs_background": "light"
     },
     "output_type": "display_data"
    }
   ],
   "source": [
    "df['credibility'].value_counts().plot.bar()"
   ]
  },
  {
   "cell_type": "code",
   "execution_count": 351,
   "metadata": {
    "ExecuteTime": {
     "end_time": "2023-02-16T12:37:40.757534Z",
     "start_time": "2023-02-16T12:37:40.688300Z"
    },
    "colab": {
     "base_uri": "https://localhost:8080/",
     "height": 248
    },
    "id": "Ly-HWLpi0S7E",
    "outputId": "bc7310f2-41b9-4502-fc0d-5c28b6c19837"
   },
   "outputs": [
    {
     "data": {
      "image/png": "[encoded data removed]",
      "text/plain": [
       "<Figure size 432x288 with 1 Axes>"
      ]
     },
     "metadata": {},
     "output_type": "display_data"
    }
   ],
   "source": [
    "df['credibility'].value_counts().plot(kind='pie',autopct='%.2f')\n",
    "plt.show()"
   ]
  },
  {
   "cell_type": "code",
   "execution_count": 352,
   "metadata": {
    "ExecuteTime": {
     "end_time": "2023-02-16T12:37:40.774351Z",
     "start_time": "2023-02-16T12:37:40.759759Z"
    },
    "colab": {
     "base_uri": "https://localhost:8080/"
    },
    "id": "ARPjJpke0S4S",
    "outputId": "98e456f4-59b0-42e0-fb76-e302333c79d9"
   },
   "outputs": [
    {
     "data": {
      "text/plain": [
       "competitiveness\n",
       "0.0    103\n",
       "1.0     91\n",
       "0.5     56\n",
       "dtype: int64"
      ]
     },
     "execution_count": 352,
     "metadata": {},
     "output_type": "execute_result"
    }
   ],
   "source": [
    "df.value_counts('competitiveness') "
   ]
  },
  {
   "cell_type": "code",
   "execution_count": 353,
   "metadata": {
    "ExecuteTime": {
     "end_time": "2023-02-16T12:37:40.856315Z",
     "start_time": "2023-02-16T12:37:40.776351Z"
    },
    "colab": {
     "base_uri": "https://localhost:8080/",
     "height": 288
    },
    "id": "UshiXM6o0Syo",
    "outputId": "f21bce35-6953-4ef7-83ee-d3214eb92bd2"
   },
   "outputs": [
    {
     "data": {
      "text/plain": [
       "<matplotlib.axes._subplots.AxesSubplot at 0x7f94bc795d30>"
      ]
     },
     "execution_count": 353,
     "metadata": {},
     "output_type": "execute_result"
    },
    {
     "data": {
      "image/png": "[encoded data removed]",
      "text/plain": [
       "<Figure size 432x288 with 1 Axes>"
      ]
     },
     "metadata": {
      "needs_background": "light"
     },
     "output_type": "display_data"
    }
   ],
   "source": [
    "df['competitiveness'].value_counts().plot.bar()"
   ]
  },
  {
   "cell_type": "code",
   "execution_count": 354,
   "metadata": {
    "ExecuteTime": {
     "end_time": "2023-02-16T12:37:40.924013Z",
     "start_time": "2023-02-16T12:37:40.858306Z"
    },
    "colab": {
     "base_uri": "https://localhost:8080/",
     "height": 248
    },
    "id": "dTHurd6q0S1h",
    "outputId": "26944059-b814-4966-926d-d50f384248eb"
   },
   "outputs": [
    {
     "data": {
      "image/png": "[encoded data removed]",
      "text/plain": [
       "<Figure size 432x288 with 1 Axes>"
      ]
     },
     "metadata": {},
     "output_type": "display_data"
    }
   ],
   "source": [
    "df['competitiveness'].value_counts().plot(kind='pie',autopct='%.2f')\n",
    "plt.show()"
   ]
  },
  {
   "cell_type": "code",
   "execution_count": 355,
   "metadata": {
    "ExecuteTime": {
     "end_time": "2023-02-16T12:37:40.940615Z",
     "start_time": "2023-02-16T12:37:40.926010Z"
    },
    "colab": {
     "base_uri": "https://localhost:8080/"
    },
    "id": "oyEHcrwE1-9U",
    "outputId": "7fbaee70-eaa6-44d3-b18e-53cde3e410be"
   },
   "outputs": [
    {
     "data": {
      "text/plain": [
       "operating risk\n",
       "1.0    114\n",
       "0.0     79\n",
       "0.5     57\n",
       "dtype: int64"
      ]
     },
     "execution_count": 355,
     "metadata": {},
     "output_type": "execute_result"
    }
   ],
   "source": [
    "df.value_counts('operating risk') "
   ]
  },
  {
   "cell_type": "code",
   "execution_count": 356,
   "metadata": {
    "ExecuteTime": {
     "end_time": "2023-02-16T12:37:41.022697Z",
     "start_time": "2023-02-16T12:37:40.942642Z"
    },
    "colab": {
     "base_uri": "https://localhost:8080/",
     "height": 288
    },
    "id": "c3S9id031-vq",
    "outputId": "318b1f6c-ec42-4a25-a499-b7ca678bc3a0"
   },
   "outputs": [
    {
     "data": {
      "text/plain": [
       "<matplotlib.axes._subplots.AxesSubplot at 0x7f94bd7d9af0>"
      ]
     },
     "execution_count": 356,
     "metadata": {},
     "output_type": "execute_result"
    },
    {
     "data": {
      "image/png": "[encoded data removed]",
      "text/plain": [
       "<Figure size 432x288 with 1 Axes>"
      ]
     },
     "metadata": {
      "needs_background": "light"
     },
     "output_type": "display_data"
    }
   ],
   "source": [
    "df['operating risk'].value_counts().plot.bar()"
   ]
  },
  {
   "cell_type": "code",
   "execution_count": 357,
   "metadata": {
    "ExecuteTime": {
     "end_time": "2023-02-16T12:37:41.089110Z",
     "start_time": "2023-02-16T12:37:41.025217Z"
    },
    "colab": {
     "base_uri": "https://localhost:8080/",
     "height": 248
    },
    "id": "NRnPXxEx1-sH",
    "outputId": "120ccceb-5203-423f-fac7-6bf77ff5bd47"
   },
   "outputs": [
    {
     "data": {
      "image/png": "[encoded data removed]",
      "text/plain": [
       "<Figure size 432x288 with 1 Axes>"
      ]
     },
     "metadata": {},
     "output_type": "display_data"
    }
   ],
   "source": [
    "df['operating risk'].value_counts().plot(kind='pie',autopct='%.2f')\n",
    "plt.show()"
   ]
  },
  {
   "cell_type": "markdown",
   "metadata": {
    "id": "hGSd9nUc5MtH"
   },
   "source": [
    "# Scatter plot and Correlation analysis"
   ]
  },
  {
   "cell_type": "markdown",
   "metadata": {
    "id": "Qj3-H4fb-NYr"
   },
   "source": [
    "scatter plot"
   ]
  },
  {
   "cell_type": "code",
   "execution_count": 358,
   "metadata": {
    "ExecuteTime": {
     "end_time": "2023-02-16T12:37:47.921322Z",
     "start_time": "2023-02-16T12:37:41.091110Z"
    },
    "colab": {
     "base_uri": "https://localhost:8080/",
     "height": 1000
    },
    "id": "-gWdcodp4tRQ",
    "outputId": "fcadc542-9e23-4beb-a29d-e8f8f58c5b0a"
   },
   "outputs": [
    {
     "data": {
      "text/plain": [
       "<seaborn.axisgrid.PairGrid at 0x7f94bcd5d3a0>"
      ]
     },
     "execution_count": 358,
     "metadata": {},
     "output_type": "execute_result"
    },
    {
     "data": {
      "image/png": "[encoded data removed]",
      "text/plain": [
       "<Figure size 432x288 with 49 Axes>"
      ]
     },
     "metadata": {
      "needs_background": "light"
     },
     "output_type": "display_data"
    },
    {
     "data": {
      "image/png": "[encoded data removed]",
      "text/plain": [
       "<Figure size 1260x1260 with 56 Axes>"
      ]
     },
     "metadata": {
      "needs_background": "light"
     },
     "output_type": "display_data"
    }
   ],
   "source": [
    "pd.plotting.scatter_matrix(df)\n",
    "sns.pairplot(df)"
   ]
  },
  {
   "cell_type": "code",
   "execution_count": 359,
   "metadata": {
    "ExecuteTime": {
     "end_time": "2023-02-16T12:37:47.937138Z",
     "start_time": "2023-02-16T12:37:47.924732Z"
    },
    "colab": {
     "base_uri": "https://localhost:8080/",
     "height": 269
    },
    "id": "9icC_ZSx_Gz6",
    "outputId": "2379c275-d673-4fad-d999-454b3b746298"
   },
   "outputs": [
    {
     "data": {
      "text/html": [
       "\n",
       "  <div id=\"df-970d311c-0b21-46bc-bd4b-99e86616a45e\">\n",
       "    <div class=\"colab-df-container\">\n",
       "      <div>\n",
       "<style scoped>\n",
       "    .dataframe tbody tr th:only-of-type {\n",
       "        vertical-align: middle;\n",
       "    }\n",
       "\n",
       "    .dataframe tbody tr th {\n",
       "        vertical-align: top;\n",
       "    }\n",
       "\n",
       "    .dataframe thead th {\n",
       "        text-align: right;\n",
       "    }\n",
       "</style>\n",
       "<table border=\"1\" class=\"dataframe\">\n",
       "  <thead>\n",
       "    <tr style=\"text-align: right;\">\n",
       "      <th></th>\n",
       "      <th>industrial_risk</th>\n",
       "      <th>management risk</th>\n",
       "      <th>financial flexibility</th>\n",
       "      <th>credibility</th>\n",
       "      <th>competitiveness</th>\n",
       "      <th>operating risk</th>\n",
       "      <th>class</th>\n",
       "    </tr>\n",
       "  </thead>\n",
       "  <tbody>\n",
       "    <tr>\n",
       "      <th>industrial_risk</th>\n",
       "      <td>1.000000</td>\n",
       "      <td>0.255127</td>\n",
       "      <td>-0.162624</td>\n",
       "      <td>-0.014438</td>\n",
       "      <td>-0.257814</td>\n",
       "      <td>0.144507</td>\n",
       "      <td>-0.227823</td>\n",
       "    </tr>\n",
       "    <tr>\n",
       "      <th>management risk</th>\n",
       "      <td>0.255127</td>\n",
       "      <td>1.000000</td>\n",
       "      <td>-0.254845</td>\n",
       "      <td>-0.303341</td>\n",
       "      <td>-0.306568</td>\n",
       "      <td>0.213874</td>\n",
       "      <td>-0.370838</td>\n",
       "    </tr>\n",
       "    <tr>\n",
       "      <th>financial flexibility</th>\n",
       "      <td>-0.162624</td>\n",
       "      <td>-0.254845</td>\n",
       "      <td>1.000000</td>\n",
       "      <td>0.524951</td>\n",
       "      <td>0.686612</td>\n",
       "      <td>-0.116903</td>\n",
       "      <td>0.751020</td>\n",
       "    </tr>\n",
       "    <tr>\n",
       "      <th>credibility</th>\n",
       "      <td>-0.014438</td>\n",
       "      <td>-0.303341</td>\n",
       "      <td>0.524951</td>\n",
       "      <td>1.000000</td>\n",
       "      <td>0.675689</td>\n",
       "      <td>-0.288458</td>\n",
       "      <td>0.755909</td>\n",
       "    </tr>\n",
       "    <tr>\n",
       "      <th>competitiveness</th>\n",
       "      <td>-0.257814</td>\n",
       "      <td>-0.306568</td>\n",
       "      <td>0.686612</td>\n",
       "      <td>0.675689</td>\n",
       "      <td>1.000000</td>\n",
       "      <td>-0.211383</td>\n",
       "      <td>0.899452</td>\n",
       "    </tr>\n",
       "    <tr>\n",
       "      <th>operating risk</th>\n",
       "      <td>0.144507</td>\n",
       "      <td>0.213874</td>\n",
       "      <td>-0.116903</td>\n",
       "      <td>-0.288458</td>\n",
       "      <td>-0.211383</td>\n",
       "      <td>1.000000</td>\n",
       "      <td>-0.279786</td>\n",
       "    </tr>\n",
       "    <tr>\n",
       "      <th>class</th>\n",
       "      <td>-0.227823</td>\n",
       "      <td>-0.370838</td>\n",
       "      <td>0.751020</td>\n",
       "      <td>0.755909</td>\n",
       "      <td>0.899452</td>\n",
       "      <td>-0.279786</td>\n",
       "      <td>1.000000</td>\n",
       "    </tr>\n",
       "  </tbody>\n",
       "</table>\n",
       "</div>\n",
       "      <button class=\"colab-df-convert\" onclick=\"convertToInteractive('df-970d311c-0b21-46bc-bd4b-99e86616a45e')\"\n",
       "              title=\"Convert this dataframe to an interactive table.\"\n",
       "              style=\"display:none;\">\n",
       "        \n",
       "  <svg xmlns=\"http://www.w3.org/2000/svg\" height=\"24px\"viewBox=\"0 0 24 24\"\n",
       "       width=\"24px\">\n",
       "    <path d=\"M0 0h24v24H0V0z\" fill=\"none\"/>\n",
       "    <path d=\"M18.56 5.44l.94 2.06.94-2.06 2.06-.94-2.06-.94-.94-2.06-.94 2.06-2.06.94zm-11 1L8.5 8.5l.94-2.06 2.06-.94-2.06-.94L8.5 2.5l-.94 2.06-2.06.94zm10 10l.94 2.06.94-2.06 2.06-.94-2.06-.94-.94-2.06-.94 2.06-2.06.94z\"/><path d=\"M17.41 7.96l-1.37-1.37c-.4-.4-.92-.59-1.43-.59-.52 0-1.04.2-1.43.59L10.3 9.45l-7.72 7.72c-.78.78-.78 2.05 0 2.83L4 21.41c.39.39.9.59 1.41.59.51 0 1.02-.2 1.41-.59l7.78-7.78 2.81-2.81c.8-.78.8-2.07 0-2.86zM5.41 20L4 18.59l7.72-7.72 1.47 1.35L5.41 20z\"/>\n",
       "  </svg>\n",
       "      </button>\n",
       "      \n",
       "  <style>\n",
       "    .colab-df-container {\n",
       "      display:flex;\n",
       "      flex-wrap:wrap;\n",
       "      gap: 12px;\n",
       "    }\n",
       "\n",
       "    .colab-df-convert {\n",
       "      background-color: #E8F0FE;\n",
       "      border: none;\n",
       "      border-radius: 50%;\n",
       "      cursor: pointer;\n",
       "      display: none;\n",
       "      fill: #1967D2;\n",
       "      height: 32px;\n",
       "      padding: 0 0 0 0;\n",
       "      width: 32px;\n",
       "    }\n",
       "\n",
       "    .colab-df-convert:hover {\n",
       "      background-color: #E2EBFA;\n",
       "      box-shadow: 0px 1px 2px rgba(60, 64, 67, 0.3), 0px 1px 3px 1px rgba(60, 64, 67, 0.15);\n",
       "      fill: #174EA6;\n",
       "    }\n",
       "\n",
       "    [theme=dark] .colab-df-convert {\n",
       "      background-color: #3B4455;\n",
       "      fill: #D2E3FC;\n",
       "    }\n",
       "\n",
       "    [theme=dark] .colab-df-convert:hover {\n",
       "      background-color: #434B5C;\n",
       "      box-shadow: 0px 1px 3px 1px rgba(0, 0, 0, 0.15);\n",
       "      filter: drop-shadow(0px 1px 2px rgba(0, 0, 0, 0.3));\n",
       "      fill: #FFFFFF;\n",
       "    }\n",
       "  </style>\n",
       "\n",
       "      <script>\n",
       "        const buttonEl =\n",
       "          document.querySelector('#df-970d311c-0b21-46bc-bd4b-99e86616a45e button.colab-df-convert');\n",
       "        buttonEl.style.display =\n",
       "          google.colab.kernel.accessAllowed ? 'block' : 'none';\n",
       "\n",
       "        async function convertToInteractive(key) {\n",
       "          const element = document.querySelector('#df-970d311c-0b21-46bc-bd4b-99e86616a45e');\n",
       "          const dataTable =\n",
       "            await google.colab.kernel.invokeFunction('convertToInteractive',\n",
       "                                                     [key], {});\n",
       "          if (!dataTable) return;\n",
       "\n",
       "          const docLinkHtml = 'Like what you see? Visit the ' +\n",
       "            '<a target=\"_blank\" href=https://colab.research.google.com/notebooks/data_table.ipynb>data table notebook</a>'\n",
       "            + ' to learn more about interactive tables.';\n",
       "          element.innerHTML = '';\n",
       "          dataTable['output_type'] = 'display_data';\n",
       "          await google.colab.output.renderOutput(dataTable, element);\n",
       "          const docLink = document.createElement('div');\n",
       "          docLink.innerHTML = docLinkHtml;\n",
       "          element.appendChild(docLink);\n",
       "        }\n",
       "      </script>\n",
       "    </div>\n",
       "  </div>\n",
       "  "
      ],
      "text/plain": [
       "                       industrial_risk  management risk  \\\n",
       "industrial_risk               1.000000         0.255127   \n",
       "management risk               0.255127         1.000000   \n",
       "financial flexibility        -0.162624        -0.254845   \n",
       "credibility                  -0.014438        -0.303341   \n",
       "competitiveness              -0.257814        -0.306568   \n",
       "operating risk                0.144507         0.213874   \n",
       "class                        -0.227823        -0.370838   \n",
       "\n",
       "                       financial flexibility  credibility  competitiveness  \\\n",
       "industrial_risk                    -0.162624    -0.014438        -0.257814   \n",
       "management risk                    -0.254845    -0.303341        -0.306568   \n",
       "financial flexibility               1.000000     0.524951         0.686612   \n",
       "credibility                         0.524951     1.000000         0.675689   \n",
       "competitiveness                     0.686612     0.675689         1.000000   \n",
       "operating risk                     -0.116903    -0.288458        -0.211383   \n",
       "class                               0.751020     0.755909         0.899452   \n",
       "\n",
       "                       operating risk     class  \n",
       "industrial_risk              0.144507 -0.227823  \n",
       "management risk              0.213874 -0.370838  \n",
       "financial flexibility       -0.116903  0.751020  \n",
       "credibility                 -0.288458  0.755909  \n",
       "competitiveness             -0.211383  0.899452  \n",
       "operating risk               1.000000 -0.279786  \n",
       "class                       -0.279786  1.000000  "
      ]
     },
     "execution_count": 359,
     "metadata": {},
     "output_type": "execute_result"
    }
   ],
   "source": [
    "df.corr()"
   ]
  },
  {
   "cell_type": "code",
   "execution_count": 360,
   "metadata": {
    "ExecuteTime": {
     "end_time": "2023-02-16T12:37:47.953713Z",
     "start_time": "2023-02-16T12:37:47.938139Z"
    },
    "id": "RypeoXvt5T9r"
   },
   "outputs": [],
   "source": [
    "#Correlation\n",
    "Correlation=df.corr()"
   ]
  },
  {
   "cell_type": "code",
   "execution_count": 361,
   "metadata": {
    "ExecuteTime": {
     "end_time": "2023-02-16T12:37:48.248020Z",
     "start_time": "2023-02-16T12:37:47.955719Z"
    },
    "colab": {
     "base_uri": "https://localhost:8080/",
     "height": 368
    },
    "id": "qPrhlC87_ze2",
    "outputId": "3538eceb-e42c-49ec-d5b2-df7a7188c666"
   },
   "outputs": [
    {
     "data": {
      "text/plain": [
       "<matplotlib.axes._subplots.AxesSubplot at 0x7f94c35e66d0>"
      ]
     },
     "execution_count": 361,
     "metadata": {},
     "output_type": "execute_result"
    },
    {
     "data": {
      "image/png": "[encoded data removed]",
      "text/plain": [
       "<Figure size 432x288 with 2 Axes>"
      ]
     },
     "metadata": {
      "needs_background": "light"
     },
     "output_type": "display_data"
    }
   ],
   "source": [
    "sns.heatmap(Correlation, annot = True , cmap = 'rainbow_r')\n"
   ]
  },
  {
   "cell_type": "markdown",
   "metadata": {
    "id": "KZu6n53TMG9B"
   },
   "source": [
    "### Model Building"
   ]
  },
  {
   "cell_type": "markdown",
   "metadata": {
    "id": "OE6VRosVOyKp"
   },
   "source": [
    "__Let's create multiple models one by one then we will cross_validate one by one to avoid Overfiting and Underfiting.\n",
    "Then will pick 2 algorithms with the best accuracy and improve accuracy of the particular algorithm using hyperparameter tuning__"
   ]
  },
  {
   "cell_type": "code",
   "execution_count": 362,
   "metadata": {
    "ExecuteTime": {
     "end_time": "2023-02-16T12:39:56.097959Z",
     "start_time": "2023-02-16T12:39:49.531824Z"
    },
    "id": "5_a36BCWOyKp"
   },
   "outputs": [],
   "source": [
    "# Importing Necessary Libraries\n",
    "from sklearn.linear_model import LogisticRegression\n",
    "from sklearn.metrics import accuracy_score\n",
    "from sklearn.model_selection import train_test_split\n",
    "from sklearn.linear_model import LogisticRegression\n",
    "from sklearn.tree import DecisionTreeClassifier\n",
    "from sklearn.svm import SVC\n",
    "from sklearn.naive_bayes import GaussianNB\n",
    "from sklearn.ensemble import RandomForestClassifier\n",
    "from xgboost import XGBClassifier\n",
    "from sklearn.model_selection import train_test_split,cross_val_score\n",
    "from sklearn.neighbors import KNeighborsClassifier\n",
    "from sklearn.ensemble import AdaBoostClassifier\n",
    "from sklearn.naive_bayes import MultinomialNB\n",
    "from sklearn import metrics\n",
    "from sklearn.metrics import classification_report\n",
    "from sklearn.metrics import confusion_matrix\n",
    "import tensorflow as tf"
   ]
  },
  {
   "cell_type": "code",
   "execution_count": 363,
   "metadata": {
    "ExecuteTime": {
     "end_time": "2023-02-16T12:37:48.454269Z",
     "start_time": "2023-02-16T12:37:48.440940Z"
    },
    "colab": {
     "base_uri": "https://localhost:8080/",
     "height": 206
    },
    "id": "_TfYuX4LOyKp",
    "outputId": "822607d9-f6b3-494a-eb10-220cf1528e3d"
   },
   "outputs": [
    {
     "data": {
      "text/html": [
       "\n",
       "  <div id=\"df-099d11b9-8540-4fd0-9cfe-95f4ccba4e09\">\n",
       "    <div class=\"colab-df-container\">\n",
       "      <div>\n",
       "<style scoped>\n",
       "    .dataframe tbody tr th:only-of-type {\n",
       "        vertical-align: middle;\n",
       "    }\n",
       "\n",
       "    .dataframe tbody tr th {\n",
       "        vertical-align: top;\n",
       "    }\n",
       "\n",
       "    .dataframe thead th {\n",
       "        text-align: right;\n",
       "    }\n",
       "</style>\n",
       "<table border=\"1\" class=\"dataframe\">\n",
       "  <thead>\n",
       "    <tr style=\"text-align: right;\">\n",
       "      <th></th>\n",
       "      <th>industrial_risk</th>\n",
       "      <th>management risk</th>\n",
       "      <th>financial flexibility</th>\n",
       "      <th>credibility</th>\n",
       "      <th>competitiveness</th>\n",
       "      <th>operating risk</th>\n",
       "      <th>class</th>\n",
       "    </tr>\n",
       "  </thead>\n",
       "  <tbody>\n",
       "    <tr>\n",
       "      <th>0</th>\n",
       "      <td>0.5</td>\n",
       "      <td>1.0</td>\n",
       "      <td>0.0</td>\n",
       "      <td>0.0</td>\n",
       "      <td>0.0</td>\n",
       "      <td>0.5</td>\n",
       "      <td>0</td>\n",
       "    </tr>\n",
       "    <tr>\n",
       "      <th>1</th>\n",
       "      <td>0.0</td>\n",
       "      <td>1.0</td>\n",
       "      <td>0.0</td>\n",
       "      <td>0.0</td>\n",
       "      <td>0.0</td>\n",
       "      <td>1.0</td>\n",
       "      <td>0</td>\n",
       "    </tr>\n",
       "    <tr>\n",
       "      <th>2</th>\n",
       "      <td>1.0</td>\n",
       "      <td>0.0</td>\n",
       "      <td>0.0</td>\n",
       "      <td>0.0</td>\n",
       "      <td>0.0</td>\n",
       "      <td>1.0</td>\n",
       "      <td>0</td>\n",
       "    </tr>\n",
       "    <tr>\n",
       "      <th>3</th>\n",
       "      <td>0.5</td>\n",
       "      <td>0.0</td>\n",
       "      <td>0.0</td>\n",
       "      <td>0.5</td>\n",
       "      <td>0.0</td>\n",
       "      <td>1.0</td>\n",
       "      <td>0</td>\n",
       "    </tr>\n",
       "    <tr>\n",
       "      <th>4</th>\n",
       "      <td>1.0</td>\n",
       "      <td>1.0</td>\n",
       "      <td>0.0</td>\n",
       "      <td>0.0</td>\n",
       "      <td>0.0</td>\n",
       "      <td>1.0</td>\n",
       "      <td>0</td>\n",
       "    </tr>\n",
       "  </tbody>\n",
       "</table>\n",
       "</div>\n",
       "      <button class=\"colab-df-convert\" onclick=\"convertToInteractive('df-099d11b9-8540-4fd0-9cfe-95f4ccba4e09')\"\n",
       "              title=\"Convert this dataframe to an interactive table.\"\n",
       "              style=\"display:none;\">\n",
       "        \n",
       "  <svg xmlns=\"http://www.w3.org/2000/svg\" height=\"24px\"viewBox=\"0 0 24 24\"\n",
       "       width=\"24px\">\n",
       "    <path d=\"M0 0h24v24H0V0z\" fill=\"none\"/>\n",
       "    <path d=\"M18.56 5.44l.94 2.06.94-2.06 2.06-.94-2.06-.94-.94-2.06-.94 2.06-2.06.94zm-11 1L8.5 8.5l.94-2.06 2.06-.94-2.06-.94L8.5 2.5l-.94 2.06-2.06.94zm10 10l.94 2.06.94-2.06 2.06-.94-2.06-.94-.94-2.06-.94 2.06-2.06.94z\"/><path d=\"M17.41 7.96l-1.37-1.37c-.4-.4-.92-.59-1.43-.59-.52 0-1.04.2-1.43.59L10.3 9.45l-7.72 7.72c-.78.78-.78 2.05 0 2.83L4 21.41c.39.39.9.59 1.41.59.51 0 1.02-.2 1.41-.59l7.78-7.78 2.81-2.81c.8-.78.8-2.07 0-2.86zM5.41 20L4 18.59l7.72-7.72 1.47 1.35L5.41 20z\"/>\n",
       "  </svg>\n",
       "      </button>\n",
       "      \n",
       "  <style>\n",
       "    .colab-df-container {\n",
       "      display:flex;\n",
       "      flex-wrap:wrap;\n",
       "      gap: 12px;\n",
       "    }\n",
       "\n",
       "    .colab-df-convert {\n",
       "      background-color: #E8F0FE;\n",
       "      border: none;\n",
       "      border-radius: 50%;\n",
       "      cursor: pointer;\n",
       "      display: none;\n",
       "      fill: #1967D2;\n",
       "      height: 32px;\n",
       "      padding: 0 0 0 0;\n",
       "      width: 32px;\n",
       "    }\n",
       "\n",
       "    .colab-df-convert:hover {\n",
       "      background-color: #E2EBFA;\n",
       "      box-shadow: 0px 1px 2px rgba(60, 64, 67, 0.3), 0px 1px 3px 1px rgba(60, 64, 67, 0.15);\n",
       "      fill: #174EA6;\n",
       "    }\n",
       "\n",
       "    [theme=dark] .colab-df-convert {\n",
       "      background-color: #3B4455;\n",
       "      fill: #D2E3FC;\n",
       "    }\n",
       "\n",
       "    [theme=dark] .colab-df-convert:hover {\n",
       "      background-color: #434B5C;\n",
       "      box-shadow: 0px 1px 3px 1px rgba(0, 0, 0, 0.15);\n",
       "      filter: drop-shadow(0px 1px 2px rgba(0, 0, 0, 0.3));\n",
       "      fill: #FFFFFF;\n",
       "    }\n",
       "  </style>\n",
       "\n",
       "      <script>\n",
       "        const buttonEl =\n",
       "          document.querySelector('#df-099d11b9-8540-4fd0-9cfe-95f4ccba4e09 button.colab-df-convert');\n",
       "        buttonEl.style.display =\n",
       "          google.colab.kernel.accessAllowed ? 'block' : 'none';\n",
       "\n",
       "        async function convertToInteractive(key) {\n",
       "          const element = document.querySelector('#df-099d11b9-8540-4fd0-9cfe-95f4ccba4e09');\n",
       "          const dataTable =\n",
       "            await google.colab.kernel.invokeFunction('convertToInteractive',\n",
       "                                                     [key], {});\n",
       "          if (!dataTable) return;\n",
       "\n",
       "          const docLinkHtml = 'Like what you see? Visit the ' +\n",
       "            '<a target=\"_blank\" href=https://colab.research.google.com/notebooks/data_table.ipynb>data table notebook</a>'\n",
       "            + ' to learn more about interactive tables.';\n",
       "          element.innerHTML = '';\n",
       "          dataTable['output_type'] = 'display_data';\n",
       "          await google.colab.output.renderOutput(dataTable, element);\n",
       "          const docLink = document.createElement('div');\n",
       "          docLink.innerHTML = docLinkHtml;\n",
       "          element.appendChild(docLink);\n",
       "        }\n",
       "      </script>\n",
       "    </div>\n",
       "  </div>\n",
       "  "
      ],
      "text/plain": [
       "   industrial_risk  management risk  financial flexibility  credibility  \\\n",
       "0              0.5              1.0                    0.0          0.0   \n",
       "1              0.0              1.0                    0.0          0.0   \n",
       "2              1.0              0.0                    0.0          0.0   \n",
       "3              0.5              0.0                    0.0          0.5   \n",
       "4              1.0              1.0                    0.0          0.0   \n",
       "\n",
       "   competitiveness  operating risk  class  \n",
       "0              0.0             0.5      0  \n",
       "1              0.0             1.0      0  \n",
       "2              0.0             1.0      0  \n",
       "3              0.0             1.0      0  \n",
       "4              0.0             1.0      0  "
      ]
     },
     "execution_count": 363,
     "metadata": {},
     "output_type": "execute_result"
    }
   ],
   "source": [
    "df.head()"
   ]
  },
  {
   "cell_type": "code",
   "execution_count": 364,
   "metadata": {
    "ExecuteTime": {
     "end_time": "2023-02-16T12:37:48.469612Z",
     "start_time": "2023-02-16T12:37:48.456448Z"
    },
    "colab": {
     "base_uri": "https://localhost:8080/"
    },
    "id": "tXDU3BceOyKq",
    "outputId": "e09a66ce-ad6a-432c-ecae-42826c3a078a"
   },
   "outputs": [
    {
     "data": {
      "text/plain": [
       "array([[0.5, 1. , 0. , ..., 0. , 0.5, 0. ],\n",
       "       [0. , 1. , 0. , ..., 0. , 1. , 0. ],\n",
       "       [1. , 0. , 0. , ..., 0. , 1. , 0. ],\n",
       "       ...,\n",
       "       [0. , 1. , 1. , ..., 0.5, 0. , 1. ],\n",
       "       [1. , 0. , 0.5, ..., 0.5, 0. , 1. ],\n",
       "       [1. , 0. , 0.5, ..., 1. , 1. , 1. ]])"
      ]
     },
     "execution_count": 364,
     "metadata": {},
     "output_type": "execute_result"
    }
   ],
   "source": [
    "# Converting dataframe into array\n",
    "data = df.values\n",
    "data"
   ]
  },
  {
   "cell_type": "code",
   "execution_count": 365,
   "metadata": {
    "ExecuteTime": {
     "end_time": "2023-02-16T12:37:48.487668Z",
     "start_time": "2023-02-16T12:37:48.471680Z"
    },
    "colab": {
     "base_uri": "https://localhost:8080/"
    },
    "id": "6QNtw7f2OyKq",
    "outputId": "a64ef0c2-6f60-44b2-b473-6533a0fc7ba9"
   },
   "outputs": [
    {
     "name": "stdout",
     "output_type": "stream",
     "text": [
      "(250, 6) (250,)\n"
     ]
    }
   ],
   "source": [
    "# Selecting Target \n",
    "X=data[:,0:6]\n",
    "Y=data[:,6]\n",
    "print(X.shape,Y.shape)"
   ]
  },
  {
   "cell_type": "code",
   "execution_count": 366,
   "metadata": {
    "ExecuteTime": {
     "end_time": "2023-02-16T12:37:48.504054Z",
     "start_time": "2023-02-16T12:37:48.489665Z"
    },
    "colab": {
     "base_uri": "https://localhost:8080/"
    },
    "id": "FKXhfQWFPfIX",
    "outputId": "71860480-89dd-4822-850c-cf1ac0a6bd46"
   },
   "outputs": [
    {
     "data": {
      "text/plain": [
       "array([[0.5, 1. , 0. , 0. , 0. , 0.5],\n",
       "       [0. , 1. , 0. , 0. , 0. , 1. ],\n",
       "       [1. , 0. , 0. , 0. , 0. , 1. ],\n",
       "       ...,\n",
       "       [0. , 1. , 1. , 0.5, 0.5, 0. ],\n",
       "       [1. , 0. , 0.5, 1. , 0.5, 0. ],\n",
       "       [1. , 0. , 0.5, 0.5, 1. , 1. ]])"
      ]
     },
     "execution_count": 366,
     "metadata": {},
     "output_type": "execute_result"
    }
   ],
   "source": [
    "X"
   ]
  },
  {
   "cell_type": "code",
   "execution_count": 367,
   "metadata": {
    "ExecuteTime": {
     "end_time": "2023-02-16T12:37:48.519651Z",
     "start_time": "2023-02-16T12:37:48.507129Z"
    },
    "colab": {
     "base_uri": "https://localhost:8080/"
    },
    "id": "radQlkXEPgbl",
    "outputId": "3b285945-8475-44d9-a098-4c9500d11eae"
   },
   "outputs": [
    {
     "data": {
      "text/plain": [
       "array([0., 0., 0., 0., 0., 0., 0., 0., 0., 0., 0., 0., 0., 0., 0., 0., 0.,\n",
       "       0., 0., 0., 0., 0., 0., 0., 0., 0., 0., 0., 0., 0., 0., 0., 0., 0.,\n",
       "       0., 0., 0., 0., 0., 0., 0., 0., 0., 0., 0., 0., 0., 0., 0., 0., 0.,\n",
       "       0., 0., 0., 0., 0., 0., 0., 0., 0., 0., 0., 0., 0., 0., 0., 0., 0.,\n",
       "       0., 0., 0., 0., 0., 0., 0., 0., 0., 0., 0., 0., 0., 0., 0., 0., 0.,\n",
       "       0., 0., 0., 0., 0., 0., 0., 0., 0., 0., 0., 0., 0., 0., 0., 0., 0.,\n",
       "       0., 0., 0., 0., 0., 1., 1., 1., 1., 1., 1., 1., 1., 1., 1., 1., 1.,\n",
       "       1., 1., 1., 1., 1., 1., 1., 1., 1., 1., 1., 1., 1., 1., 1., 1., 1.,\n",
       "       1., 1., 1., 1., 1., 1., 1., 1., 1., 1., 1., 1., 1., 1., 1., 1., 1.,\n",
       "       1., 1., 1., 1., 1., 1., 1., 1., 1., 1., 1., 1., 1., 1., 1., 1., 1.,\n",
       "       1., 1., 1., 1., 1., 1., 1., 1., 1., 1., 1., 1., 1., 1., 1., 1., 1.,\n",
       "       1., 1., 1., 1., 1., 1., 1., 1., 1., 1., 1., 1., 1., 1., 1., 1., 1.,\n",
       "       1., 1., 1., 1., 1., 1., 1., 1., 1., 1., 1., 1., 1., 1., 1., 1., 1.,\n",
       "       1., 1., 1., 1., 1., 1., 1., 1., 1., 1., 1., 1., 1., 1., 1., 1., 1.,\n",
       "       1., 1., 1., 1., 1., 1., 1., 1., 1., 1., 1., 1.])"
      ]
     },
     "execution_count": 367,
     "metadata": {},
     "output_type": "execute_result"
    }
   ],
   "source": [
    "Y"
   ]
  },
  {
   "cell_type": "code",
   "execution_count": 368,
   "metadata": {
    "ExecuteTime": {
     "end_time": "2023-02-16T12:37:48.535531Z",
     "start_time": "2023-02-16T12:37:48.521648Z"
    },
    "colab": {
     "base_uri": "https://localhost:8080/"
    },
    "id": "TIOk8trzOyKq",
    "outputId": "8681606e-004e-4f7c-965b-9e203180b8ca"
   },
   "outputs": [
    {
     "name": "stdout",
     "output_type": "stream",
     "text": [
      "(175, 6) (175,) (75, 6) (75,)\n"
     ]
    }
   ],
   "source": [
    "# Data Split\n",
    "x_train,x_test,y_train,y_test = train_test_split(X,Y,test_size=0.30,random_state=42)\n",
    "print(x_train.shape,y_train.shape,x_test.shape,y_test.shape)"
   ]
  },
  {
   "cell_type": "code",
   "execution_count": 369,
   "metadata": {
    "ExecuteTime": {
     "end_time": "2023-02-16T12:37:48.551922Z",
     "start_time": "2023-02-16T12:37:48.538530Z"
    },
    "id": "evNv293-OyKr"
   },
   "outputs": [],
   "source": [
    "# Creating empty list for accuracy\n",
    "acc = []\n",
    "model = []"
   ]
  },
  {
   "cell_type": "markdown",
   "metadata": {
    "id": "-HVbOZOTOyKr"
   },
   "source": [
    "### 1.Logistic Regression"
   ]
  },
  {
   "cell_type": "code",
   "execution_count": 370,
   "metadata": {
    "ExecuteTime": {
     "end_time": "2023-02-16T12:37:48.601541Z",
     "start_time": "2023-02-16T12:37:48.554920Z"
    },
    "colab": {
     "base_uri": "https://localhost:8080/"
    },
    "id": "n3RVqAXeOyKs",
    "outputId": "cc5d6f7d-74c2-49f5-b22b-4943c34bfc95"
   },
   "outputs": [
    {
     "name": "stdout",
     "output_type": "stream",
     "text": [
      "Accuracy Score of Logistic Regression model is 100.0\n",
      "\n",
      "\n",
      "[1.   1.   1.   1.   1.   1.   0.96 1.   1.   1.  ]\n",
      "\n",
      "Mean of accuracy score for Logistic Regression is 99.60000000000001\n",
      "\n"
     ]
    }
   ],
   "source": [
    "lg = LogisticRegression()\n",
    "\n",
    "lg.fit(x_train, y_train)\n",
    "\n",
    "pred_lg = lg.predict(x_test)\n",
    "\n",
    "print(\"Accuracy Score of Logistic Regression model is\", accuracy_score(y_test, pred_lg)*100)\n",
    "\n",
    "lg_scores = cross_val_score(lg, X, Y, cv = 10)# cross validating the model\n",
    "print(\"\\n\")\n",
    "print(lg_scores)\n",
    "# accuracy scores of each cross validation cycle\n",
    "print(f\"\\nMean of accuracy score for Logistic Regression is {lg_scores.mean()*100}\\n\")\n",
    "\n",
    "x = metrics.accuracy_score(y_test, pred_lg)\n",
    "acc.append(x)\n",
    "model.append('lg')"
   ]
  },
  {
   "cell_type": "code",
   "execution_count": 371,
   "metadata": {
    "ExecuteTime": {
     "end_time": "2023-02-16T12:37:48.617759Z",
     "start_time": "2023-02-16T12:37:48.603553Z"
    },
    "colab": {
     "base_uri": "https://localhost:8080/"
    },
    "id": "-41WmxLh0n9a",
    "outputId": "6f6b1072-b051-4c44-9543-c087d271084a"
   },
   "outputs": [
    {
     "name": "stdout",
     "output_type": "stream",
     "text": [
      "              precision    recall  f1-score   support\n",
      "\n",
      "         0.0       1.00      1.00      1.00        25\n",
      "         1.0       1.00      1.00      1.00        50\n",
      "\n",
      "    accuracy                           1.00        75\n",
      "   macro avg       1.00      1.00      1.00        75\n",
      "weighted avg       1.00      1.00      1.00        75\n",
      "\n"
     ]
    }
   ],
   "source": [
    "print(classification_report(y_test, pred_lg))"
   ]
  },
  {
   "cell_type": "code",
   "execution_count": 372,
   "metadata": {
    "ExecuteTime": {
     "end_time": "2023-02-16T12:37:48.633526Z",
     "start_time": "2023-02-16T12:37:48.620968Z"
    },
    "colab": {
     "base_uri": "https://localhost:8080/"
    },
    "id": "R3g4b5Jx2ZuQ",
    "outputId": "f840392d-8a23-4309-cff3-51fb4a56ea4e"
   },
   "outputs": [
    {
     "data": {
      "text/plain": [
       "array([[25,  0],\n",
       "       [ 0, 50]])"
      ]
     },
     "execution_count": 372,
     "metadata": {},
     "output_type": "execute_result"
    }
   ],
   "source": [
    "confusion_matrix(y_test, pred_lg)"
   ]
  },
  {
   "cell_type": "markdown",
   "metadata": {
    "id": "W2ULYvzSOyKs"
   },
   "source": [
    "### 2.DecisionTreeClassifier"
   ]
  },
  {
   "cell_type": "code",
   "execution_count": 373,
   "metadata": {
    "ExecuteTime": {
     "end_time": "2023-02-16T12:37:48.671287Z",
     "start_time": "2023-02-16T12:37:48.635525Z"
    },
    "colab": {
     "base_uri": "https://localhost:8080/"
    },
    "id": "gi48hKV9OyKt",
    "outputId": "59ee5f8e-1eee-4d46-d2a3-9a7cecc8286a"
   },
   "outputs": [
    {
     "name": "stdout",
     "output_type": "stream",
     "text": [
      "Accuracy Score of Decision Tree Classifier model is 98.66666666666667\n",
      "\n",
      "\n",
      "[1.   1.   1.   1.   1.   1.   0.92 1.   1.   1.  ]\n",
      "\n",
      "Mean of accuracy score for Decision Tree Classifier is 99.2\n",
      "\n"
     ]
    }
   ],
   "source": [
    "dtc = DecisionTreeClassifier()\n",
    "\n",
    "dtc.fit(x_train, y_train)\n",
    "\n",
    "pred_dtc = dtc.predict(x_test)\n",
    "\n",
    "print(\"Accuracy Score of Decision Tree Classifier model is\", accuracy_score(y_test, pred_dtc)*100)\n",
    "\n",
    "dtc_scores = cross_val_score(dtc, X, Y, cv = 10)\n",
    "print(\"\\n\")\n",
    "print(dtc_scores)\n",
    "print(f\"\\nMean of accuracy score for Decision Tree Classifier is {dtc_scores.mean()*100}\\n\")\n",
    "\n",
    "x = metrics.accuracy_score(y_test, pred_dtc)\n",
    "acc.append(x)\n",
    "model.append('dtc')"
   ]
  },
  {
   "cell_type": "code",
   "execution_count": 374,
   "metadata": {
    "ExecuteTime": {
     "end_time": "2023-02-16T12:37:48.687695Z",
     "start_time": "2023-02-16T12:37:48.674284Z"
    },
    "colab": {
     "base_uri": "https://localhost:8080/"
    },
    "id": "PIUMKR8I09Qx",
    "outputId": "f2725fa9-0a11-4226-f326-c2cab5722748"
   },
   "outputs": [
    {
     "name": "stdout",
     "output_type": "stream",
     "text": [
      "              precision    recall  f1-score   support\n",
      "\n",
      "         0.0       0.96      1.00      0.98        25\n",
      "         1.0       1.00      0.98      0.99        50\n",
      "\n",
      "    accuracy                           0.99        75\n",
      "   macro avg       0.98      0.99      0.99        75\n",
      "weighted avg       0.99      0.99      0.99        75\n",
      "\n"
     ]
    }
   ],
   "source": [
    "print(classification_report(y_test, pred_dtc))"
   ]
  },
  {
   "cell_type": "code",
   "execution_count": 375,
   "metadata": {
    "ExecuteTime": {
     "end_time": "2023-02-16T12:37:48.704910Z",
     "start_time": "2023-02-16T12:37:48.689708Z"
    },
    "colab": {
     "base_uri": "https://localhost:8080/"
    },
    "id": "W6grVV4_2Vcx",
    "outputId": "786a8ecb-b1ba-4381-cbd4-a437d50bec24"
   },
   "outputs": [
    {
     "data": {
      "text/plain": [
       "array([[25,  0],\n",
       "       [ 1, 49]])"
      ]
     },
     "execution_count": 375,
     "metadata": {},
     "output_type": "execute_result"
    }
   ],
   "source": [
    "confusion_matrix(y_test, pred_dtc)"
   ]
  },
  {
   "cell_type": "markdown",
   "metadata": {
    "id": "Qxlnqd_cOyKt"
   },
   "source": [
    "### 3.KNN algorithm"
   ]
  },
  {
   "cell_type": "code",
   "execution_count": 376,
   "metadata": {
    "ExecuteTime": {
     "end_time": "2023-02-16T12:37:48.751532Z",
     "start_time": "2023-02-16T12:37:48.707016Z"
    },
    "colab": {
     "base_uri": "https://localhost:8080/"
    },
    "id": "H6-H5VCmOyKu",
    "outputId": "4353c1bc-87e5-4940-9281-c5997baf3497"
   },
   "outputs": [
    {
     "name": "stdout",
     "output_type": "stream",
     "text": [
      "Accuracy Score of K-Nearest Neighbour Classifier model is 98.66666666666667\n",
      "\n",
      "\n",
      "[1.   1.   1.   1.   1.   1.   0.96 1.   1.   1.  ]\n",
      "\n",
      "Mean of accuracy scores is for KNN Classifier is 99.60000000000001\n",
      "\n"
     ]
    }
   ],
   "source": [
    "knc = KNeighborsClassifier(n_neighbors = 5)\n",
    "\n",
    "knc.fit(x_train, y_train)\n",
    "\n",
    "pred_knc = knc.predict(x_test)\n",
    "\n",
    "print(\"Accuracy Score of K-Nearest Neighbour Classifier model is\", accuracy_score(y_test, pred_knc)*100)\n",
    "\n",
    "knc_scores = cross_val_score(knc, X, Y, cv = 10)\n",
    "print(\"\\n\")\n",
    "print(knc_scores)\n",
    "print(f\"\\nMean of accuracy scores is for KNN Classifier is {knc_scores.mean()*100}\\n\")\n",
    "\n",
    "x = metrics.accuracy_score(y_test, pred_knc)\n",
    "acc.append(x)\n",
    "model.append('knc')"
   ]
  },
  {
   "cell_type": "code",
   "execution_count": 377,
   "metadata": {
    "ExecuteTime": {
     "end_time": "2023-02-16T12:37:48.767428Z",
     "start_time": "2023-02-16T12:37:48.753590Z"
    },
    "colab": {
     "base_uri": "https://localhost:8080/"
    },
    "id": "eJ0puAWk1EFO",
    "outputId": "54020005-7d03-4c79-a71e-d1602680512d"
   },
   "outputs": [
    {
     "name": "stdout",
     "output_type": "stream",
     "text": [
      "              precision    recall  f1-score   support\n",
      "\n",
      "         0.0       0.96      1.00      0.98        25\n",
      "         1.0       1.00      0.98      0.99        50\n",
      "\n",
      "    accuracy                           0.99        75\n",
      "   macro avg       0.98      0.99      0.99        75\n",
      "weighted avg       0.99      0.99      0.99        75\n",
      "\n"
     ]
    }
   ],
   "source": [
    "print(classification_report(y_test, pred_knc))"
   ]
  },
  {
   "cell_type": "code",
   "execution_count": 378,
   "metadata": {
    "ExecuteTime": {
     "end_time": "2023-02-16T12:37:48.782916Z",
     "start_time": "2023-02-16T12:37:48.769422Z"
    },
    "colab": {
     "base_uri": "https://localhost:8080/"
    },
    "id": "5SkjiVoA2SXe",
    "outputId": "743d50b0-c8fa-4f5a-e14f-4c9a83b56816"
   },
   "outputs": [
    {
     "data": {
      "text/plain": [
       "array([[25,  0],\n",
       "       [ 1, 49]])"
      ]
     },
     "execution_count": 378,
     "metadata": {},
     "output_type": "execute_result"
    }
   ],
   "source": [
    "confusion_matrix(y_test, pred_knc)"
   ]
  },
  {
   "cell_type": "markdown",
   "metadata": {
    "id": "rlHIurI2OyKu"
   },
   "source": [
    "### 4.SVC"
   ]
  },
  {
   "cell_type": "code",
   "execution_count": 379,
   "metadata": {
    "ExecuteTime": {
     "end_time": "2023-02-16T12:37:48.814201Z",
     "start_time": "2023-02-16T12:37:48.783968Z"
    },
    "colab": {
     "base_uri": "https://localhost:8080/"
    },
    "id": "rDhCMAAwOyKu",
    "outputId": "3e26c43e-ac7e-4da1-c229-4c81ff218889"
   },
   "outputs": [
    {
     "name": "stdout",
     "output_type": "stream",
     "text": [
      "Accuracy Score of Support Vector Classifier model is 100.0\n",
      "\n",
      "\n",
      "[1.   1.   1.   1.   1.   1.   0.96 1.   1.   1.  ]\n",
      "\n",
      "Mean of accuracy scores for SVC Classifier is 99.60000000000001\n",
      "\n"
     ]
    }
   ],
   "source": [
    "svc = SVC(kernel = 'rbf')\n",
    "svc.fit(x_train, y_train)\n",
    "pred_svc = svc.predict(x_test)\n",
    "print(\"Accuracy Score of Support Vector Classifier model is\", accuracy_score(y_test, pred_svc)*100)\n",
    "\n",
    "svc_scores = cross_val_score(svc, X, Y, cv = 10)\n",
    "print(\"\\n\")\n",
    "print(svc_scores)\n",
    "print(f\"\\nMean of accuracy scores for SVC Classifier is {svc_scores.mean()*100}\\n\")\n",
    "\n",
    "x = metrics.accuracy_score(y_test, pred_svc)\n",
    "acc.append(x)\n",
    "model.append('svc')"
   ]
  },
  {
   "cell_type": "code",
   "execution_count": 379,
   "metadata": {
    "id": "JLJR6XpoRfbv"
   },
   "outputs": [],
   "source": [
    "\n"
   ]
  },
  {
   "cell_type": "code",
   "execution_count": 380,
   "metadata": {
    "ExecuteTime": {
     "end_time": "2023-02-16T12:37:48.829906Z",
     "start_time": "2023-02-16T12:37:48.815258Z"
    },
    "colab": {
     "base_uri": "https://localhost:8080/"
    },
    "id": "qrzwA4gG1Mwf",
    "outputId": "03351870-410e-4ac5-e9ea-fdf2f3b4a681"
   },
   "outputs": [
    {
     "name": "stdout",
     "output_type": "stream",
     "text": [
      "              precision    recall  f1-score   support\n",
      "\n",
      "         0.0       1.00      1.00      1.00        25\n",
      "         1.0       1.00      1.00      1.00        50\n",
      "\n",
      "    accuracy                           1.00        75\n",
      "   macro avg       1.00      1.00      1.00        75\n",
      "weighted avg       1.00      1.00      1.00        75\n",
      "\n"
     ]
    }
   ],
   "source": [
    "print(classification_report(y_test, pred_svc))"
   ]
  },
  {
   "cell_type": "code",
   "execution_count": 381,
   "metadata": {
    "ExecuteTime": {
     "end_time": "2023-02-16T12:37:48.845909Z",
     "start_time": "2023-02-16T12:37:48.830905Z"
    },
    "colab": {
     "base_uri": "https://localhost:8080/"
    },
    "id": "wQeyvdoi2N1Z",
    "outputId": "eb05d711-ad6b-49f9-810d-3a4dad3f980a"
   },
   "outputs": [
    {
     "data": {
      "text/plain": [
       "array([[25,  0],\n",
       "       [ 0, 50]])"
      ]
     },
     "execution_count": 381,
     "metadata": {},
     "output_type": "execute_result"
    }
   ],
   "source": [
    "confusion_matrix(y_test, pred_svc)"
   ]
  },
  {
   "cell_type": "markdown",
   "metadata": {
    "id": "DHIJILLbOyKv"
   },
   "source": [
    "### 5.Random Forest"
   ]
  },
  {
   "cell_type": "code",
   "execution_count": 382,
   "metadata": {
    "ExecuteTime": {
     "end_time": "2023-02-16T12:37:49.913927Z",
     "start_time": "2023-02-16T12:37:48.847909Z"
    },
    "colab": {
     "base_uri": "https://localhost:8080/"
    },
    "id": "HCaaV1_5OyKv",
    "outputId": "0514bf7a-51d1-49e8-ae5e-880028c04f68"
   },
   "outputs": [
    {
     "name": "stdout",
     "output_type": "stream",
     "text": [
      "Accuracy Score of Random Forest model is 100.0\n",
      "\n",
      "\n",
      "[1.   1.   1.   1.   1.   1.   0.96 1.   1.   1.  ]\n",
      "\n",
      "Mean of accuracy scores for Random Forest Classifier is 99.60000000000001\n",
      "\n"
     ]
    }
   ],
   "source": [
    "rfc = RandomForestClassifier()\n",
    "\n",
    "rfc.fit(x_train, y_train)\n",
    "\n",
    "pred_rfc = rfc.predict(x_test)\n",
    "\n",
    "print(\"Accuracy Score of Random Forest model is\", accuracy_score(y_test, pred_rfc)*100)\n",
    "\n",
    "rfc_scores = cross_val_score(rfc, X, Y, cv = 10)\n",
    "print(\"\\n\")\n",
    "print(rfc_scores)\n",
    "print(f\"\\nMean of accuracy scores for Random Forest Classifier is {rfc_scores.mean()*100}\\n\")\n",
    "\n",
    "x = metrics.accuracy_score(y_test, pred_rfc)\n",
    "acc.append(x)\n",
    "model.append('rfc')"
   ]
  },
  {
   "cell_type": "code",
   "execution_count": 383,
   "metadata": {
    "ExecuteTime": {
     "end_time": "2023-02-16T12:37:49.929745Z",
     "start_time": "2023-02-16T12:37:49.914922Z"
    },
    "colab": {
     "base_uri": "https://localhost:8080/"
    },
    "id": "JksaGG3L1PW2",
    "outputId": "c897adf1-552f-4f6e-de2b-0c4b24c3f25b"
   },
   "outputs": [
    {
     "name": "stdout",
     "output_type": "stream",
     "text": [
      "              precision    recall  f1-score   support\n",
      "\n",
      "         0.0       1.00      1.00      1.00        25\n",
      "         1.0       1.00      1.00      1.00        50\n",
      "\n",
      "    accuracy                           1.00        75\n",
      "   macro avg       1.00      1.00      1.00        75\n",
      "weighted avg       1.00      1.00      1.00        75\n",
      "\n"
     ]
    }
   ],
   "source": [
    "print(classification_report(y_test, pred_rfc))"
   ]
  },
  {
   "cell_type": "code",
   "execution_count": 384,
   "metadata": {
    "ExecuteTime": {
     "end_time": "2023-02-16T12:37:49.945564Z",
     "start_time": "2023-02-16T12:37:49.932811Z"
    },
    "colab": {
     "base_uri": "https://localhost:8080/"
    },
    "id": "j-DDE_wy1_Cy",
    "outputId": "9196a972-1fec-4bc0-cc53-1c952113a481"
   },
   "outputs": [
    {
     "data": {
      "text/plain": [
       "array([[25,  0],\n",
       "       [ 0, 50]])"
      ]
     },
     "execution_count": 384,
     "metadata": {},
     "output_type": "execute_result"
    }
   ],
   "source": [
    "confusion_matrix(y_test, pred_rfc)"
   ]
  },
  {
   "cell_type": "markdown",
   "metadata": {
    "id": "Xn4nrhoeOyKv"
   },
   "source": [
    "### 6.MultinominalNB"
   ]
  },
  {
   "cell_type": "code",
   "execution_count": 385,
   "metadata": {
    "ExecuteTime": {
     "end_time": "2023-02-16T12:37:49.991576Z",
     "start_time": "2023-02-16T12:37:49.947562Z"
    },
    "colab": {
     "base_uri": "https://localhost:8080/"
    },
    "id": "kRg5tookOyKw",
    "outputId": "e4050841-1cdf-4494-b528-7e1f675adcf2"
   },
   "outputs": [
    {
     "name": "stdout",
     "output_type": "stream",
     "text": [
      "Accuracy Score of MultinomialNB model is 100.0\n",
      "\n",
      "\n",
      "[1.   0.96 1.   0.96 0.92 1.   0.96 1.   1.   0.96]\n",
      "\n",
      "Mean of accuracy scores for MultinomialNB is 97.60000000000002\n",
      "\n"
     ]
    }
   ],
   "source": [
    "nb = MultinomialNB()\n",
    "\n",
    "nb.fit(x_train, y_train)\n",
    "\n",
    "pred_nb = nb.predict(x_test)\n",
    "\n",
    "print(\"Accuracy Score of MultinomialNB model is\", accuracy_score(y_test, pred_nb)*100)\n",
    "\n",
    "nb_scores = cross_val_score(nb, X, Y, cv = 10)\n",
    "print(\"\\n\")\n",
    "print(nb_scores)\n",
    "print(f\"\\nMean of accuracy scores for MultinomialNB is {nb_scores.mean()*100}\\n\")\n",
    "\n",
    "x = metrics.accuracy_score(y_test, pred_nb)\n",
    "acc.append(x)\n",
    "model.append('nb')"
   ]
  },
  {
   "cell_type": "code",
   "execution_count": 386,
   "metadata": {
    "ExecuteTime": {
     "end_time": "2023-02-16T12:37:50.007484Z",
     "start_time": "2023-02-16T12:37:49.992584Z"
    },
    "colab": {
     "base_uri": "https://localhost:8080/"
    },
    "id": "XYQ-4K8x1SgL",
    "outputId": "5a84b88b-52fb-4223-97ea-b435402675c7"
   },
   "outputs": [
    {
     "name": "stdout",
     "output_type": "stream",
     "text": [
      "              precision    recall  f1-score   support\n",
      "\n",
      "         0.0       1.00      1.00      1.00        25\n",
      "         1.0       1.00      1.00      1.00        50\n",
      "\n",
      "    accuracy                           1.00        75\n",
      "   macro avg       1.00      1.00      1.00        75\n",
      "weighted avg       1.00      1.00      1.00        75\n",
      "\n"
     ]
    }
   ],
   "source": [
    "print(classification_report(y_test, pred_nb))"
   ]
  },
  {
   "cell_type": "code",
   "execution_count": 387,
   "metadata": {
    "ExecuteTime": {
     "end_time": "2023-02-16T12:37:50.022654Z",
     "start_time": "2023-02-16T12:37:50.009484Z"
    },
    "colab": {
     "base_uri": "https://localhost:8080/"
    },
    "id": "x6vLiEQR18Cc",
    "outputId": "10135969-2510-424e-c586-cd7d531a1551"
   },
   "outputs": [
    {
     "data": {
      "text/plain": [
       "array([[25,  0],\n",
       "       [ 0, 50]])"
      ]
     },
     "execution_count": 387,
     "metadata": {},
     "output_type": "execute_result"
    }
   ],
   "source": [
    "confusion_matrix(y_test, pred_nb)"
   ]
  },
  {
   "cell_type": "markdown",
   "metadata": {
    "id": "-jUvI7dpOyKw"
   },
   "source": [
    "### 7.GaussianNB"
   ]
  },
  {
   "cell_type": "code",
   "execution_count": 388,
   "metadata": {
    "ExecuteTime": {
     "end_time": "2023-02-16T12:37:50.054009Z",
     "start_time": "2023-02-16T12:37:50.024842Z"
    },
    "colab": {
     "base_uri": "https://localhost:8080/"
    },
    "id": "mBQRGbLUOyKw",
    "outputId": "326d3344-a68e-4e7e-fe43-8fd392323913"
   },
   "outputs": [
    {
     "name": "stdout",
     "output_type": "stream",
     "text": [
      "Accuracy of GaussianNB model is 100.0\n",
      "\n",
      "\n",
      "[1.   0.96 1.   0.96 0.92 1.   0.96 1.   1.   0.96]\n",
      "\n",
      "Mean of accureacy score for GaussianNB is 97.19999999999999\n",
      "\n"
     ]
    }
   ],
   "source": [
    "gb = GaussianNB()\n",
    "\n",
    "gb.fit(x_train,y_train)\n",
    "\n",
    "pred_gb = gb.predict(x_test)\n",
    "\n",
    "print(\"Accuracy of GaussianNB model is\",accuracy_score(y_test,pred_gb)*100)\n",
    "\n",
    "gb_scores = cross_val_score(gb,X,Y,cv = 10)\n",
    "print(\"\\n\")\n",
    "print(nb_scores)\n",
    "print(f\"\\nMean of accureacy score for GaussianNB is {gb_scores.mean()*100}\\n\")\n",
    "\n",
    "x = metrics.accuracy_score(y_test, pred_gb)\n",
    "acc.append(x)\n",
    "model.append('gb')"
   ]
  },
  {
   "cell_type": "code",
   "execution_count": 389,
   "metadata": {
    "ExecuteTime": {
     "end_time": "2023-02-16T12:37:50.070575Z",
     "start_time": "2023-02-16T12:37:50.055434Z"
    },
    "colab": {
     "base_uri": "https://localhost:8080/"
    },
    "id": "WwFz8-yn1Xml",
    "outputId": "5c275803-cefd-4e92-bd85-6dbda0a1ee31"
   },
   "outputs": [
    {
     "name": "stdout",
     "output_type": "stream",
     "text": [
      "              precision    recall  f1-score   support\n",
      "\n",
      "         0.0       1.00      1.00      1.00        25\n",
      "         1.0       1.00      1.00      1.00        50\n",
      "\n",
      "    accuracy                           1.00        75\n",
      "   macro avg       1.00      1.00      1.00        75\n",
      "weighted avg       1.00      1.00      1.00        75\n",
      "\n"
     ]
    }
   ],
   "source": [
    "print(classification_report(y_test, pred_gb))"
   ]
  },
  {
   "cell_type": "code",
   "execution_count": 390,
   "metadata": {
    "ExecuteTime": {
     "end_time": "2023-02-16T12:37:50.087254Z",
     "start_time": "2023-02-16T12:37:50.072142Z"
    },
    "colab": {
     "base_uri": "https://localhost:8080/"
    },
    "id": "DVENJGOf15wa",
    "outputId": "648da675-13dc-4da7-ca64-506d7760ca5e"
   },
   "outputs": [
    {
     "data": {
      "text/plain": [
       "array([[25,  0],\n",
       "       [ 0, 50]])"
      ]
     },
     "execution_count": 390,
     "metadata": {},
     "output_type": "execute_result"
    }
   ],
   "source": [
    "confusion_matrix(y_test, pred_gb)"
   ]
  },
  {
   "cell_type": "markdown",
   "metadata": {
    "id": "WKdXehi4OyKw"
   },
   "source": [
    "### 8.Adaboost Classifire"
   ]
  },
  {
   "cell_type": "code",
   "execution_count": 391,
   "metadata": {
    "ExecuteTime": {
     "end_time": "2023-02-16T12:37:50.683317Z",
     "start_time": "2023-02-16T12:37:50.089602Z"
    },
    "colab": {
     "base_uri": "https://localhost:8080/"
    },
    "id": "2Imhi7ZyOyKw",
    "outputId": "b0fe8af4-bbd6-40d2-8ea7-49eb2d25e0f6"
   },
   "outputs": [
    {
     "name": "stdout",
     "output_type": "stream",
     "text": [
      "Accuracy Score of ADA Boost model is 98.66666666666667\n",
      "\n",
      "\n",
      "[1.   1.   1.   1.   1.   1.   0.92 1.   1.   1.  ]\n",
      "\n",
      "Mean of accureacy score for GaussianNB is 99.2\n",
      "\n"
     ]
    }
   ],
   "source": [
    "ada= AdaBoostClassifier()\n",
    "\n",
    "ada.fit(x_train, y_train)\n",
    "\n",
    "pred_ada = ada.predict(x_test)\n",
    "\n",
    "print(\"Accuracy Score of ADA Boost model is\", accuracy_score(y_test, pred_ada)*100)\n",
    "\n",
    "ada_scores = cross_val_score(ada,X,Y,cv=10)\n",
    "print(\"\\n\")\n",
    "print(ada_scores)\n",
    "print(f\"\\nMean of accureacy score for GaussianNB is {ada_scores.mean()*100}\\n\")\n",
    "\n",
    "x = metrics.accuracy_score(y_test, pred_ada)\n",
    "acc.append(x)\n",
    "model.append('ada')"
   ]
  },
  {
   "cell_type": "code",
   "execution_count": 392,
   "metadata": {
    "ExecuteTime": {
     "end_time": "2023-02-16T12:37:50.699809Z",
     "start_time": "2023-02-16T12:37:50.685371Z"
    },
    "colab": {
     "base_uri": "https://localhost:8080/"
    },
    "id": "-NMUKA261bot",
    "outputId": "15d31f66-0d79-4767-b9aa-4624d7b13e65"
   },
   "outputs": [
    {
     "name": "stdout",
     "output_type": "stream",
     "text": [
      "              precision    recall  f1-score   support\n",
      "\n",
      "         0.0       0.96      1.00      0.98        25\n",
      "         1.0       1.00      0.98      0.99        50\n",
      "\n",
      "    accuracy                           0.99        75\n",
      "   macro avg       0.98      0.99      0.99        75\n",
      "weighted avg       0.99      0.99      0.99        75\n",
      "\n"
     ]
    }
   ],
   "source": [
    "print(classification_report(y_test, pred_ada))"
   ]
  },
  {
   "cell_type": "code",
   "execution_count": 393,
   "metadata": {
    "ExecuteTime": {
     "end_time": "2023-02-16T12:37:50.715539Z",
     "start_time": "2023-02-16T12:37:50.701865Z"
    },
    "colab": {
     "base_uri": "https://localhost:8080/"
    },
    "id": "lU79bLd9126-",
    "outputId": "2344e690-1f68-4668-a3b9-cc21a707538e"
   },
   "outputs": [
    {
     "data": {
      "text/plain": [
       "array([[25,  0],\n",
       "       [ 1, 49]])"
      ]
     },
     "execution_count": 393,
     "metadata": {},
     "output_type": "execute_result"
    }
   ],
   "source": [
    "confusion_matrix(y_test, pred_ada)"
   ]
  },
  {
   "cell_type": "markdown",
   "metadata": {
    "id": "ArH0SdHgOyKw"
   },
   "source": [
    "### 9.Xgboost"
   ]
  },
  {
   "cell_type": "code",
   "execution_count": 394,
   "metadata": {
    "ExecuteTime": {
     "end_time": "2023-02-16T12:37:52.078538Z",
     "start_time": "2023-02-16T12:37:50.717536Z"
    },
    "colab": {
     "base_uri": "https://localhost:8080/"
    },
    "id": "fYihw_bnOyKx",
    "outputId": "0102d69e-ab45-4167-9d20-7edbf8829862"
   },
   "outputs": [
    {
     "name": "stdout",
     "output_type": "stream",
     "text": [
      "Accuracy Score of Xgboost model is 98.66666666666667\n",
      "\n",
      "\n",
      "[1.   1.   1.   1.   1.   1.   0.96 1.   1.   1.  ]\n",
      "\n",
      "Mean of accuracy score for Xgboost is 99.60000000000001\n",
      "\n"
     ]
    }
   ],
   "source": [
    "xb = XGBClassifier()\n",
    "\n",
    "xb.fit(x_train,y_train)\n",
    "\n",
    "pred_xb = xb.predict(x_test)\n",
    "\n",
    "print(\"Accuracy Score of Xgboost model is\", accuracy_score(y_test, pred_xb)*100)\n",
    "\n",
    "xb_score = cross_val_score(xb,X,Y,cv=10)\n",
    "print(\"\\n\")\n",
    "print(xb_score)\n",
    "print(f\"\\nMean of accuracy score for Xgboost is {xb_score.mean()*100}\\n\")\n",
    "\n",
    "x = metrics.accuracy_score(y_test, pred_xb)\n",
    "acc.append(x)\n",
    "model.append('xb')"
   ]
  },
  {
   "cell_type": "code",
   "execution_count": 395,
   "metadata": {
    "ExecuteTime": {
     "end_time": "2023-02-16T12:37:52.094557Z",
     "start_time": "2023-02-16T12:37:52.086045Z"
    },
    "colab": {
     "base_uri": "https://localhost:8080/"
    },
    "id": "D-luCcxq1f-3",
    "outputId": "692e1a27-ad0d-4117-b7e9-6f959d6b8f10"
   },
   "outputs": [
    {
     "name": "stdout",
     "output_type": "stream",
     "text": [
      "              precision    recall  f1-score   support\n",
      "\n",
      "         0.0       0.96      1.00      0.98        25\n",
      "         1.0       1.00      0.98      0.99        50\n",
      "\n",
      "    accuracy                           0.99        75\n",
      "   macro avg       0.98      0.99      0.99        75\n",
      "weighted avg       0.99      0.99      0.99        75\n",
      "\n"
     ]
    }
   ],
   "source": [
    "print(classification_report(y_test, pred_xb))"
   ]
  },
  {
   "cell_type": "code",
   "execution_count": 396,
   "metadata": {
    "ExecuteTime": {
     "end_time": "2023-02-16T12:37:52.110195Z",
     "start_time": "2023-02-16T12:37:52.094557Z"
    },
    "colab": {
     "base_uri": "https://localhost:8080/"
    },
    "id": "foz857oW1m3g",
    "outputId": "80f93f1f-3f98-417f-bf56-bbe6e91795eb"
   },
   "outputs": [
    {
     "data": {
      "text/plain": [
       "array([[25,  0],\n",
       "       [ 1, 49]])"
      ]
     },
     "execution_count": 396,
     "metadata": {},
     "output_type": "execute_result"
    }
   ],
   "source": [
    "confusion_matrix(y_test, pred_xb)"
   ]
  },
  {
   "cell_type": "markdown",
   "metadata": {
    "id": "2pQes0dJX9Qw"
   },
   "source": [
    "### 10.ANN\n"
   ]
  },
  {
   "cell_type": "code",
   "execution_count": 397,
   "metadata": {
    "ExecuteTime": {
     "end_time": "2023-02-16T12:44:36.848723Z",
     "start_time": "2023-02-16T12:44:36.790226Z"
    },
    "id": "yebKKgZnYQY1"
   },
   "outputs": [],
   "source": [
    "from tensorflow import keras\n",
    "from tensorflow.keras import layers\n",
    "ANN1= keras.Sequential()\n",
    "ANN1.add(tf.keras.layers.Dense(20, input_dim=6,  activation='relu')) #1st layer or input layer\n",
    "ANN1.add(tf.keras.layers.Dense(10,  activation='relu')) #2nd layer\n",
    "ANN1.add(tf.keras.layers.Dense(10,  activation='relu')) #3nd layer\n",
    "ANN1.add(tf.keras.layers.Dense(1, activation='sigmoid')) #4rd layer or output layer"
   ]
  },
  {
   "cell_type": "code",
   "execution_count": 398,
   "metadata": {
    "ExecuteTime": {
     "end_time": "2023-02-16T12:44:39.676937Z",
     "start_time": "2023-02-16T12:44:39.650559Z"
    },
    "id": "7afP8FpdYQWF"
   },
   "outputs": [],
   "source": [
    "# Compile model\n",
    "ANN1.compile(loss='binary_crossentropy', optimizer='adam', metrics=['accuracy'])"
   ]
  },
  {
   "cell_type": "code",
   "execution_count": 399,
   "metadata": {
    "ExecuteTime": {
     "end_time": "2023-02-16T12:44:40.678071Z",
     "start_time": "2023-02-16T12:44:40.664017Z"
    },
    "colab": {
     "base_uri": "https://localhost:8080/"
    },
    "id": "Lq4vbgR0YQSu",
    "outputId": "513a9706-552e-4c9f-fab9-893c8d0f68fc"
   },
   "outputs": [
    {
     "name": "stdout",
     "output_type": "stream",
     "text": [
      "Model: \"sequential_6\"\n",
      "_________________________________________________________________\n",
      " Layer (type)                Output Shape              Param #   \n",
      "=================================================================\n",
      " dense_408 (Dense)           (None, 20)                140       \n",
      "                                                                 \n",
      " dense_409 (Dense)           (None, 10)                210       \n",
      "                                                                 \n",
      " dense_410 (Dense)           (None, 10)                110       \n",
      "                                                                 \n",
      " dense_411 (Dense)           (None, 1)                 11        \n",
      "                                                                 \n",
      "=================================================================\n",
      "Total params: 471\n",
      "Trainable params: 471\n",
      "Non-trainable params: 0\n",
      "_________________________________________________________________\n"
     ]
    }
   ],
   "source": [
    "ANN1.summary()"
   ]
  },
  {
   "cell_type": "code",
   "execution_count": 400,
   "metadata": {
    "ExecuteTime": {
     "end_time": "2023-02-16T12:45:33.779307Z",
     "start_time": "2023-02-16T12:45:15.054313Z"
    },
    "colab": {
     "base_uri": "https://localhost:8080/"
    },
    "id": "EAmZxlLFYQAF",
    "outputId": "04a23a98-d472-4690-a586-387d105e98c3"
   },
   "outputs": [
    {
     "name": "stdout",
     "output_type": "stream",
     "text": [
      "Epoch 1/250\n",
      "30/30 [==============================] - 1s 9ms/step - loss: 0.6751 - accuracy: 0.6114 - val_loss: 0.7315 - val_accuracy: 0.0000e+00\n",
      "Epoch 2/250\n",
      "30/30 [==============================] - 0s 3ms/step - loss: 0.6226 - accuracy: 0.6114 - val_loss: 0.7355 - val_accuracy: 0.0267\n",
      "Epoch 3/250\n",
      "30/30 [==============================] - 0s 3ms/step - loss: 0.5693 - accuracy: 0.6171 - val_loss: 0.7479 - val_accuracy: 0.0667\n",
      "Epoch 4/250\n",
      "30/30 [==============================] - 0s 4ms/step - loss: 0.5008 - accuracy: 0.7257 - val_loss: 0.7369 - val_accuracy: 0.5600\n",
      "Epoch 5/250\n",
      "30/30 [==============================] - 0s 3ms/step - loss: 0.4169 - accuracy: 0.8857 - val_loss: 0.6700 - val_accuracy: 0.8667\n",
      "Epoch 6/250\n",
      "30/30 [==============================] - 0s 3ms/step - loss: 0.3364 - accuracy: 0.9314 - val_loss: 0.5821 - val_accuracy: 0.8933\n",
      "Epoch 7/250\n",
      "30/30 [==============================] - 0s 3ms/step - loss: 0.2633 - accuracy: 0.9543 - val_loss: 0.4643 - val_accuracy: 0.9467\n",
      "Epoch 8/250\n",
      "30/30 [==============================] - 0s 3ms/step - loss: 0.1851 - accuracy: 0.9886 - val_loss: 0.2746 - val_accuracy: 0.9600\n",
      "Epoch 9/250\n",
      "30/30 [==============================] - 0s 3ms/step - loss: 0.1073 - accuracy: 0.9886 - val_loss: 0.1564 - val_accuracy: 0.9867\n",
      "Epoch 10/250\n",
      "30/30 [==============================] - 0s 3ms/step - loss: 0.0686 - accuracy: 0.9943 - val_loss: 0.0934 - val_accuracy: 0.9867\n",
      "Epoch 11/250\n",
      "30/30 [==============================] - 0s 3ms/step - loss: 0.0499 - accuracy: 0.9943 - val_loss: 0.0775 - val_accuracy: 0.9867\n",
      "Epoch 12/250\n",
      "30/30 [==============================] - 0s 4ms/step - loss: 0.0402 - accuracy: 0.9943 - val_loss: 0.0605 - val_accuracy: 0.9867\n",
      "Epoch 13/250\n",
      "30/30 [==============================] - 0s 3ms/step - loss: 0.0348 - accuracy: 0.9943 - val_loss: 0.0863 - val_accuracy: 0.9733\n",
      "Epoch 14/250\n",
      "30/30 [==============================] - 0s 3ms/step - loss: 0.0313 - accuracy: 0.9943 - val_loss: 0.0579 - val_accuracy: 0.9867\n",
      "Epoch 15/250\n",
      "30/30 [==============================] - 0s 3ms/step - loss: 0.0270 - accuracy: 0.9943 - val_loss: 0.0516 - val_accuracy: 0.9867\n",
      "Epoch 16/250\n",
      "30/30 [==============================] - 0s 3ms/step - loss: 0.0233 - accuracy: 0.9943 - val_loss: 0.0466 - val_accuracy: 0.9867\n",
      "Epoch 17/250\n",
      "30/30 [==============================] - 0s 3ms/step - loss: 0.0214 - accuracy: 0.9943 - val_loss: 0.0478 - val_accuracy: 0.9867\n",
      "Epoch 18/250\n",
      "30/30 [==============================] - 0s 3ms/step - loss: 0.0188 - accuracy: 0.9943 - val_loss: 0.0379 - val_accuracy: 0.9867\n",
      "Epoch 19/250\n",
      "30/30 [==============================] - 0s 3ms/step - loss: 0.0168 - accuracy: 0.9943 - val_loss: 0.0379 - val_accuracy: 0.9867\n",
      "Epoch 20/250\n",
      "30/30 [==============================] - 0s 3ms/step - loss: 0.0155 - accuracy: 0.9943 - val_loss: 0.0293 - val_accuracy: 1.0000\n",
      "Epoch 21/250\n",
      "30/30 [==============================] - 0s 3ms/step - loss: 0.0140 - accuracy: 0.9943 - val_loss: 0.0330 - val_accuracy: 0.9867\n",
      "Epoch 22/250\n",
      "30/30 [==============================] - 0s 3ms/step - loss: 0.0132 - accuracy: 1.0000 - val_loss: 0.0328 - val_accuracy: 0.9867\n",
      "Epoch 23/250\n",
      "30/30 [==============================] - 0s 3ms/step - loss: 0.0119 - accuracy: 0.9943 - val_loss: 0.0248 - val_accuracy: 1.0000\n",
      "Epoch 24/250\n",
      "30/30 [==============================] - 0s 3ms/step - loss: 0.0107 - accuracy: 1.0000 - val_loss: 0.0286 - val_accuracy: 0.9867\n",
      "Epoch 25/250\n",
      "30/30 [==============================] - 0s 3ms/step - loss: 0.0095 - accuracy: 1.0000 - val_loss: 0.0259 - val_accuracy: 1.0000\n",
      "Epoch 26/250\n",
      "30/30 [==============================] - 0s 3ms/step - loss: 0.0089 - accuracy: 1.0000 - val_loss: 0.0232 - val_accuracy: 1.0000\n",
      "Epoch 27/250\n",
      "30/30 [==============================] - 0s 3ms/step - loss: 0.0085 - accuracy: 1.0000 - val_loss: 0.0222 - val_accuracy: 1.0000\n",
      "Epoch 28/250\n",
      "30/30 [==============================] - 0s 3ms/step - loss: 0.0076 - accuracy: 1.0000 - val_loss: 0.0226 - val_accuracy: 1.0000\n",
      "Epoch 29/250\n",
      "30/30 [==============================] - 0s 3ms/step - loss: 0.0072 - accuracy: 1.0000 - val_loss: 0.0180 - val_accuracy: 1.0000\n",
      "Epoch 30/250\n",
      "30/30 [==============================] - 0s 3ms/step - loss: 0.0065 - accuracy: 1.0000 - val_loss: 0.0206 - val_accuracy: 1.0000\n",
      "Epoch 31/250\n",
      "30/30 [==============================] - 0s 3ms/step - loss: 0.0060 - accuracy: 1.0000 - val_loss: 0.0200 - val_accuracy: 1.0000\n",
      "Epoch 32/250\n",
      "30/30 [==============================] - 0s 3ms/step - loss: 0.0059 - accuracy: 1.0000 - val_loss: 0.0176 - val_accuracy: 1.0000\n",
      "Epoch 33/250\n",
      "30/30 [==============================] - 0s 3ms/step - loss: 0.0055 - accuracy: 1.0000 - val_loss: 0.0175 - val_accuracy: 1.0000\n",
      "Epoch 34/250\n",
      "30/30 [==============================] - 0s 3ms/step - loss: 0.0048 - accuracy: 1.0000 - val_loss: 0.0183 - val_accuracy: 1.0000\n",
      "Epoch 35/250\n",
      "30/30 [==============================] - 0s 3ms/step - loss: 0.0046 - accuracy: 1.0000 - val_loss: 0.0162 - val_accuracy: 1.0000\n",
      "Epoch 36/250\n",
      "30/30 [==============================] - 0s 3ms/step - loss: 0.0043 - accuracy: 1.0000 - val_loss: 0.0157 - val_accuracy: 1.0000\n",
      "Epoch 37/250\n",
      "30/30 [==============================] - 0s 3ms/step - loss: 0.0040 - accuracy: 1.0000 - val_loss: 0.0153 - val_accuracy: 1.0000\n",
      "Epoch 38/250\n",
      "30/30 [==============================] - 0s 3ms/step - loss: 0.0037 - accuracy: 1.0000 - val_loss: 0.0156 - val_accuracy: 1.0000\n",
      "Epoch 39/250\n",
      "30/30 [==============================] - 0s 3ms/step - loss: 0.0035 - accuracy: 1.0000 - val_loss: 0.0145 - val_accuracy: 1.0000\n",
      "Epoch 40/250\n",
      "30/30 [==============================] - 0s 3ms/step - loss: 0.0033 - accuracy: 1.0000 - val_loss: 0.0133 - val_accuracy: 1.0000\n",
      "Epoch 41/250\n",
      "30/30 [==============================] - 0s 3ms/step - loss: 0.0031 - accuracy: 1.0000 - val_loss: 0.0136 - val_accuracy: 1.0000\n",
      "Epoch 42/250\n",
      "30/30 [==============================] - 0s 3ms/step - loss: 0.0031 - accuracy: 1.0000 - val_loss: 0.0140 - val_accuracy: 1.0000\n",
      "Epoch 43/250\n",
      "30/30 [==============================] - 0s 3ms/step - loss: 0.0028 - accuracy: 1.0000 - val_loss: 0.0119 - val_accuracy: 1.0000\n",
      "Epoch 44/250\n",
      "30/30 [==============================] - 0s 3ms/step - loss: 0.0028 - accuracy: 1.0000 - val_loss: 0.0123 - val_accuracy: 1.0000\n",
      "Epoch 45/250\n",
      "30/30 [==============================] - 0s 3ms/step - loss: 0.0025 - accuracy: 1.0000 - val_loss: 0.0128 - val_accuracy: 1.0000\n",
      "Epoch 46/250\n",
      "30/30 [==============================] - 0s 3ms/step - loss: 0.0026 - accuracy: 1.0000 - val_loss: 0.0108 - val_accuracy: 1.0000\n",
      "Epoch 47/250\n",
      "30/30 [==============================] - 0s 4ms/step - loss: 0.0022 - accuracy: 1.0000 - val_loss: 0.0120 - val_accuracy: 1.0000\n",
      "Epoch 48/250\n",
      "30/30 [==============================] - 0s 3ms/step - loss: 0.0020 - accuracy: 1.0000 - val_loss: 0.0114 - val_accuracy: 1.0000\n",
      "Epoch 49/250\n",
      "30/30 [==============================] - 0s 3ms/step - loss: 0.0019 - accuracy: 1.0000 - val_loss: 0.0114 - val_accuracy: 1.0000\n",
      "Epoch 50/250\n",
      "30/30 [==============================] - 0s 3ms/step - loss: 0.0020 - accuracy: 1.0000 - val_loss: 0.0114 - val_accuracy: 1.0000\n",
      "Epoch 51/250\n",
      "30/30 [==============================] - 0s 3ms/step - loss: 0.0018 - accuracy: 1.0000 - val_loss: 0.0097 - val_accuracy: 1.0000\n",
      "Epoch 52/250\n",
      "30/30 [==============================] - 0s 3ms/step - loss: 0.0017 - accuracy: 1.0000 - val_loss: 0.0098 - val_accuracy: 1.0000\n",
      "Epoch 53/250\n",
      "30/30 [==============================] - 0s 3ms/step - loss: 0.0016 - accuracy: 1.0000 - val_loss: 0.0101 - val_accuracy: 1.0000\n",
      "Epoch 54/250\n",
      "30/30 [==============================] - 0s 3ms/step - loss: 0.0016 - accuracy: 1.0000 - val_loss: 0.0103 - val_accuracy: 1.0000\n",
      "Epoch 55/250\n",
      "30/30 [==============================] - 0s 3ms/step - loss: 0.0015 - accuracy: 1.0000 - val_loss: 0.0100 - val_accuracy: 1.0000\n",
      "Epoch 56/250\n",
      "30/30 [==============================] - 0s 3ms/step - loss: 0.0014 - accuracy: 1.0000 - val_loss: 0.0088 - val_accuracy: 1.0000\n",
      "Epoch 57/250\n",
      "30/30 [==============================] - 0s 3ms/step - loss: 0.0013 - accuracy: 1.0000 - val_loss: 0.0092 - val_accuracy: 1.0000\n",
      "Epoch 58/250\n",
      "30/30 [==============================] - 0s 3ms/step - loss: 0.0013 - accuracy: 1.0000 - val_loss: 0.0093 - val_accuracy: 1.0000\n",
      "Epoch 59/250\n",
      "30/30 [==============================] - 0s 3ms/step - loss: 0.0012 - accuracy: 1.0000 - val_loss: 0.0096 - val_accuracy: 1.0000\n",
      "Epoch 60/250\n",
      "30/30 [==============================] - 0s 3ms/step - loss: 0.0012 - accuracy: 1.0000 - val_loss: 0.0085 - val_accuracy: 1.0000\n",
      "Epoch 61/250\n",
      "30/30 [==============================] - 0s 3ms/step - loss: 0.0011 - accuracy: 1.0000 - val_loss: 0.0092 - val_accuracy: 1.0000\n",
      "Epoch 62/250\n",
      "30/30 [==============================] - 0s 3ms/step - loss: 0.0011 - accuracy: 1.0000 - val_loss: 0.0089 - val_accuracy: 1.0000\n",
      "Epoch 63/250\n",
      "30/30 [==============================] - 0s 3ms/step - loss: 9.9177e-04 - accuracy: 1.0000 - val_loss: 0.0084 - val_accuracy: 1.0000\n",
      "Epoch 64/250\n",
      "30/30 [==============================] - 0s 3ms/step - loss: 9.6061e-04 - accuracy: 1.0000 - val_loss: 0.0081 - val_accuracy: 1.0000\n",
      "Epoch 65/250\n",
      "30/30 [==============================] - 0s 3ms/step - loss: 9.1594e-04 - accuracy: 1.0000 - val_loss: 0.0082 - val_accuracy: 1.0000\n",
      "Epoch 66/250\n",
      "30/30 [==============================] - 0s 3ms/step - loss: 9.1641e-04 - accuracy: 1.0000 - val_loss: 0.0081 - val_accuracy: 1.0000\n",
      "Epoch 67/250\n",
      "30/30 [==============================] - 0s 4ms/step - loss: 8.4376e-04 - accuracy: 1.0000 - val_loss: 0.0083 - val_accuracy: 1.0000\n",
      "Epoch 68/250\n",
      "30/30 [==============================] - 0s 3ms/step - loss: 8.3162e-04 - accuracy: 1.0000 - val_loss: 0.0089 - val_accuracy: 1.0000\n",
      "Epoch 69/250\n",
      "30/30 [==============================] - 0s 3ms/step - loss: 7.6824e-04 - accuracy: 1.0000 - val_loss: 0.0079 - val_accuracy: 1.0000\n",
      "Epoch 70/250\n",
      "30/30 [==============================] - 0s 3ms/step - loss: 7.4540e-04 - accuracy: 1.0000 - val_loss: 0.0073 - val_accuracy: 1.0000\n",
      "Epoch 71/250\n",
      "30/30 [==============================] - 0s 3ms/step - loss: 7.2618e-04 - accuracy: 1.0000 - val_loss: 0.0074 - val_accuracy: 1.0000\n",
      "Epoch 72/250\n",
      "30/30 [==============================] - 0s 3ms/step - loss: 6.8316e-04 - accuracy: 1.0000 - val_loss: 0.0077 - val_accuracy: 1.0000\n",
      "Epoch 73/250\n",
      "30/30 [==============================] - 0s 3ms/step - loss: 6.7508e-04 - accuracy: 1.0000 - val_loss: 0.0078 - val_accuracy: 1.0000\n",
      "Epoch 74/250\n",
      "30/30 [==============================] - 0s 3ms/step - loss: 6.6566e-04 - accuracy: 1.0000 - val_loss: 0.0077 - val_accuracy: 1.0000\n",
      "Epoch 75/250\n",
      "30/30 [==============================] - 0s 3ms/step - loss: 6.1202e-04 - accuracy: 1.0000 - val_loss: 0.0071 - val_accuracy: 1.0000\n",
      "Epoch 76/250\n",
      "30/30 [==============================] - 0s 3ms/step - loss: 5.9994e-04 - accuracy: 1.0000 - val_loss: 0.0073 - val_accuracy: 1.0000\n",
      "Epoch 77/250\n",
      "30/30 [==============================] - 0s 5ms/step - loss: 5.8281e-04 - accuracy: 1.0000 - val_loss: 0.0073 - val_accuracy: 1.0000\n",
      "Epoch 78/250\n",
      "30/30 [==============================] - 0s 4ms/step - loss: 5.7472e-04 - accuracy: 1.0000 - val_loss: 0.0084 - val_accuracy: 1.0000\n",
      "Epoch 79/250\n",
      "30/30 [==============================] - 0s 5ms/step - loss: 5.3575e-04 - accuracy: 1.0000 - val_loss: 0.0070 - val_accuracy: 1.0000\n",
      "Epoch 80/250\n",
      "30/30 [==============================] - 0s 5ms/step - loss: 5.0707e-04 - accuracy: 1.0000 - val_loss: 0.0072 - val_accuracy: 1.0000\n",
      "Epoch 81/250\n",
      "30/30 [==============================] - 0s 5ms/step - loss: 4.9868e-04 - accuracy: 1.0000 - val_loss: 0.0070 - val_accuracy: 1.0000\n",
      "Epoch 82/250\n",
      "30/30 [==============================] - 0s 4ms/step - loss: 4.7703e-04 - accuracy: 1.0000 - val_loss: 0.0071 - val_accuracy: 1.0000\n",
      "Epoch 83/250\n",
      "30/30 [==============================] - 0s 4ms/step - loss: 4.6889e-04 - accuracy: 1.0000 - val_loss: 0.0067 - val_accuracy: 1.0000\n",
      "Epoch 84/250\n",
      "30/30 [==============================] - 0s 4ms/step - loss: 4.4492e-04 - accuracy: 1.0000 - val_loss: 0.0068 - val_accuracy: 1.0000\n",
      "Epoch 85/250\n",
      "30/30 [==============================] - 0s 4ms/step - loss: 4.2919e-04 - accuracy: 1.0000 - val_loss: 0.0069 - val_accuracy: 1.0000\n",
      "Epoch 86/250\n",
      "30/30 [==============================] - 0s 4ms/step - loss: 4.0910e-04 - accuracy: 1.0000 - val_loss: 0.0067 - val_accuracy: 1.0000\n",
      "Epoch 87/250\n",
      "30/30 [==============================] - 0s 6ms/step - loss: 4.0208e-04 - accuracy: 1.0000 - val_loss: 0.0067 - val_accuracy: 1.0000\n",
      "Epoch 88/250\n",
      "30/30 [==============================] - 0s 5ms/step - loss: 3.9704e-04 - accuracy: 1.0000 - val_loss: 0.0065 - val_accuracy: 1.0000\n",
      "Epoch 89/250\n",
      "30/30 [==============================] - 0s 4ms/step - loss: 3.7563e-04 - accuracy: 1.0000 - val_loss: 0.0065 - val_accuracy: 1.0000\n",
      "Epoch 90/250\n",
      "30/30 [==============================] - 0s 3ms/step - loss: 3.6103e-04 - accuracy: 1.0000 - val_loss: 0.0065 - val_accuracy: 1.0000\n",
      "Epoch 91/250\n",
      "30/30 [==============================] - 0s 3ms/step - loss: 3.5696e-04 - accuracy: 1.0000 - val_loss: 0.0067 - val_accuracy: 1.0000\n",
      "Epoch 92/250\n",
      "30/30 [==============================] - 0s 3ms/step - loss: 3.4033e-04 - accuracy: 1.0000 - val_loss: 0.0062 - val_accuracy: 1.0000\n",
      "Epoch 93/250\n",
      "30/30 [==============================] - 0s 3ms/step - loss: 3.3730e-04 - accuracy: 1.0000 - val_loss: 0.0063 - val_accuracy: 1.0000\n",
      "Epoch 94/250\n",
      "30/30 [==============================] - 0s 3ms/step - loss: 3.2259e-04 - accuracy: 1.0000 - val_loss: 0.0061 - val_accuracy: 1.0000\n",
      "Epoch 95/250\n",
      "30/30 [==============================] - 0s 3ms/step - loss: 3.1157e-04 - accuracy: 1.0000 - val_loss: 0.0059 - val_accuracy: 1.0000\n",
      "Epoch 96/250\n",
      "30/30 [==============================] - 0s 3ms/step - loss: 3.0258e-04 - accuracy: 1.0000 - val_loss: 0.0061 - val_accuracy: 1.0000\n",
      "Epoch 97/250\n",
      "30/30 [==============================] - 0s 3ms/step - loss: 2.9143e-04 - accuracy: 1.0000 - val_loss: 0.0059 - val_accuracy: 1.0000\n",
      "Epoch 98/250\n",
      "30/30 [==============================] - 0s 3ms/step - loss: 2.8461e-04 - accuracy: 1.0000 - val_loss: 0.0060 - val_accuracy: 1.0000\n",
      "Epoch 99/250\n",
      "30/30 [==============================] - 0s 3ms/step - loss: 2.8356e-04 - accuracy: 1.0000 - val_loss: 0.0055 - val_accuracy: 1.0000\n",
      "Epoch 100/250\n",
      "30/30 [==============================] - 0s 3ms/step - loss: 2.6415e-04 - accuracy: 1.0000 - val_loss: 0.0058 - val_accuracy: 1.0000\n",
      "Epoch 101/250\n",
      "30/30 [==============================] - 0s 4ms/step - loss: 2.6304e-04 - accuracy: 1.0000 - val_loss: 0.0056 - val_accuracy: 1.0000\n",
      "Epoch 102/250\n",
      "30/30 [==============================] - 0s 3ms/step - loss: 2.5237e-04 - accuracy: 1.0000 - val_loss: 0.0059 - val_accuracy: 1.0000\n",
      "Epoch 103/250\n",
      "30/30 [==============================] - 0s 3ms/step - loss: 2.4255e-04 - accuracy: 1.0000 - val_loss: 0.0056 - val_accuracy: 1.0000\n",
      "Epoch 104/250\n",
      "30/30 [==============================] - 0s 3ms/step - loss: 2.3809e-04 - accuracy: 1.0000 - val_loss: 0.0056 - val_accuracy: 1.0000\n",
      "Epoch 105/250\n",
      "30/30 [==============================] - 0s 3ms/step - loss: 2.2757e-04 - accuracy: 1.0000 - val_loss: 0.0058 - val_accuracy: 1.0000\n",
      "Epoch 106/250\n",
      "30/30 [==============================] - 0s 3ms/step - loss: 2.2233e-04 - accuracy: 1.0000 - val_loss: 0.0056 - val_accuracy: 1.0000\n",
      "Epoch 107/250\n",
      "30/30 [==============================] - 0s 4ms/step - loss: 2.1489e-04 - accuracy: 1.0000 - val_loss: 0.0057 - val_accuracy: 1.0000\n",
      "Epoch 108/250\n",
      "30/30 [==============================] - 0s 4ms/step - loss: 2.1036e-04 - accuracy: 1.0000 - val_loss: 0.0058 - val_accuracy: 1.0000\n",
      "Epoch 109/250\n",
      "30/30 [==============================] - 0s 3ms/step - loss: 2.0584e-04 - accuracy: 1.0000 - val_loss: 0.0056 - val_accuracy: 1.0000\n",
      "Epoch 110/250\n",
      "30/30 [==============================] - 0s 3ms/step - loss: 1.9834e-04 - accuracy: 1.0000 - val_loss: 0.0055 - val_accuracy: 1.0000\n",
      "Epoch 111/250\n",
      "30/30 [==============================] - 0s 3ms/step - loss: 1.9862e-04 - accuracy: 1.0000 - val_loss: 0.0055 - val_accuracy: 1.0000\n",
      "Epoch 112/250\n",
      "30/30 [==============================] - 0s 4ms/step - loss: 1.8603e-04 - accuracy: 1.0000 - val_loss: 0.0054 - val_accuracy: 1.0000\n",
      "Epoch 113/250\n",
      "30/30 [==============================] - 0s 4ms/step - loss: 1.8421e-04 - accuracy: 1.0000 - val_loss: 0.0055 - val_accuracy: 1.0000\n",
      "Epoch 114/250\n",
      "30/30 [==============================] - 0s 4ms/step - loss: 1.8057e-04 - accuracy: 1.0000 - val_loss: 0.0053 - val_accuracy: 1.0000\n",
      "Epoch 115/250\n",
      "30/30 [==============================] - 0s 3ms/step - loss: 1.7499e-04 - accuracy: 1.0000 - val_loss: 0.0053 - val_accuracy: 1.0000\n",
      "Epoch 116/250\n",
      "30/30 [==============================] - 0s 4ms/step - loss: 1.6714e-04 - accuracy: 1.0000 - val_loss: 0.0054 - val_accuracy: 1.0000\n",
      "Epoch 117/250\n",
      "30/30 [==============================] - 0s 3ms/step - loss: 1.6705e-04 - accuracy: 1.0000 - val_loss: 0.0055 - val_accuracy: 1.0000\n",
      "Epoch 118/250\n",
      "30/30 [==============================] - 0s 3ms/step - loss: 1.6408e-04 - accuracy: 1.0000 - val_loss: 0.0050 - val_accuracy: 1.0000\n",
      "Epoch 119/250\n",
      "30/30 [==============================] - 0s 3ms/step - loss: 1.5780e-04 - accuracy: 1.0000 - val_loss: 0.0051 - val_accuracy: 1.0000\n",
      "Epoch 120/250\n",
      "30/30 [==============================] - 0s 4ms/step - loss: 1.5043e-04 - accuracy: 1.0000 - val_loss: 0.0052 - val_accuracy: 1.0000\n",
      "Epoch 121/250\n",
      "30/30 [==============================] - 0s 3ms/step - loss: 1.4577e-04 - accuracy: 1.0000 - val_loss: 0.0052 - val_accuracy: 1.0000\n",
      "Epoch 122/250\n",
      "30/30 [==============================] - 0s 3ms/step - loss: 1.4253e-04 - accuracy: 1.0000 - val_loss: 0.0051 - val_accuracy: 1.0000\n",
      "Epoch 123/250\n",
      "30/30 [==============================] - 0s 3ms/step - loss: 1.4073e-04 - accuracy: 1.0000 - val_loss: 0.0051 - val_accuracy: 1.0000\n",
      "Epoch 124/250\n",
      "30/30 [==============================] - 0s 3ms/step - loss: 1.3593e-04 - accuracy: 1.0000 - val_loss: 0.0052 - val_accuracy: 1.0000\n",
      "Epoch 125/250\n",
      "30/30 [==============================] - 0s 3ms/step - loss: 1.3446e-04 - accuracy: 1.0000 - val_loss: 0.0052 - val_accuracy: 1.0000\n",
      "Epoch 126/250\n",
      "30/30 [==============================] - 0s 3ms/step - loss: 1.3041e-04 - accuracy: 1.0000 - val_loss: 0.0051 - val_accuracy: 1.0000\n",
      "Epoch 127/250\n",
      "30/30 [==============================] - 0s 3ms/step - loss: 1.2763e-04 - accuracy: 1.0000 - val_loss: 0.0052 - val_accuracy: 1.0000\n",
      "Epoch 128/250\n",
      "30/30 [==============================] - 0s 3ms/step - loss: 1.2152e-04 - accuracy: 1.0000 - val_loss: 0.0050 - val_accuracy: 1.0000\n",
      "Epoch 129/250\n",
      "30/30 [==============================] - 0s 4ms/step - loss: 1.2075e-04 - accuracy: 1.0000 - val_loss: 0.0051 - val_accuracy: 1.0000\n",
      "Epoch 130/250\n",
      "30/30 [==============================] - 0s 3ms/step - loss: 1.1729e-04 - accuracy: 1.0000 - val_loss: 0.0050 - val_accuracy: 1.0000\n",
      "Epoch 131/250\n",
      "30/30 [==============================] - 0s 3ms/step - loss: 1.1521e-04 - accuracy: 1.0000 - val_loss: 0.0050 - val_accuracy: 1.0000\n",
      "Epoch 132/250\n",
      "30/30 [==============================] - 0s 3ms/step - loss: 1.1032e-04 - accuracy: 1.0000 - val_loss: 0.0048 - val_accuracy: 1.0000\n",
      "Epoch 133/250\n",
      "30/30 [==============================] - 0s 3ms/step - loss: 1.0903e-04 - accuracy: 1.0000 - val_loss: 0.0048 - val_accuracy: 1.0000\n",
      "Epoch 134/250\n",
      "30/30 [==============================] - 0s 3ms/step - loss: 1.0614e-04 - accuracy: 1.0000 - val_loss: 0.0050 - val_accuracy: 1.0000\n",
      "Epoch 135/250\n",
      "30/30 [==============================] - 0s 3ms/step - loss: 1.0453e-04 - accuracy: 1.0000 - val_loss: 0.0049 - val_accuracy: 1.0000\n",
      "Epoch 136/250\n",
      "30/30 [==============================] - 0s 3ms/step - loss: 1.0127e-04 - accuracy: 1.0000 - val_loss: 0.0046 - val_accuracy: 1.0000\n",
      "Epoch 137/250\n",
      "30/30 [==============================] - 0s 3ms/step - loss: 1.0025e-04 - accuracy: 1.0000 - val_loss: 0.0050 - val_accuracy: 1.0000\n",
      "Epoch 138/250\n",
      "30/30 [==============================] - 0s 3ms/step - loss: 9.6534e-05 - accuracy: 1.0000 - val_loss: 0.0046 - val_accuracy: 1.0000\n",
      "Epoch 139/250\n",
      "30/30 [==============================] - 0s 3ms/step - loss: 9.3386e-05 - accuracy: 1.0000 - val_loss: 0.0048 - val_accuracy: 1.0000\n",
      "Epoch 140/250\n",
      "30/30 [==============================] - 0s 3ms/step - loss: 9.1922e-05 - accuracy: 1.0000 - val_loss: 0.0047 - val_accuracy: 1.0000\n",
      "Epoch 141/250\n",
      "30/30 [==============================] - 0s 3ms/step - loss: 8.8527e-05 - accuracy: 1.0000 - val_loss: 0.0049 - val_accuracy: 1.0000\n",
      "Epoch 142/250\n",
      "30/30 [==============================] - 0s 3ms/step - loss: 8.7105e-05 - accuracy: 1.0000 - val_loss: 0.0047 - val_accuracy: 1.0000\n",
      "Epoch 143/250\n",
      "30/30 [==============================] - 0s 3ms/step - loss: 8.5928e-05 - accuracy: 1.0000 - val_loss: 0.0049 - val_accuracy: 1.0000\n",
      "Epoch 144/250\n",
      "30/30 [==============================] - 0s 3ms/step - loss: 8.3944e-05 - accuracy: 1.0000 - val_loss: 0.0047 - val_accuracy: 1.0000\n",
      "Epoch 145/250\n",
      "30/30 [==============================] - 0s 3ms/step - loss: 8.3569e-05 - accuracy: 1.0000 - val_loss: 0.0045 - val_accuracy: 1.0000\n",
      "Epoch 146/250\n",
      "30/30 [==============================] - 0s 3ms/step - loss: 8.1694e-05 - accuracy: 1.0000 - val_loss: 0.0048 - val_accuracy: 1.0000\n",
      "Epoch 147/250\n",
      "30/30 [==============================] - 0s 4ms/step - loss: 7.9048e-05 - accuracy: 1.0000 - val_loss: 0.0045 - val_accuracy: 1.0000\n",
      "Epoch 148/250\n",
      "30/30 [==============================] - 0s 3ms/step - loss: 7.5140e-05 - accuracy: 1.0000 - val_loss: 0.0047 - val_accuracy: 1.0000\n",
      "Epoch 149/250\n",
      "30/30 [==============================] - 0s 4ms/step - loss: 7.3108e-05 - accuracy: 1.0000 - val_loss: 0.0046 - val_accuracy: 1.0000\n",
      "Epoch 150/250\n",
      "30/30 [==============================] - 0s 3ms/step - loss: 7.2062e-05 - accuracy: 1.0000 - val_loss: 0.0046 - val_accuracy: 1.0000\n",
      "Epoch 151/250\n",
      "30/30 [==============================] - 0s 3ms/step - loss: 7.0749e-05 - accuracy: 1.0000 - val_loss: 0.0046 - val_accuracy: 1.0000\n",
      "Epoch 152/250\n",
      "30/30 [==============================] - 0s 3ms/step - loss: 6.9682e-05 - accuracy: 1.0000 - val_loss: 0.0047 - val_accuracy: 1.0000\n",
      "Epoch 153/250\n",
      "30/30 [==============================] - 0s 3ms/step - loss: 6.7274e-05 - accuracy: 1.0000 - val_loss: 0.0045 - val_accuracy: 1.0000\n",
      "Epoch 154/250\n",
      "30/30 [==============================] - 0s 3ms/step - loss: 6.5657e-05 - accuracy: 1.0000 - val_loss: 0.0045 - val_accuracy: 1.0000\n",
      "Epoch 155/250\n",
      "30/30 [==============================] - 0s 3ms/step - loss: 6.3966e-05 - accuracy: 1.0000 - val_loss: 0.0045 - val_accuracy: 1.0000\n",
      "Epoch 156/250\n",
      "30/30 [==============================] - 0s 3ms/step - loss: 6.3999e-05 - accuracy: 1.0000 - val_loss: 0.0045 - val_accuracy: 1.0000\n",
      "Epoch 157/250\n",
      "30/30 [==============================] - 0s 3ms/step - loss: 6.5499e-05 - accuracy: 1.0000 - val_loss: 0.0029 - val_accuracy: 1.0000\n",
      "Epoch 158/250\n",
      "30/30 [==============================] - 0s 3ms/step - loss: 6.9367e-05 - accuracy: 1.0000 - val_loss: 0.0032 - val_accuracy: 1.0000\n",
      "Epoch 159/250\n",
      "30/30 [==============================] - 0s 3ms/step - loss: 6.3086e-05 - accuracy: 1.0000 - val_loss: 0.0035 - val_accuracy: 1.0000\n",
      "Epoch 160/250\n",
      "30/30 [==============================] - 0s 3ms/step - loss: 5.9773e-05 - accuracy: 1.0000 - val_loss: 0.0037 - val_accuracy: 1.0000\n",
      "Epoch 161/250\n",
      "30/30 [==============================] - 0s 3ms/step - loss: 5.6527e-05 - accuracy: 1.0000 - val_loss: 0.0040 - val_accuracy: 1.0000\n",
      "Epoch 162/250\n",
      "30/30 [==============================] - 0s 3ms/step - loss: 5.4814e-05 - accuracy: 1.0000 - val_loss: 0.0043 - val_accuracy: 1.0000\n",
      "Epoch 163/250\n",
      "30/30 [==============================] - 0s 3ms/step - loss: 5.2696e-05 - accuracy: 1.0000 - val_loss: 0.0042 - val_accuracy: 1.0000\n",
      "Epoch 164/250\n",
      "30/30 [==============================] - 0s 3ms/step - loss: 5.1296e-05 - accuracy: 1.0000 - val_loss: 0.0043 - val_accuracy: 1.0000\n",
      "Epoch 165/250\n",
      "30/30 [==============================] - 0s 4ms/step - loss: 5.0242e-05 - accuracy: 1.0000 - val_loss: 0.0043 - val_accuracy: 1.0000\n",
      "Epoch 166/250\n",
      "30/30 [==============================] - 0s 4ms/step - loss: 4.8548e-05 - accuracy: 1.0000 - val_loss: 0.0043 - val_accuracy: 1.0000\n",
      "Epoch 167/250\n",
      "30/30 [==============================] - 0s 3ms/step - loss: 4.8367e-05 - accuracy: 1.0000 - val_loss: 0.0044 - val_accuracy: 1.0000\n",
      "Epoch 168/250\n",
      "30/30 [==============================] - 0s 3ms/step - loss: 4.7802e-05 - accuracy: 1.0000 - val_loss: 0.0046 - val_accuracy: 1.0000\n",
      "Epoch 169/250\n",
      "30/30 [==============================] - 0s 3ms/step - loss: 4.6091e-05 - accuracy: 1.0000 - val_loss: 0.0043 - val_accuracy: 1.0000\n",
      "Epoch 170/250\n",
      "30/30 [==============================] - 0s 3ms/step - loss: 4.4912e-05 - accuracy: 1.0000 - val_loss: 0.0044 - val_accuracy: 1.0000\n",
      "Epoch 171/250\n",
      "30/30 [==============================] - 0s 4ms/step - loss: 4.4528e-05 - accuracy: 1.0000 - val_loss: 0.0046 - val_accuracy: 1.0000\n",
      "Epoch 172/250\n",
      "30/30 [==============================] - 0s 3ms/step - loss: 4.2824e-05 - accuracy: 1.0000 - val_loss: 0.0042 - val_accuracy: 1.0000\n",
      "Epoch 173/250\n",
      "30/30 [==============================] - 0s 3ms/step - loss: 4.2237e-05 - accuracy: 1.0000 - val_loss: 0.0043 - val_accuracy: 1.0000\n",
      "Epoch 174/250\n",
      "30/30 [==============================] - 0s 3ms/step - loss: 4.0718e-05 - accuracy: 1.0000 - val_loss: 0.0043 - val_accuracy: 1.0000\n",
      "Epoch 175/250\n",
      "30/30 [==============================] - 0s 4ms/step - loss: 4.0438e-05 - accuracy: 1.0000 - val_loss: 0.0043 - val_accuracy: 1.0000\n",
      "Epoch 176/250\n",
      "30/30 [==============================] - 0s 3ms/step - loss: 3.9705e-05 - accuracy: 1.0000 - val_loss: 0.0042 - val_accuracy: 1.0000\n",
      "Epoch 177/250\n",
      "30/30 [==============================] - 0s 3ms/step - loss: 3.8543e-05 - accuracy: 1.0000 - val_loss: 0.0042 - val_accuracy: 1.0000\n",
      "Epoch 178/250\n",
      "30/30 [==============================] - 0s 3ms/step - loss: 3.8542e-05 - accuracy: 1.0000 - val_loss: 0.0041 - val_accuracy: 1.0000\n",
      "Epoch 179/250\n",
      "30/30 [==============================] - 0s 3ms/step - loss: 3.7452e-05 - accuracy: 1.0000 - val_loss: 0.0043 - val_accuracy: 1.0000\n",
      "Epoch 180/250\n",
      "30/30 [==============================] - 0s 3ms/step - loss: 3.6401e-05 - accuracy: 1.0000 - val_loss: 0.0043 - val_accuracy: 1.0000\n",
      "Epoch 181/250\n",
      "30/30 [==============================] - 0s 3ms/step - loss: 3.6132e-05 - accuracy: 1.0000 - val_loss: 0.0043 - val_accuracy: 1.0000\n",
      "Epoch 182/250\n",
      "30/30 [==============================] - 0s 3ms/step - loss: 3.5466e-05 - accuracy: 1.0000 - val_loss: 0.0039 - val_accuracy: 1.0000\n",
      "Epoch 183/250\n",
      "30/30 [==============================] - 0s 3ms/step - loss: 3.4160e-05 - accuracy: 1.0000 - val_loss: 0.0039 - val_accuracy: 1.0000\n",
      "Epoch 184/250\n",
      "30/30 [==============================] - 0s 6ms/step - loss: 3.3449e-05 - accuracy: 1.0000 - val_loss: 0.0040 - val_accuracy: 1.0000\n",
      "Epoch 185/250\n",
      "30/30 [==============================] - 0s 4ms/step - loss: 3.2747e-05 - accuracy: 1.0000 - val_loss: 0.0038 - val_accuracy: 1.0000\n",
      "Epoch 186/250\n",
      "30/30 [==============================] - 0s 5ms/step - loss: 3.2219e-05 - accuracy: 1.0000 - val_loss: 0.0040 - val_accuracy: 1.0000\n",
      "Epoch 187/250\n",
      "30/30 [==============================] - 0s 4ms/step - loss: 3.1231e-05 - accuracy: 1.0000 - val_loss: 0.0039 - val_accuracy: 1.0000\n",
      "Epoch 188/250\n",
      "30/30 [==============================] - 0s 4ms/step - loss: 3.0722e-05 - accuracy: 1.0000 - val_loss: 0.0039 - val_accuracy: 1.0000\n",
      "Epoch 189/250\n",
      "30/30 [==============================] - 0s 4ms/step - loss: 3.0143e-05 - accuracy: 1.0000 - val_loss: 0.0039 - val_accuracy: 1.0000\n",
      "Epoch 190/250\n",
      "30/30 [==============================] - 0s 4ms/step - loss: 2.9724e-05 - accuracy: 1.0000 - val_loss: 0.0039 - val_accuracy: 1.0000\n",
      "Epoch 191/250\n",
      "30/30 [==============================] - 0s 4ms/step - loss: 2.9001e-05 - accuracy: 1.0000 - val_loss: 0.0039 - val_accuracy: 1.0000\n",
      "Epoch 192/250\n",
      "30/30 [==============================] - 0s 4ms/step - loss: 2.8406e-05 - accuracy: 1.0000 - val_loss: 0.0038 - val_accuracy: 1.0000\n",
      "Epoch 193/250\n",
      "30/30 [==============================] - 0s 4ms/step - loss: 2.7968e-05 - accuracy: 1.0000 - val_loss: 0.0039 - val_accuracy: 1.0000\n",
      "Epoch 194/250\n",
      "30/30 [==============================] - 0s 5ms/step - loss: 2.7214e-05 - accuracy: 1.0000 - val_loss: 0.0040 - val_accuracy: 1.0000\n",
      "Epoch 195/250\n",
      "30/30 [==============================] - 0s 4ms/step - loss: 2.6772e-05 - accuracy: 1.0000 - val_loss: 0.0040 - val_accuracy: 1.0000\n",
      "Epoch 196/250\n",
      "30/30 [==============================] - 0s 4ms/step - loss: 2.6194e-05 - accuracy: 1.0000 - val_loss: 0.0039 - val_accuracy: 1.0000\n",
      "Epoch 197/250\n",
      "30/30 [==============================] - 0s 4ms/step - loss: 2.5597e-05 - accuracy: 1.0000 - val_loss: 0.0039 - val_accuracy: 1.0000\n",
      "Epoch 198/250\n",
      "30/30 [==============================] - 0s 4ms/step - loss: 2.5266e-05 - accuracy: 1.0000 - val_loss: 0.0038 - val_accuracy: 1.0000\n",
      "Epoch 199/250\n",
      "30/30 [==============================] - 0s 3ms/step - loss: 2.5027e-05 - accuracy: 1.0000 - val_loss: 0.0039 - val_accuracy: 1.0000\n",
      "Epoch 200/250\n",
      "30/30 [==============================] - 0s 3ms/step - loss: 2.3907e-05 - accuracy: 1.0000 - val_loss: 0.0038 - val_accuracy: 1.0000\n",
      "Epoch 201/250\n",
      "30/30 [==============================] - 0s 3ms/step - loss: 2.3607e-05 - accuracy: 1.0000 - val_loss: 0.0038 - val_accuracy: 1.0000\n",
      "Epoch 202/250\n",
      "30/30 [==============================] - 0s 3ms/step - loss: 2.3040e-05 - accuracy: 1.0000 - val_loss: 0.0037 - val_accuracy: 1.0000\n",
      "Epoch 203/250\n",
      "30/30 [==============================] - 0s 4ms/step - loss: 2.2548e-05 - accuracy: 1.0000 - val_loss: 0.0038 - val_accuracy: 1.0000\n",
      "Epoch 204/250\n",
      "30/30 [==============================] - 0s 3ms/step - loss: 2.2152e-05 - accuracy: 1.0000 - val_loss: 0.0037 - val_accuracy: 1.0000\n",
      "Epoch 205/250\n",
      "30/30 [==============================] - 0s 3ms/step - loss: 2.1740e-05 - accuracy: 1.0000 - val_loss: 0.0037 - val_accuracy: 1.0000\n",
      "Epoch 206/250\n",
      "30/30 [==============================] - 0s 3ms/step - loss: 2.1302e-05 - accuracy: 1.0000 - val_loss: 0.0038 - val_accuracy: 1.0000\n",
      "Epoch 207/250\n",
      "30/30 [==============================] - 0s 3ms/step - loss: 2.0927e-05 - accuracy: 1.0000 - val_loss: 0.0038 - val_accuracy: 1.0000\n",
      "Epoch 208/250\n",
      "30/30 [==============================] - 0s 3ms/step - loss: 2.0416e-05 - accuracy: 1.0000 - val_loss: 0.0037 - val_accuracy: 1.0000\n",
      "Epoch 209/250\n",
      "30/30 [==============================] - 0s 3ms/step - loss: 2.0253e-05 - accuracy: 1.0000 - val_loss: 0.0039 - val_accuracy: 1.0000\n",
      "Epoch 210/250\n",
      "30/30 [==============================] - 0s 4ms/step - loss: 1.9599e-05 - accuracy: 1.0000 - val_loss: 0.0037 - val_accuracy: 1.0000\n",
      "Epoch 211/250\n",
      "30/30 [==============================] - 0s 3ms/step - loss: 1.9445e-05 - accuracy: 1.0000 - val_loss: 0.0036 - val_accuracy: 1.0000\n",
      "Epoch 212/250\n",
      "30/30 [==============================] - 0s 3ms/step - loss: 1.9165e-05 - accuracy: 1.0000 - val_loss: 0.0037 - val_accuracy: 1.0000\n",
      "Epoch 213/250\n",
      "30/30 [==============================] - 0s 3ms/step - loss: 1.8637e-05 - accuracy: 1.0000 - val_loss: 0.0037 - val_accuracy: 1.0000\n",
      "Epoch 214/250\n",
      "30/30 [==============================] - 0s 3ms/step - loss: 1.8254e-05 - accuracy: 1.0000 - val_loss: 0.0037 - val_accuracy: 1.0000\n",
      "Epoch 215/250\n",
      "30/30 [==============================] - 0s 3ms/step - loss: 1.7835e-05 - accuracy: 1.0000 - val_loss: 0.0037 - val_accuracy: 1.0000\n",
      "Epoch 216/250\n",
      "30/30 [==============================] - 0s 4ms/step - loss: 1.7630e-05 - accuracy: 1.0000 - val_loss: 0.0037 - val_accuracy: 1.0000\n",
      "Epoch 217/250\n",
      "30/30 [==============================] - 0s 3ms/step - loss: 1.7230e-05 - accuracy: 1.0000 - val_loss: 0.0037 - val_accuracy: 1.0000\n",
      "Epoch 218/250\n",
      "30/30 [==============================] - 0s 3ms/step - loss: 1.6939e-05 - accuracy: 1.0000 - val_loss: 0.0038 - val_accuracy: 1.0000\n",
      "Epoch 219/250\n",
      "30/30 [==============================] - 0s 3ms/step - loss: 1.6547e-05 - accuracy: 1.0000 - val_loss: 0.0038 - val_accuracy: 1.0000\n",
      "Epoch 220/250\n",
      "30/30 [==============================] - 0s 3ms/step - loss: 1.6272e-05 - accuracy: 1.0000 - val_loss: 0.0038 - val_accuracy: 1.0000\n",
      "Epoch 221/250\n",
      "30/30 [==============================] - 0s 4ms/step - loss: 1.5991e-05 - accuracy: 1.0000 - val_loss: 0.0037 - val_accuracy: 1.0000\n",
      "Epoch 222/250\n",
      "30/30 [==============================] - 0s 3ms/step - loss: 1.5654e-05 - accuracy: 1.0000 - val_loss: 0.0037 - val_accuracy: 1.0000\n",
      "Epoch 223/250\n",
      "30/30 [==============================] - 0s 4ms/step - loss: 1.5143e-05 - accuracy: 1.0000 - val_loss: 0.0037 - val_accuracy: 1.0000\n",
      "Epoch 224/250\n",
      "30/30 [==============================] - 0s 3ms/step - loss: 1.4921e-05 - accuracy: 1.0000 - val_loss: 0.0037 - val_accuracy: 1.0000\n",
      "Epoch 225/250\n",
      "30/30 [==============================] - 0s 4ms/step - loss: 1.4667e-05 - accuracy: 1.0000 - val_loss: 0.0037 - val_accuracy: 1.0000\n",
      "Epoch 226/250\n",
      "30/30 [==============================] - 0s 3ms/step - loss: 1.4592e-05 - accuracy: 1.0000 - val_loss: 0.0036 - val_accuracy: 1.0000\n",
      "Epoch 227/250\n",
      "30/30 [==============================] - 0s 4ms/step - loss: 1.4189e-05 - accuracy: 1.0000 - val_loss: 0.0037 - val_accuracy: 1.0000\n",
      "Epoch 228/250\n",
      "30/30 [==============================] - 0s 3ms/step - loss: 1.3768e-05 - accuracy: 1.0000 - val_loss: 0.0036 - val_accuracy: 1.0000\n",
      "Epoch 229/250\n",
      "30/30 [==============================] - 0s 3ms/step - loss: 1.3606e-05 - accuracy: 1.0000 - val_loss: 0.0037 - val_accuracy: 1.0000\n",
      "Epoch 230/250\n",
      "30/30 [==============================] - 0s 5ms/step - loss: 1.3379e-05 - accuracy: 1.0000 - val_loss: 0.0037 - val_accuracy: 1.0000\n",
      "Epoch 231/250\n",
      "30/30 [==============================] - 0s 3ms/step - loss: 1.3190e-05 - accuracy: 1.0000 - val_loss: 0.0035 - val_accuracy: 1.0000\n",
      "Epoch 232/250\n",
      "30/30 [==============================] - 0s 3ms/step - loss: 1.2846e-05 - accuracy: 1.0000 - val_loss: 0.0037 - val_accuracy: 1.0000\n",
      "Epoch 233/250\n",
      "30/30 [==============================] - 0s 3ms/step - loss: 1.2572e-05 - accuracy: 1.0000 - val_loss: 0.0036 - val_accuracy: 1.0000\n",
      "Epoch 234/250\n",
      "30/30 [==============================] - 0s 4ms/step - loss: 1.2430e-05 - accuracy: 1.0000 - val_loss: 0.0035 - val_accuracy: 1.0000\n",
      "Epoch 235/250\n",
      "30/30 [==============================] - 0s 3ms/step - loss: 1.2147e-05 - accuracy: 1.0000 - val_loss: 0.0036 - val_accuracy: 1.0000\n",
      "Epoch 236/250\n",
      "30/30 [==============================] - 0s 3ms/step - loss: 1.1788e-05 - accuracy: 1.0000 - val_loss: 0.0036 - val_accuracy: 1.0000\n",
      "Epoch 237/250\n",
      "30/30 [==============================] - 0s 3ms/step - loss: 1.1636e-05 - accuracy: 1.0000 - val_loss: 0.0036 - val_accuracy: 1.0000\n",
      "Epoch 238/250\n",
      "30/30 [==============================] - 0s 3ms/step - loss: 1.1483e-05 - accuracy: 1.0000 - val_loss: 0.0035 - val_accuracy: 1.0000\n",
      "Epoch 239/250\n",
      "30/30 [==============================] - 0s 3ms/step - loss: 1.1303e-05 - accuracy: 1.0000 - val_loss: 0.0036 - val_accuracy: 1.0000\n",
      "Epoch 240/250\n",
      "30/30 [==============================] - 0s 3ms/step - loss: 1.0987e-05 - accuracy: 1.0000 - val_loss: 0.0036 - val_accuracy: 1.0000\n",
      "Epoch 241/250\n",
      "30/30 [==============================] - 0s 3ms/step - loss: 1.0809e-05 - accuracy: 1.0000 - val_loss: 0.0037 - val_accuracy: 1.0000\n",
      "Epoch 242/250\n",
      "30/30 [==============================] - 0s 3ms/step - loss: 1.0586e-05 - accuracy: 1.0000 - val_loss: 0.0035 - val_accuracy: 1.0000\n",
      "Epoch 243/250\n",
      "30/30 [==============================] - 0s 3ms/step - loss: 1.0382e-05 - accuracy: 1.0000 - val_loss: 0.0035 - val_accuracy: 1.0000\n",
      "Epoch 244/250\n",
      "30/30 [==============================] - 0s 3ms/step - loss: 1.0281e-05 - accuracy: 1.0000 - val_loss: 0.0036 - val_accuracy: 1.0000\n",
      "Epoch 245/250\n",
      "30/30 [==============================] - 0s 3ms/step - loss: 1.0003e-05 - accuracy: 1.0000 - val_loss: 0.0035 - val_accuracy: 1.0000\n",
      "Epoch 246/250\n",
      "30/30 [==============================] - 0s 3ms/step - loss: 9.8341e-06 - accuracy: 1.0000 - val_loss: 0.0036 - val_accuracy: 1.0000\n",
      "Epoch 247/250\n",
      "30/30 [==============================] - 0s 3ms/step - loss: 9.7476e-06 - accuracy: 1.0000 - val_loss: 0.0035 - val_accuracy: 1.0000\n",
      "Epoch 248/250\n",
      "30/30 [==============================] - 0s 4ms/step - loss: 9.4811e-06 - accuracy: 1.0000 - val_loss: 0.0035 - val_accuracy: 1.0000\n",
      "Epoch 249/250\n",
      "30/30 [==============================] - 0s 3ms/step - loss: 9.3918e-06 - accuracy: 1.0000 - val_loss: 0.0035 - val_accuracy: 1.0000\n",
      "Epoch 250/250\n",
      "30/30 [==============================] - 0s 3ms/step - loss: 9.0641e-06 - accuracy: 1.0000 - val_loss: 0.0035 - val_accuracy: 1.0000\n"
     ]
    }
   ],
   "source": [
    "# Fit the model\n",
    "history = ANN1.fit(X, Y, validation_split=0.30, epochs= 250, batch_size=6)"
   ]
  },
  {
   "cell_type": "code",
   "execution_count": 401,
   "metadata": {
    "ExecuteTime": {
     "end_time": "2023-02-16T12:45:33.845913Z",
     "start_time": "2023-02-16T12:45:33.782693Z"
    },
    "colab": {
     "base_uri": "https://localhost:8080/"
    },
    "id": "N33KZLlhdw77",
    "outputId": "fda95068-e578-4681-a9ac-6270866fba3c"
   },
   "outputs": [
    {
     "name": "stdout",
     "output_type": "stream",
     "text": [
      "8/8 [==============================] - 0s 2ms/step - loss: 0.0010 - accuracy: 1.0000\n",
      "100.0\n"
     ]
    }
   ],
   "source": [
    "scores = ANN1.evaluate(X, Y)\n",
    "print( scores[1]*100)"
   ]
  },
  {
   "cell_type": "code",
   "execution_count": 402,
   "metadata": {
    "ExecuteTime": {
     "end_time": "2023-02-16T12:45:38.288585Z",
     "start_time": "2023-02-16T12:45:38.283882Z"
    },
    "colab": {
     "base_uri": "https://localhost:8080/"
    },
    "id": "h0sF84IodwnZ",
    "outputId": "6e700969-50a6-4f59-aefb-1fbeed6b4f3e"
   },
   "outputs": [
    {
     "data": {
      "text/plain": [
       "dict_keys(['loss', 'accuracy', 'val_loss', 'val_accuracy'])"
      ]
     },
     "execution_count": 402,
     "metadata": {},
     "output_type": "execute_result"
    }
   ],
   "source": [
    "# Visualize training history\n",
    "\n",
    "# list all data in history\n",
    "history.history.keys()\n"
   ]
  },
  {
   "cell_type": "code",
   "execution_count": 403,
   "metadata": {
    "ExecuteTime": {
     "end_time": "2023-02-16T12:45:47.242686Z",
     "start_time": "2023-02-16T12:45:47.030993Z"
    },
    "colab": {
     "base_uri": "https://localhost:8080/",
     "height": 573
    },
    "id": "nE6kwqXtdwLX",
    "outputId": "356fc8aa-cfbe-49ca-8ccf-9cc3b1994d6e"
   },
   "outputs": [
    {
     "data": {
      "image/png": "[encoded data removed]",
      "text/plain": [
       "<Figure size 432x288 with 1 Axes>"
      ]
     },
     "metadata": {
      "needs_background": "light"
     },
     "output_type": "display_data"
    },
    {
     "data": {
      "image/png": "[encoded data removed]",
      "text/plain": [
       "<Figure size 432x288 with 1 Axes>"
      ]
     },
     "metadata": {
      "needs_background": "light"
     },
     "output_type": "display_data"
    }
   ],
   "source": [
    "# summarize history for accuracy\n",
    "import matplotlib.pyplot as plt\n",
    "plt.plot(history.history['accuracy'])\n",
    "plt.plot(history.history['val_accuracy'])\n",
    "plt.title('model accuracy')\n",
    "plt.ylabel('accuracy')\n",
    "plt.xlabel('epoch')\n",
    "plt.legend(['train', 'test'], loc='upper left')\n",
    "plt.show()\n",
    "\n",
    "# summarize history for loss\n",
    "plt.plot(history.history['loss'])\n",
    "plt.plot(history.history['val_loss'])\n",
    "plt.title('model loss')\n",
    "plt.ylabel('loss')\n",
    "plt.xlabel('epoch')\n",
    "plt.legend(['train', 'test'], loc='upper left')\n",
    "plt.show()\n"
   ]
  },
  {
   "cell_type": "code",
   "execution_count": 404,
   "metadata": {
    "ExecuteTime": {
     "end_time": "2023-02-16T12:45:59.087088Z",
     "start_time": "2023-02-16T12:45:59.079312Z"
    },
    "id": "UHl2O94OxU2C"
   },
   "outputs": [],
   "source": [
    "x=scores[1]"
   ]
  },
  {
   "cell_type": "code",
   "execution_count": 405,
   "metadata": {
    "ExecuteTime": {
     "end_time": "2023-02-16T12:46:00.097309Z",
     "start_time": "2023-02-16T12:46:00.092259Z"
    },
    "id": "lA_1bGOQrLem"
   },
   "outputs": [],
   "source": [
    "acc.append(x)\n",
    "model.append('ANN1')"
   ]
  },
  {
   "cell_type": "markdown",
   "metadata": {
    "id": "R7nTygMyOyKx"
   },
   "source": [
    "### Accuracy Comparison"
   ]
  },
  {
   "cell_type": "code",
   "execution_count": 406,
   "metadata": {
    "ExecuteTime": {
     "end_time": "2023-02-16T12:46:12.181304Z",
     "start_time": "2023-02-16T12:46:12.039908Z"
    },
    "colab": {
     "base_uri": "https://localhost:8080/",
     "height": 421
    },
    "id": "D_C7VrkWOyKx",
    "outputId": "b8a955f8-327f-4588-a511-cab804dc03ed"
   },
   "outputs": [
    {
     "data": {
      "text/plain": [
       "<matplotlib.axes._subplots.AxesSubplot at 0x7f94c933b4f0>"
      ]
     },
     "execution_count": 406,
     "metadata": {},
     "output_type": "execute_result"
    },
    {
     "data": {
      "image/png": "[encoded data removed]",
      "text/plain": [
       "<Figure size 1080x432 with 1 Axes>"
      ]
     },
     "metadata": {
      "needs_background": "light"
     },
     "output_type": "display_data"
    }
   ],
   "source": [
    "plt.figure(figsize=(15,6))\n",
    "plt.title(\"Accuracy Comparision\")\n",
    "plt.xlabel(\"Accuracy\")\n",
    "plt.ylabel(\"Algorithm\")\n",
    "sns.barplot(x= acc,y=model)"
   ]
  },
  {
   "cell_type": "code",
   "execution_count": 407,
   "metadata": {
    "ExecuteTime": {
     "end_time": "2023-02-16T12:46:16.046563Z",
     "start_time": "2023-02-16T12:46:16.030154Z"
    },
    "colab": {
     "base_uri": "https://localhost:8080/"
    },
    "id": "SA1-jt8HOyKx",
    "outputId": "80ea04c9-b45b-4264-e475-b62bdc46fbd0"
   },
   "outputs": [
    {
     "name": "stdout",
     "output_type": "stream",
     "text": [
      "lg = 1.0\n",
      "dtc = 0.9866666666666667\n",
      "knc = 0.9866666666666667\n",
      "svc = 1.0\n",
      "rfc = 1.0\n",
      "nb = 1.0\n",
      "gb = 1.0\n",
      "ada = 0.9866666666666667\n",
      "xb = 0.9866666666666667\n",
      "ANN1 = 1.0\n"
     ]
    }
   ],
   "source": [
    "accuracy_models = dict(zip(model, acc))\n",
    "for k, v in accuracy_models.items():\n",
    "    print (k, '=', v)"
   ]
  },
  {
   "cell_type": "markdown",
   "metadata": {
    "id": "8R62DSqtKEFj"
   },
   "source": [
    "__Choosing ANN and SVC as final models based on their high accuracy.__"
   ]
  },
  {
   "cell_type": "markdown",
   "metadata": {
    "id": "T3b8ZW2yKEFj"
   },
   "source": [
    "__Hyper Parameter Tuning of SVC__"
   ]
  },
  {
   "cell_type": "code",
   "execution_count": 408,
   "metadata": {
    "ExecuteTime": {
     "end_time": "2023-02-16T13:06:39.500218Z",
     "start_time": "2023-02-16T13:06:37.440554Z"
    },
    "colab": {
     "base_uri": "https://localhost:8080/"
    },
    "id": "30K83ZYBOyKy",
    "outputId": "06564b26-b751-478d-b88e-84e8787bd4f3"
   },
   "outputs": [
    {
     "data": {
      "text/plain": [
       "GridSearchCV(cv=50, estimator=SVC(),\n",
       "             param_grid=[{'C': [12, 10, 0.1, 0.001], 'gamma': [50, 5, 10, 0.5],\n",
       "                          'kernel': ['rbf', 'poly']}])"
      ]
     },
     "execution_count": 408,
     "metadata": {},
     "output_type": "execute_result"
    }
   ],
   "source": [
    "from sklearn.model_selection import GridSearchCV\n",
    "\n",
    "clf = SVC()\n",
    "param_grid = [{'kernel':['rbf','poly'],'gamma':[50,5,10,0.5],'C':[12,10,0.1,0.001]}]\n",
    "gsv = GridSearchCV(clf,param_grid,cv=50)\n",
    "gsv.fit(x_train,y_train)\n"
   ]
  },
  {
   "cell_type": "code",
   "execution_count": 409,
   "metadata": {
    "ExecuteTime": {
     "end_time": "2023-02-16T13:06:41.398220Z",
     "start_time": "2023-02-16T13:06:41.384064Z"
    },
    "colab": {
     "base_uri": "https://localhost:8080/"
    },
    "id": "rumM59hyKEFj",
    "outputId": "5f9839fc-8ce2-4154-ba54-d7d259661257"
   },
   "outputs": [
    {
     "data": {
      "text/plain": [
       "SVC(C=12, gamma=0.5)"
      ]
     },
     "execution_count": 409,
     "metadata": {},
     "output_type": "execute_result"
    }
   ],
   "source": [
    "gsv.best_estimator_"
   ]
  },
  {
   "cell_type": "code",
   "execution_count": 410,
   "metadata": {
    "ExecuteTime": {
     "end_time": "2023-02-16T13:08:12.298496Z",
     "start_time": "2023-02-16T13:08:12.281035Z"
    },
    "colab": {
     "base_uri": "https://localhost:8080/"
    },
    "id": "I0dlApSzKEFj",
    "outputId": "854705cd-c5ac-4f37-9f10-f9e7df396a71"
   },
   "outputs": [
    {
     "name": "stdout",
     "output_type": "stream",
     "text": [
      "Accuracy Score of Support Vector Classifier model is 100.0\n"
     ]
    }
   ],
   "source": [
    "\n",
    "svc = SVC(kernel=\"rbf\",C=12,gamma=0.5)\n",
    "svc.fit(x_train, y_train)\n",
    "pred_svc = svc.predict(x_test)\n",
    "print(\"Accuracy Score of Support Vector Classifier model is\", accuracy_score(y_test, pred_svc)*100)\n"
   ]
  },
  {
   "cell_type": "code",
   "execution_count": 411,
   "metadata": {
    "ExecuteTime": {
     "end_time": "2023-02-16T13:09:13.290342Z",
     "start_time": "2023-02-16T13:09:13.268559Z"
    },
    "colab": {
     "base_uri": "https://localhost:8080/"
    },
    "id": "Wzr8rMvaKEFj",
    "outputId": "cf1d275c-cfc4-4807-bfb7-2370a302547c"
   },
   "outputs": [
    {
     "name": "stdout",
     "output_type": "stream",
     "text": [
      "              precision    recall  f1-score   support\n",
      "\n",
      "         0.0       1.00      1.00      1.00        25\n",
      "         1.0       1.00      1.00      1.00        50\n",
      "\n",
      "    accuracy                           1.00        75\n",
      "   macro avg       1.00      1.00      1.00        75\n",
      "weighted avg       1.00      1.00      1.00        75\n",
      "\n"
     ]
    }
   ],
   "source": [
    "print(classification_report(y_test, pred_svc))"
   ]
  },
  {
   "cell_type": "code",
   "execution_count": 412,
   "metadata": {
    "ExecuteTime": {
     "end_time": "2023-02-16T13:09:44.116581Z",
     "start_time": "2023-02-16T13:09:44.109407Z"
    },
    "colab": {
     "base_uri": "https://localhost:8080/"
    },
    "id": "deJ0ZwnCKEFk",
    "outputId": "f8072a5d-77c8-44e3-a173-3e12e0212c6f"
   },
   "outputs": [
    {
     "data": {
      "text/plain": [
       "array([[25,  0],\n",
       "       [ 0, 50]])"
      ]
     },
     "execution_count": 412,
     "metadata": {},
     "output_type": "execute_result"
    }
   ],
   "source": [
    "confusion_matrix(y_test, pred_svc)"
   ]
  },
  {
   "cell_type": "code",
   "execution_count": 413,
   "metadata": {
    "ExecuteTime": {
     "end_time": "2023-02-16T13:40:20.489944Z",
     "start_time": "2023-02-16T13:40:20.109816Z"
    },
    "colab": {
     "base_uri": "https://localhost:8080/",
     "height": 285
    },
    "id": "lLJc6sqoKEFk",
    "outputId": "0a645054-ba28-4c94-ab6c-54c5222383fb"
   },
   "outputs": [
    {
     "name": "stderr",
     "output_type": "stream",
     "text": [
      "WARNING:matplotlib.legend:No handles with labels found to put in legend.\n"
     ]
    },
    {
     "data": {
      "image/png": "[encoded data removed]",
      "text/plain": [
       "<Figure size 432x288 with 1 Axes>"
      ]
     },
     "metadata": {},
     "output_type": "display_data"
    }
   ],
   "source": [
    "import matplotlib.pyplot as plt\n",
    "\n",
    "X=data[:,:2]\n",
    "y=data[:,6]\n",
    "\n",
    "def make_meshgrid(x, y, h=.02):\n",
    "    x_min, x_max = x.min() - 1, x.max() + 1\n",
    "    y_min, y_max = y.min() - 1, y.max() + 1\n",
    "    xx, yy = np.meshgrid(np.arange(x_min, x_max, h), np.arange(y_min, y_max, h))\n",
    "    return xx, yy\n",
    "\n",
    "def plot_contours(ax, clf, xx, yy, **params):\n",
    "    Z = clf.predict(np.c_[xx.ravel(), yy.ravel()])\n",
    "    Z = Z.reshape(xx.shape)\n",
    "    out = ax.contourf(xx, yy, Z, **params)\n",
    "    return out\n",
    "\n",
    "model = SVC(kernel=\"rbf\",C=12,gamma=0.5)\n",
    "clf = model.fit(X, y)\n",
    "\n",
    "fig, ax = plt.subplots()\n",
    "# title for the plots\n",
    "title = ('Decision surface of linear SVC ')\n",
    "# Set-up grid for plotting.\n",
    "X0, X1 = X[:, 0], X[:, 1]\n",
    "xx, yy = make_meshgrid(X0, X1)\n",
    "\n",
    "plot_contours(ax, clf, xx, yy, cmap=plt.cm.coolwarm, alpha=0.8)\n",
    "ax.scatter(X0, X1, c=y, cmap=plt.cm.coolwarm, s=20, edgecolors='k')\n",
    "ax.set_xticks(())\n",
    "ax.set_yticks(())\n",
    "ax.set_title(title)\n",
    "ax.legend()\n",
    "plt.show()"
   ]
  },
  {
   "cell_type": "markdown",
   "metadata": {
    "id": "ZTUkQfmsKEFk"
   },
   "source": [
    "__Tuning of Hyperparameters for ANN__"
   ]
  },
  {
   "cell_type": "code",
   "execution_count": 414,
   "metadata": {
    "ExecuteTime": {
     "end_time": "2023-02-16T13:59:44.777568Z",
     "start_time": "2023-02-16T13:59:44.765500Z"
    },
    "id": "bqxBHPuqKEFk"
   },
   "outputs": [],
   "source": [
    "from sklearn.preprocessing import StandardScaler\n",
    "\n",
    "import warnings\n",
    "warnings.filterwarnings('ignore')"
   ]
  },
  {
   "cell_type": "code",
   "execution_count": 415,
   "metadata": {
    "ExecuteTime": {
     "end_time": "2023-02-16T14:02:12.124656Z",
     "start_time": "2023-02-16T14:02:12.105426Z"
    },
    "id": "jhxsR0YFKEFk"
   },
   "outputs": [],
   "source": [
    "# Standardization\n",
    "\n",
    "X=data[:,0:6]\n",
    "Y=data[:,6]\n",
    "a = StandardScaler()\n",
    "a.fit(X)\n",
    "X_standardized = a.transform(X)"
   ]
  },
  {
   "cell_type": "code",
   "execution_count": 416,
   "metadata": {
    "ExecuteTime": {
     "end_time": "2023-02-16T14:02:12.560024Z",
     "start_time": "2023-02-16T14:02:12.543401Z"
    },
    "id": "fkEbndiNKEFk"
   },
   "outputs": [],
   "source": [
    "# Importing the necessary packages\n",
    "from sklearn.model_selection import GridSearchCV, KFold\n",
    "from keras.models import Sequential\n",
    "from keras.layers import Dense\n",
    "from keras.wrappers.scikit_learn import KerasClassifier\n",
    "#from keras.optimizers import Adam\n",
    "from keras.optimizers import adam_v2\n",
    "from tensorflow.keras.optimizers import Adam"
   ]
  },
  {
   "cell_type": "code",
   "execution_count": 417,
   "metadata": {
    "ExecuteTime": {
     "end_time": "2023-02-16T14:02:13.125584Z",
     "start_time": "2023-02-16T14:02:13.121733Z"
    },
    "id": "eR5UmKr7KEFk"
   },
   "outputs": [],
   "source": [
    "# create model\n",
    "def create_model():\n",
    "    M1 = Sequential(name='Hypterparameter-Tuning-Dummy')\n",
    "    M1.add(Dense(12, input_dim=6, kernel_initializer='uniform', activation='relu'))\n",
    "    M1.add(Dense(8,kernel_initializer='uniform', activation='relu'))\n",
    "    M1.add(Dense(1, kernel_initializer='uniform', activation='sigmoid'))\n",
    "    \n",
    "    adam=Adam(learning_rate=0.01)\n",
    "    M1.compile(loss='binary_crossentropy', optimizer=adam, metrics=['accuracy'])\n",
    "    return M1"
   ]
  },
  {
   "cell_type": "code",
   "execution_count": 418,
   "metadata": {
    "ExecuteTime": {
     "end_time": "2023-02-16T14:08:40.844725Z",
     "start_time": "2023-02-16T14:02:20.390160Z"
    },
    "colab": {
     "base_uri": "https://localhost:8080/"
    },
    "id": "6QZITge0KEFk",
    "outputId": "154f97e5-d4a8-4f89-b6a1-620b48894aeb"
   },
   "outputs": [
    {
     "name": "stdout",
     "output_type": "stream",
     "text": [
      "Fitting 5 folds for each of 12 candidates, totalling 60 fits\n",
      "[CV 1/5; 1/12] START batch_size=4, epochs=50....................................\n",
      "[CV 1/5; 1/12] END .....batch_size=4, epochs=50;, score=1.000 total time=   3.8s\n",
      "[CV 2/5; 1/12] START batch_size=4, epochs=50....................................\n",
      "[CV 2/5; 1/12] END .....batch_size=4, epochs=50;, score=0.980 total time=   6.1s\n",
      "[CV 3/5; 1/12] START batch_size=4, epochs=50....................................\n",
      "[CV 3/5; 1/12] END .....batch_size=4, epochs=50;, score=1.000 total time=   3.8s\n",
      "[CV 4/5; 1/12] START batch_size=4, epochs=50....................................\n",
      "[CV 4/5; 1/12] END .....batch_size=4, epochs=50;, score=0.960 total time=   3.5s\n",
      "[CV 5/5; 1/12] START batch_size=4, epochs=50....................................\n",
      "[CV 5/5; 1/12] END .....batch_size=4, epochs=50;, score=1.000 total time=   5.9s\n",
      "[CV 1/5; 2/12] START batch_size=4, epochs=100...................................\n",
      "[CV 1/5; 2/12] END ....batch_size=4, epochs=100;, score=1.000 total time=  11.8s\n",
      "[CV 2/5; 2/12] START batch_size=4, epochs=100...................................\n",
      "[CV 2/5; 2/12] END ....batch_size=4, epochs=100;, score=0.980 total time=   7.9s\n",
      "[CV 3/5; 2/12] START batch_size=4, epochs=100...................................\n",
      "[CV 3/5; 2/12] END ....batch_size=4, epochs=100;, score=1.000 total time=  11.9s\n",
      "[CV 4/5; 2/12] START batch_size=4, epochs=100...................................\n",
      "[CV 4/5; 2/12] END ....batch_size=4, epochs=100;, score=0.980 total time=   6.5s\n",
      "[CV 5/5; 2/12] START batch_size=4, epochs=100...................................\n",
      "[CV 5/5; 2/12] END ....batch_size=4, epochs=100;, score=1.000 total time=  11.0s\n",
      "[CV 1/5; 3/12] START batch_size=4, epochs=150...................................\n",
      "[CV 1/5; 3/12] END ....batch_size=4, epochs=150;, score=1.000 total time=  11.6s\n",
      "[CV 2/5; 3/12] START batch_size=4, epochs=150...................................\n",
      "[CV 2/5; 3/12] END ....batch_size=4, epochs=150;, score=0.000 total time=  12.6s\n",
      "[CV 3/5; 3/12] START batch_size=4, epochs=150...................................\n",
      "[CV 3/5; 3/12] END ....batch_size=4, epochs=150;, score=1.000 total time=  11.0s\n",
      "[CV 4/5; 3/12] START batch_size=4, epochs=150...................................\n",
      "[CV 4/5; 3/12] END ....batch_size=4, epochs=150;, score=0.980 total time=  11.0s\n",
      "[CV 5/5; 3/12] START batch_size=4, epochs=150...................................\n",
      "[CV 5/5; 3/12] END ....batch_size=4, epochs=150;, score=1.000 total time=   9.3s\n",
      "[CV 1/5; 4/12] START batch_size=4, epochs=250...................................\n",
      "[CV 1/5; 4/12] END ....batch_size=4, epochs=250;, score=1.000 total time=  16.8s\n",
      "[CV 2/5; 4/12] START batch_size=4, epochs=250...................................\n",
      "[CV 2/5; 4/12] END ....batch_size=4, epochs=250;, score=0.980 total time=  16.0s\n",
      "[CV 3/5; 4/12] START batch_size=4, epochs=250...................................\n",
      "[CV 3/5; 4/12] END ....batch_size=4, epochs=250;, score=1.000 total time=  21.7s\n",
      "[CV 4/5; 4/12] START batch_size=4, epochs=250...................................\n",
      "[CV 4/5; 4/12] END ....batch_size=4, epochs=250;, score=0.980 total time=  18.1s\n",
      "[CV 5/5; 4/12] START batch_size=4, epochs=250...................................\n",
      "[CV 5/5; 4/12] END ....batch_size=4, epochs=250;, score=1.000 total time=  41.9s\n",
      "[CV 1/5; 5/12] START batch_size=5, epochs=50....................................\n",
      "[CV 1/5; 5/12] END .....batch_size=5, epochs=50;, score=1.000 total time=   3.6s\n",
      "[CV 2/5; 5/12] START batch_size=5, epochs=50....................................\n",
      "[CV 2/5; 5/12] END .....batch_size=5, epochs=50;, score=0.980 total time=   3.4s\n",
      "[CV 3/5; 5/12] START batch_size=5, epochs=50....................................\n",
      "[CV 3/5; 5/12] END .....batch_size=5, epochs=50;, score=1.000 total time=   4.3s\n",
      "[CV 4/5; 5/12] START batch_size=5, epochs=50....................................\n",
      "[CV 4/5; 5/12] END .....batch_size=5, epochs=50;, score=0.980 total time=   5.9s\n",
      "[CV 5/5; 5/12] START batch_size=5, epochs=50....................................\n",
      "[CV 5/5; 5/12] END .....batch_size=5, epochs=50;, score=1.000 total time=   3.4s\n",
      "[CV 1/5; 6/12] START batch_size=5, epochs=100...................................\n",
      "[CV 1/5; 6/12] END ....batch_size=5, epochs=100;, score=1.000 total time=  11.0s\n",
      "[CV 2/5; 6/12] START batch_size=5, epochs=100...................................\n",
      "[CV 2/5; 6/12] END ....batch_size=5, epochs=100;, score=0.980 total time=   5.4s\n",
      "[CV 3/5; 6/12] START batch_size=5, epochs=100...................................\n",
      "[CV 3/5; 6/12] END ....batch_size=5, epochs=100;, score=1.000 total time=   6.0s\n",
      "[CV 4/5; 6/12] START batch_size=5, epochs=100...................................\n",
      "[CV 4/5; 6/12] END ....batch_size=5, epochs=100;, score=0.980 total time=   5.9s\n",
      "[CV 5/5; 6/12] START batch_size=5, epochs=100...................................\n",
      "[CV 5/5; 6/12] END ....batch_size=5, epochs=100;, score=1.000 total time=   6.1s\n",
      "[CV 1/5; 7/12] START batch_size=5, epochs=150...................................\n",
      "[CV 1/5; 7/12] END ....batch_size=5, epochs=150;, score=1.000 total time=  11.0s\n",
      "[CV 2/5; 7/12] START batch_size=5, epochs=150...................................\n",
      "[CV 2/5; 7/12] END ....batch_size=5, epochs=150;, score=0.980 total time=  11.0s\n",
      "[CV 3/5; 7/12] START batch_size=5, epochs=150...................................\n",
      "[CV 3/5; 7/12] END ....batch_size=5, epochs=150;, score=1.000 total time=  11.0s\n",
      "[CV 4/5; 7/12] START batch_size=5, epochs=150...................................\n",
      "[CV 4/5; 7/12] END ....batch_size=5, epochs=150;, score=0.960 total time=   8.4s\n",
      "[CV 5/5; 7/12] START batch_size=5, epochs=150...................................\n",
      "[CV 5/5; 7/12] END ....batch_size=5, epochs=150;, score=1.000 total time=   7.4s\n",
      "[CV 1/5; 8/12] START batch_size=5, epochs=250...................................\n",
      "[CV 1/5; 8/12] END ....batch_size=5, epochs=250;, score=1.000 total time=  21.2s\n",
      "[CV 2/5; 8/12] START batch_size=5, epochs=250...................................\n",
      "[CV 2/5; 8/12] END ....batch_size=5, epochs=250;, score=0.980 total time=  12.2s\n",
      "[CV 3/5; 8/12] START batch_size=5, epochs=250...................................\n",
      "[CV 3/5; 8/12] END ....batch_size=5, epochs=250;, score=1.000 total time=  21.3s\n",
      "[CV 4/5; 8/12] START batch_size=5, epochs=250...................................\n",
      "[CV 4/5; 8/12] END ....batch_size=5, epochs=250;, score=0.980 total time=  13.5s\n",
      "[CV 5/5; 8/12] START batch_size=5, epochs=250...................................\n",
      "[CV 5/5; 8/12] END ....batch_size=5, epochs=250;, score=1.000 total time=  21.2s\n",
      "[CV 1/5; 9/12] START batch_size=6, epochs=50....................................\n",
      "[CV 1/5; 9/12] END .....batch_size=6, epochs=50;, score=1.000 total time=   3.4s\n",
      "[CV 2/5; 9/12] START batch_size=6, epochs=50....................................\n",
      "[CV 2/5; 9/12] END .....batch_size=6, epochs=50;, score=0.980 total time=   2.8s\n",
      "[CV 3/5; 9/12] START batch_size=6, epochs=50....................................\n",
      "[CV 3/5; 9/12] END .....batch_size=6, epochs=50;, score=1.000 total time=   3.5s\n",
      "[CV 4/5; 9/12] START batch_size=6, epochs=50....................................\n",
      "[CV 4/5; 9/12] END .....batch_size=6, epochs=50;, score=0.980 total time=   2.8s\n",
      "[CV 5/5; 9/12] START batch_size=6, epochs=50....................................\n",
      "[CV 5/5; 9/12] END .....batch_size=6, epochs=50;, score=1.000 total time=   3.3s\n",
      "[CV 1/5; 10/12] START batch_size=6, epochs=100..................................\n",
      "[CV 1/5; 10/12] END ...batch_size=6, epochs=100;, score=1.000 total time=   5.9s\n",
      "[CV 2/5; 10/12] START batch_size=6, epochs=100..................................\n",
      "[CV 2/5; 10/12] END ...batch_size=6, epochs=100;, score=0.980 total time=   7.6s\n",
      "[CV 3/5; 10/12] START batch_size=6, epochs=100..................................\n",
      "[CV 3/5; 10/12] END ...batch_size=6, epochs=100;, score=1.000 total time=   5.8s\n",
      "[CV 4/5; 10/12] START batch_size=6, epochs=100..................................\n",
      "[CV 4/5; 10/12] END ...batch_size=6, epochs=100;, score=0.980 total time=   6.1s\n",
      "[CV 5/5; 10/12] START batch_size=6, epochs=100..................................\n",
      "[CV 5/5; 10/12] END ...batch_size=6, epochs=100;, score=1.000 total time=   5.4s\n",
      "[CV 1/5; 11/12] START batch_size=6, epochs=150..................................\n",
      "[CV 1/5; 11/12] END ...batch_size=6, epochs=150;, score=1.000 total time=  11.3s\n",
      "[CV 2/5; 11/12] START batch_size=6, epochs=150..................................\n",
      "[CV 2/5; 11/12] END ...batch_size=6, epochs=150;, score=0.980 total time=  11.3s\n",
      "[CV 3/5; 11/12] START batch_size=6, epochs=150..................................\n",
      "[CV 3/5; 11/12] END ...batch_size=6, epochs=150;, score=1.000 total time=   7.0s\n",
      "[CV 4/5; 11/12] START batch_size=6, epochs=150..................................\n",
      "[CV 4/5; 11/12] END ...batch_size=6, epochs=150;, score=0.960 total time=  11.4s\n",
      "[CV 5/5; 11/12] START batch_size=6, epochs=150..................................\n",
      "[CV 5/5; 11/12] END ...batch_size=6, epochs=150;, score=1.000 total time=   7.5s\n",
      "[CV 1/5; 12/12] START batch_size=6, epochs=250..................................\n",
      "[CV 1/5; 12/12] END ...batch_size=6, epochs=250;, score=1.000 total time=  11.2s\n",
      "[CV 2/5; 12/12] START batch_size=6, epochs=250..................................\n",
      "[CV 2/5; 12/12] END ...batch_size=6, epochs=250;, score=0.980 total time=  11.2s\n",
      "[CV 3/5; 12/12] START batch_size=6, epochs=250..................................\n",
      "[CV 3/5; 12/12] END ...batch_size=6, epochs=250;, score=1.000 total time=  21.3s\n",
      "[CV 4/5; 12/12] START batch_size=6, epochs=250..................................\n",
      "[CV 4/5; 12/12] END ...batch_size=6, epochs=250;, score=0.980 total time=  11.1s\n",
      "[CV 5/5; 12/12] START batch_size=6, epochs=250..................................\n",
      "[CV 5/5; 12/12] END ...batch_size=6, epochs=250;, score=1.000 total time=  11.0s\n"
     ]
    }
   ],
   "source": [
    "# Create the model\n",
    "M2 = KerasClassifier(build_fn = create_model,verbose = 0)\n",
    "# Define the grid search parameters\n",
    "batch_size = [4,5,6]\n",
    "epochs = [50,100,150,250]\n",
    "# Make a dictionary of the grid search parameters\n",
    "param_grid = dict(batch_size = batch_size,epochs = epochs)\n",
    "# Build and fit the GridSearchCV\n",
    "grid = GridSearchCV(estimator = M2,param_grid = param_grid,cv = KFold(),verbose = 10)\n",
    "grid_result = grid.fit(X_standardized,Y)"
   ]
  },
  {
   "cell_type": "code",
   "execution_count": 419,
   "metadata": {
    "ExecuteTime": {
     "end_time": "2023-02-16T14:08:40.860960Z",
     "start_time": "2023-02-16T14:08:40.846835Z"
    },
    "colab": {
     "base_uri": "https://localhost:8080/"
    },
    "id": "NGUhIaxKKEFk",
    "outputId": "a896e92b-ba7b-4385-df99-4b12f21d130d"
   },
   "outputs": [
    {
     "name": "stdout",
     "output_type": "stream",
     "text": [
      "Best : 0.9920000076293946, using {'batch_size': 4, 'epochs': 100}\n",
      "0.9879999995231629,0.01600000560284077 with: {'batch_size': 4, 'epochs': 50}\n",
      "0.9920000076293946,0.009797949627070889 with: {'batch_size': 4, 'epochs': 100}\n",
      "0.7960000038146973,0.3980753715112361 with: {'batch_size': 4, 'epochs': 150}\n",
      "0.9920000076293946,0.009797949627070889 with: {'batch_size': 4, 'epochs': 250}\n",
      "0.9920000076293946,0.009797949627070889 with: {'batch_size': 5, 'epochs': 50}\n",
      "0.9920000076293946,0.009797949627070889 with: {'batch_size': 5, 'epochs': 100}\n",
      "0.9879999995231629,0.01600000560284077 with: {'batch_size': 5, 'epochs': 150}\n",
      "0.9920000076293946,0.009797949627070889 with: {'batch_size': 5, 'epochs': 250}\n",
      "0.9920000076293946,0.009797949627070889 with: {'batch_size': 6, 'epochs': 50}\n",
      "0.9920000076293946,0.009797949627070889 with: {'batch_size': 6, 'epochs': 100}\n",
      "0.9879999995231629,0.01600000560284077 with: {'batch_size': 6, 'epochs': 150}\n",
      "0.9920000076293946,0.009797949627070889 with: {'batch_size': 6, 'epochs': 250}\n"
     ]
    }
   ],
   "source": [
    "# Summarize the results\n",
    "print('Best : {}, using {}'.format(grid_result.best_score_,grid_result.best_params_))\n",
    "means = grid_result.cv_results_['mean_test_score']\n",
    "stds = grid_result.cv_results_['std_test_score']\n",
    "params = grid_result.cv_results_['params']\n",
    "for mean, stdev, param in zip(means, stds, params):\n",
    "  print('{},{} with: {}'.format(mean, stdev, param))"
   ]
  },
  {
   "cell_type": "markdown",
   "metadata": {
    "id": "-Oxnqm2aTdYm"
   },
   "source": [
    "Result for best param "
   ]
  },
  {
   "cell_type": "code",
   "execution_count": 420,
   "metadata": {
    "id": "M3p-Ukp3SR26"
   },
   "outputs": [],
   "source": [
    "ANN2= keras.Sequential()\n",
    "ANN2.add(tf.keras.layers.Dense(20, input_dim=6,  activation='relu')) #1st layer or input layer\n",
    "ANN2.add(tf.keras.layers.Dense(10,  activation='relu')) #2nd layer\n",
    "ANN2.add(tf.keras.layers.Dense(10,  activation='relu')) #3nd layer\n",
    "ANN2.add(tf.keras.layers.Dense(1, activation='sigmoid')) #4rd layer"
   ]
  },
  {
   "cell_type": "code",
   "execution_count": 421,
   "metadata": {
    "id": "stSN74gsSRze"
   },
   "outputs": [],
   "source": [
    "# Compile model\n",
    "ANN2.compile(loss='binary_crossentropy', optimizer='adam', metrics=['accuracy'])"
   ]
  },
  {
   "cell_type": "code",
   "execution_count": 422,
   "metadata": {
    "colab": {
     "base_uri": "https://localhost:8080/"
    },
    "id": "FxDkv9BtSRw3",
    "outputId": "f41d0d01-7280-4c45-805a-c6885ed348e5"
   },
   "outputs": [
    {
     "name": "stdout",
     "output_type": "stream",
     "text": [
      "Model: \"sequential_7\"\n",
      "_________________________________________________________________\n",
      " Layer (type)                Output Shape              Param #   \n",
      "=================================================================\n",
      " dense_595 (Dense)           (None, 20)                140       \n",
      "                                                                 \n",
      " dense_596 (Dense)           (None, 10)                210       \n",
      "                                                                 \n",
      " dense_597 (Dense)           (None, 10)                110       \n",
      "                                                                 \n",
      " dense_598 (Dense)           (None, 1)                 11        \n",
      "                                                                 \n",
      "=================================================================\n",
      "Total params: 471\n",
      "Trainable params: 471\n",
      "Non-trainable params: 0\n",
      "_________________________________________________________________\n"
     ]
    }
   ],
   "source": [
    "ANN2.summary()"
   ]
  },
  {
   "cell_type": "code",
   "execution_count": 434,
   "metadata": {
    "colab": {
     "base_uri": "https://localhost:8080/"
    },
    "id": "asuiiY_MKEFl",
    "outputId": "cc19517c-8830-44bb-c4d7-88eb4a5a4428"
   },
   "outputs": [
    {
     "name": "stdout",
     "output_type": "stream",
     "text": [
      "Epoch 1/50\n",
      "44/44 [==============================] - 0s 3ms/step - loss: 6.1731e-05 - accuracy: 1.0000 - val_loss: 0.0091 - val_accuracy: 1.0000\n",
      "Epoch 2/50\n",
      "44/44 [==============================] - 0s 3ms/step - loss: 5.9457e-05 - accuracy: 1.0000 - val_loss: 0.0090 - val_accuracy: 1.0000\n",
      "Epoch 3/50\n",
      "44/44 [==============================] - 0s 3ms/step - loss: 5.7827e-05 - accuracy: 1.0000 - val_loss: 0.0090 - val_accuracy: 1.0000\n",
      "Epoch 4/50\n",
      "44/44 [==============================] - 0s 3ms/step - loss: 5.6134e-05 - accuracy: 1.0000 - val_loss: 0.0089 - val_accuracy: 1.0000\n",
      "Epoch 5/50\n",
      "44/44 [==============================] - 0s 3ms/step - loss: 5.4445e-05 - accuracy: 1.0000 - val_loss: 0.0093 - val_accuracy: 1.0000\n",
      "Epoch 6/50\n",
      "44/44 [==============================] - 0s 2ms/step - loss: 5.2274e-05 - accuracy: 1.0000 - val_loss: 0.0090 - val_accuracy: 1.0000\n",
      "Epoch 7/50\n",
      "44/44 [==============================] - 0s 3ms/step - loss: 5.1201e-05 - accuracy: 1.0000 - val_loss: 0.0090 - val_accuracy: 1.0000\n",
      "Epoch 8/50\n",
      "44/44 [==============================] - 0s 3ms/step - loss: 4.8662e-05 - accuracy: 1.0000 - val_loss: 0.0092 - val_accuracy: 1.0000\n",
      "Epoch 9/50\n",
      "44/44 [==============================] - 0s 3ms/step - loss: 4.7651e-05 - accuracy: 1.0000 - val_loss: 0.0092 - val_accuracy: 1.0000\n",
      "Epoch 10/50\n",
      "44/44 [==============================] - 0s 3ms/step - loss: 4.5736e-05 - accuracy: 1.0000 - val_loss: 0.0091 - val_accuracy: 1.0000\n",
      "Epoch 11/50\n",
      "44/44 [==============================] - 0s 3ms/step - loss: 4.4401e-05 - accuracy: 1.0000 - val_loss: 0.0090 - val_accuracy: 1.0000\n",
      "Epoch 12/50\n",
      "44/44 [==============================] - 0s 2ms/step - loss: 4.2634e-05 - accuracy: 1.0000 - val_loss: 0.0091 - val_accuracy: 1.0000\n",
      "Epoch 13/50\n",
      "44/44 [==============================] - 0s 2ms/step - loss: 4.2037e-05 - accuracy: 1.0000 - val_loss: 0.0090 - val_accuracy: 1.0000\n",
      "Epoch 14/50\n",
      "44/44 [==============================] - 0s 2ms/step - loss: 3.9634e-05 - accuracy: 1.0000 - val_loss: 0.0092 - val_accuracy: 1.0000\n",
      "Epoch 15/50\n",
      "44/44 [==============================] - 0s 3ms/step - loss: 3.8221e-05 - accuracy: 1.0000 - val_loss: 0.0092 - val_accuracy: 1.0000\n",
      "Epoch 16/50\n",
      "44/44 [==============================] - 0s 3ms/step - loss: 3.7427e-05 - accuracy: 1.0000 - val_loss: 0.0092 - val_accuracy: 1.0000\n",
      "Epoch 17/50\n",
      "44/44 [==============================] - 0s 2ms/step - loss: 3.6058e-05 - accuracy: 1.0000 - val_loss: 0.0091 - val_accuracy: 1.0000\n",
      "Epoch 18/50\n",
      "44/44 [==============================] - 0s 2ms/step - loss: 3.4883e-05 - accuracy: 1.0000 - val_loss: 0.0092 - val_accuracy: 1.0000\n",
      "Epoch 19/50\n",
      "44/44 [==============================] - 0s 3ms/step - loss: 3.3406e-05 - accuracy: 1.0000 - val_loss: 0.0095 - val_accuracy: 1.0000\n",
      "Epoch 20/50\n",
      "44/44 [==============================] - 0s 3ms/step - loss: 3.2608e-05 - accuracy: 1.0000 - val_loss: 0.0091 - val_accuracy: 1.0000\n",
      "Epoch 21/50\n",
      "44/44 [==============================] - 0s 2ms/step - loss: 3.1444e-05 - accuracy: 1.0000 - val_loss: 0.0094 - val_accuracy: 1.0000\n",
      "Epoch 22/50\n",
      "44/44 [==============================] - 0s 2ms/step - loss: 3.0231e-05 - accuracy: 1.0000 - val_loss: 0.0091 - val_accuracy: 1.0000\n",
      "Epoch 23/50\n",
      "44/44 [==============================] - 0s 3ms/step - loss: 2.9335e-05 - accuracy: 1.0000 - val_loss: 0.0091 - val_accuracy: 1.0000\n",
      "Epoch 24/50\n",
      "44/44 [==============================] - 0s 3ms/step - loss: 2.8254e-05 - accuracy: 1.0000 - val_loss: 0.0091 - val_accuracy: 1.0000\n",
      "Epoch 25/50\n",
      "44/44 [==============================] - 0s 3ms/step - loss: 2.7764e-05 - accuracy: 1.0000 - val_loss: 0.0090 - val_accuracy: 1.0000\n",
      "Epoch 26/50\n",
      "44/44 [==============================] - 0s 3ms/step - loss: 2.6551e-05 - accuracy: 1.0000 - val_loss: 0.0091 - val_accuracy: 1.0000\n",
      "Epoch 27/50\n",
      "44/44 [==============================] - 0s 3ms/step - loss: 2.5874e-05 - accuracy: 1.0000 - val_loss: 0.0093 - val_accuracy: 1.0000\n",
      "Epoch 28/50\n",
      "44/44 [==============================] - 0s 2ms/step - loss: 2.4840e-05 - accuracy: 1.0000 - val_loss: 0.0090 - val_accuracy: 1.0000\n",
      "Epoch 29/50\n",
      "44/44 [==============================] - 0s 3ms/step - loss: 2.4622e-05 - accuracy: 1.0000 - val_loss: 0.0092 - val_accuracy: 1.0000\n",
      "Epoch 30/50\n",
      "44/44 [==============================] - 0s 2ms/step - loss: 2.3643e-05 - accuracy: 1.0000 - val_loss: 0.0093 - val_accuracy: 1.0000\n",
      "Epoch 31/50\n",
      "44/44 [==============================] - 0s 2ms/step - loss: 2.2460e-05 - accuracy: 1.0000 - val_loss: 0.0088 - val_accuracy: 1.0000\n",
      "Epoch 32/50\n",
      "44/44 [==============================] - 0s 2ms/step - loss: 2.1950e-05 - accuracy: 1.0000 - val_loss: 0.0090 - val_accuracy: 1.0000\n",
      "Epoch 33/50\n",
      "44/44 [==============================] - 0s 3ms/step - loss: 2.1299e-05 - accuracy: 1.0000 - val_loss: 0.0089 - val_accuracy: 1.0000\n",
      "Epoch 34/50\n",
      "44/44 [==============================] - 0s 2ms/step - loss: 2.0519e-05 - accuracy: 1.0000 - val_loss: 0.0092 - val_accuracy: 1.0000\n",
      "Epoch 35/50\n",
      "44/44 [==============================] - 0s 2ms/step - loss: 2.0067e-05 - accuracy: 1.0000 - val_loss: 0.0091 - val_accuracy: 1.0000\n",
      "Epoch 36/50\n",
      "44/44 [==============================] - 0s 3ms/step - loss: 1.9298e-05 - accuracy: 1.0000 - val_loss: 0.0090 - val_accuracy: 1.0000\n",
      "Epoch 37/50\n",
      "44/44 [==============================] - 0s 3ms/step - loss: 1.8798e-05 - accuracy: 1.0000 - val_loss: 0.0091 - val_accuracy: 1.0000\n",
      "Epoch 38/50\n",
      "44/44 [==============================] - 0s 3ms/step - loss: 1.8395e-05 - accuracy: 1.0000 - val_loss: 0.0091 - val_accuracy: 1.0000\n",
      "Epoch 39/50\n",
      "44/44 [==============================] - 0s 3ms/step - loss: 1.7738e-05 - accuracy: 1.0000 - val_loss: 0.0093 - val_accuracy: 1.0000\n",
      "Epoch 40/50\n",
      "44/44 [==============================] - 0s 3ms/step - loss: 1.7365e-05 - accuracy: 1.0000 - val_loss: 0.0093 - val_accuracy: 1.0000\n",
      "Epoch 41/50\n",
      "44/44 [==============================] - 0s 3ms/step - loss: 1.6626e-05 - accuracy: 1.0000 - val_loss: 0.0094 - val_accuracy: 1.0000\n",
      "Epoch 42/50\n",
      "44/44 [==============================] - 0s 3ms/step - loss: 1.6072e-05 - accuracy: 1.0000 - val_loss: 0.0091 - val_accuracy: 1.0000\n",
      "Epoch 43/50\n",
      "44/44 [==============================] - 0s 2ms/step - loss: 1.5714e-05 - accuracy: 1.0000 - val_loss: 0.0094 - val_accuracy: 1.0000\n",
      "Epoch 44/50\n",
      "44/44 [==============================] - 0s 3ms/step - loss: 1.5345e-05 - accuracy: 1.0000 - val_loss: 0.0091 - val_accuracy: 1.0000\n",
      "Epoch 45/50\n",
      "44/44 [==============================] - 0s 2ms/step - loss: 1.4912e-05 - accuracy: 1.0000 - val_loss: 0.0091 - val_accuracy: 1.0000\n",
      "Epoch 46/50\n",
      "44/44 [==============================] - 0s 3ms/step - loss: 1.4354e-05 - accuracy: 1.0000 - val_loss: 0.0093 - val_accuracy: 1.0000\n",
      "Epoch 47/50\n",
      "44/44 [==============================] - 0s 3ms/step - loss: 1.3848e-05 - accuracy: 1.0000 - val_loss: 0.0095 - val_accuracy: 1.0000\n",
      "Epoch 48/50\n",
      "44/44 [==============================] - 0s 3ms/step - loss: 1.3465e-05 - accuracy: 1.0000 - val_loss: 0.0092 - val_accuracy: 1.0000\n",
      "Epoch 49/50\n",
      "44/44 [==============================] - 0s 2ms/step - loss: 1.3070e-05 - accuracy: 1.0000 - val_loss: 0.0091 - val_accuracy: 1.0000\n",
      "Epoch 50/50\n",
      "44/44 [==============================] - 0s 2ms/step - loss: 1.2911e-05 - accuracy: 1.0000 - val_loss: 0.0092 - val_accuracy: 1.0000\n"
     ]
    }
   ],
   "source": [
    "# Fit the model\n",
    "history2 = ANN2.fit(X, Y, validation_split=0.30, epochs= 50, batch_size=4)"
   ]
  },
  {
   "cell_type": "code",
   "execution_count": 435,
   "metadata": {
    "colab": {
     "base_uri": "https://localhost:8080/"
    },
    "id": "LXFlhmjJPNqD",
    "outputId": "a69e3024-0f79-4672-8af0-694282ebf284"
   },
   "outputs": [
    {
     "name": "stdout",
     "output_type": "stream",
     "text": [
      "8/8 [==============================] - 0s 2ms/step - loss: 0.0028 - accuracy: 1.0000\n",
      "100.0\n"
     ]
    }
   ],
   "source": [
    "scores = ANN2.evaluate(X, Y)\n",
    "print( scores[1]*100)"
   ]
  },
  {
   "cell_type": "code",
   "execution_count": 435,
   "metadata": {
    "id": "so74hn99clKW"
   },
   "outputs": [],
   "source": []
  },
  {
   "cell_type": "code",
   "execution_count": 436,
   "metadata": {
    "colab": {
     "base_uri": "https://localhost:8080/"
    },
    "id": "1yhdAiigYUJE",
    "outputId": "93922cd4-22e5-4cb9-fa7b-c60c9ab414c4"
   },
   "outputs": [
    {
     "data": {
      "text/plain": [
       "dict_keys(['loss', 'accuracy', 'val_loss', 'val_accuracy'])"
      ]
     },
     "execution_count": 436,
     "metadata": {},
     "output_type": "execute_result"
    }
   ],
   "source": [
    "# Visualize training history\n",
    "\n",
    "# list all data in history\n",
    "history2.history.keys()\n"
   ]
  },
  {
   "cell_type": "code",
   "execution_count": 437,
   "metadata": {
    "colab": {
     "base_uri": "https://localhost:8080/",
     "height": 573
    },
    "id": "Hkg_GSTYWKtS",
    "outputId": "ac445640-3c5e-450a-9b98-3314df22ccc2"
   },
   "outputs": [
    {
     "data": {
      "image/png": "[encoded data removed]",
      "text/plain": [
       "<Figure size 432x288 with 1 Axes>"
      ]
     },
     "metadata": {
      "needs_background": "light"
     },
     "output_type": "display_data"
    },
    {
     "data": {
      "image/png": "[encoded data removed]",
      "text/plain": [
       "<Figure size 432x288 with 1 Axes>"
      ]
     },
     "metadata": {
      "needs_background": "light"
     },
     "output_type": "display_data"
    }
   ],
   "source": [
    "# summarize history for accuracy\n",
    "import matplotlib.pyplot as plt\n",
    "plt.plot(history2.history['accuracy'])\n",
    "plt.plot(history2.history['val_accuracy'])\n",
    "plt.title('model accuracy')\n",
    "plt.ylabel('accuracy')\n",
    "plt.xlabel('epoch')\n",
    "plt.legend(['train', 'test'], loc='upper left')\n",
    "plt.show()\n",
    "\n",
    "# summarize history for loss\n",
    "plt.plot(history2.history['loss'])\n",
    "plt.plot(history2.history['val_loss'])\n",
    "plt.title('model loss')\n",
    "plt.ylabel('loss')\n",
    "plt.xlabel('epoch')\n",
    "plt.legend(['train', 'test'], loc='upper left')\n",
    "plt.show()\n"
   ]
  },
  {
   "cell_type": "code",
   "execution_count": null,
   "metadata": {
    "id": "QG2LKUlzYcHd"
   },
   "outputs": [],
   "source": []
  }
 ],
 "metadata": {
  "colab": {
   "provenance": []
  },
  "kernelspec": {
   "display_name": "Python 3 (ipykernel)",
   "language": "python",
   "name": "python3"
  },
  "language_info": {
   "codemirror_mode": {
    "name": "ipython",
    "version": 3
   },
   "file_extension": ".py",
   "mimetype": "text/x-python",
   "name": "python",
   "nbconvert_exporter": "python",
   "pygments_lexer": "ipython3",
   "version": "3.9.13"
  }
 },
 "nbformat": 4,
 "nbformat_minor": 1
}
