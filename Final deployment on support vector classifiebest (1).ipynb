{
 "cells": [
  {
   "cell_type": "code",
   "execution_count": 33,
   "metadata": {
    "id": "VxKtvqVtcmFD"
   },
   "outputs": [],
   "source": [
    "import streamlit as st\n",
    "from pickle import load\n",
    "import pandas as pd \n",
    "from sklearn.svm import SVC\n",
    "import pickle\n",
    "import numpy as np\n",
    "import warnings\n",
    "warnings.filterwarnings('ignore')"
   ]
  },
  {
   "cell_type": "code",
   "execution_count": 35,
   "metadata": {
    "id": "4e2AsgOodRgL",
    "scrolled": false
   },
   "outputs": [],
   "source": [
    "model= pickle.load(open(r\"C:\\Users\\lokes\\OneDrive\\Desktop\\SVC_Model.sav\" ,'rb'))"
   ]
  },
  {
   "cell_type": "code",
   "execution_count": 36,
   "metadata": {},
   "outputs": [],
   "source": [
    "def Bankruptcy_Prevention(input_data):\n",
    "    \n",
    "\n",
    "    # changing the input_data to numpy array\n",
    "    input_data_as_numpy_array = np.asarray(input_data)\n",
    "\n",
    "    # reshape the array as we are predicting for one instance\n",
    "    input_data_reshaped = input_data_as_numpy_array.reshape(1,-1)\n",
    "\n",
    "    prediction = model.predict(input_data_reshaped)\n",
    "    print(prediction)\n",
    "\n",
    "    if (prediction[0] == 0):\n",
    "      return 'Buisness show Bankruptcy'\n",
    "    else:\n",
    "      return 'Buisness show Non Bankruptcy'\n",
    "  "
   ]
  },
  {
   "cell_type": "code",
   "execution_count": 37,
   "metadata": {
    "id": "MHhRSndZdwM2"
   },
   "outputs": [],
   "source": [
    "def main():\n",
    "    \n",
    "    st.title('Bankruptcy Prevention System')\n",
    "    # getting the input data from the user\n",
    "    \n",
    "    industrial_risk = st.sidebar.selectbox('industrial_risk',('0','0.5','1'))\n",
    "    management_risk = st.sidebar.selectbox('management_risk',('0','0.5','1'))\n",
    "    financial_flexibility = st.sidebar.selectbox('financial flexibility',('0','0.5','1'))\n",
    "    credibility = st.sidebar.selectbox('credibility',('0','0.5','1'))\n",
    "    competitiveness = st.sidebar.selectbox('competitiveness',('0','0.5','1'))\n",
    "    operating_risk = st.sidebar.selectbox('operating risk',('0','0.5','1'))\n",
    "   \n",
    "    \n",
    "    \n",
    "    # code for Prediction\n",
    "    Conclusion = ''\n",
    "    \n",
    "    # creating a button for Prediction\n",
    "    \n",
    "    if st.button('Analyze'):\n",
    "        \n",
    "         Conclusion = Bankruptcy_Prevention ([industrial_risk, management_risk, financial_flexibility, credibility, competitiveness ,operating_risk])\n",
    "        \n",
    "        \n",
    "    st.success(Conclusion)\n",
    "    \n",
    "    \n",
    "    \n",
    "    \n",
    "    \n",
    "if __name__ == '__main__':\n",
    "    main()\n",
    "    "
   ]
  },
  {
   "cell_type": "code",
   "execution_count": null,
   "metadata": {},
   "outputs": [],
   "source": []
  },
  {
   "cell_type": "code",
   "execution_count": null,
   "metadata": {},
   "outputs": [],
   "source": []
  }
 ],
 "metadata": {
  "colab": {
   "provenance": []
  },
  "kernelspec": {
   "display_name": "Python 3 (ipykernel)",
   "language": "python",
   "name": "python3"
  },
  "language_info": {
   "codemirror_mode": {
    "name": "ipython",
    "version": 3
   },
   "file_extension": ".py",
   "mimetype": "text/x-python",
   "name": "python",
   "nbconvert_exporter": "python",
   "pygments_lexer": "ipython3",
   "version": "3.9.13"
  }
 },
 "nbformat": 4,
 "nbformat_minor": 1
}
